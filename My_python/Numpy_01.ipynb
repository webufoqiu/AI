{
 "cells": [
  {
   "cell_type": "markdown",
   "metadata": {},
   "source": [
    "### ndarray 于Python 原生list运算效率的对比"
   ]
  },
  {
   "cell_type": "code",
   "execution_count": 1,
   "metadata": {},
   "outputs": [],
   "source": [
    "import random\n",
    "import time\n",
    "import numpy as np\n",
    "\n"
   ]
  },
  {
   "cell_type": "code",
   "execution_count": 2,
   "metadata": {},
   "outputs": [
    {
     "name": "stdout",
     "output_type": "stream",
     "text": [
      "49999040.36357743 49999040.363582045\n",
      "0.6257514953613281 0.13160014152526855\n"
     ]
    }
   ],
   "source": [
    "a=[]\n",
    "for i in range(100000000):\n",
    "    a.append(random.random())\n",
    "t1=time.time()\n",
    "sum1=sum(a)\n",
    "t2=time.time()\n",
    "\n",
    "b=np.array(a)\n",
    "t3=time.time()\n",
    "sum2=np.sum(b)\n",
    "t4=time.time()\n",
    "print(sum1,sum2)\n",
    "\n",
    "print(t2-t1,t4-t3)"
   ]
  },
  {
   "cell_type": "markdown",
   "metadata": {},
   "source": [
    "### 创建一维数组"
   ]
  },
  {
   "cell_type": "code",
   "execution_count": 3,
   "metadata": {},
   "outputs": [
    {
     "name": "stdout",
     "output_type": "stream",
     "text": [
      "<class 'numpy.ndarray'>\n",
      "[1 2 3 4]\n",
      "[1 2 3] [0 1 2 3 4 5 6 7 8 9] [0 2 4 6 8]\n"
     ]
    }
   ],
   "source": [
    "list1=[1,2,3,4]\n",
    "oneArray=np.array(list1)\n",
    "print(type(oneArray))\n",
    "print(oneArray)\n",
    "\n",
    "#  直接传入列表方式\n",
    "a1=np.array([1,2,3])\n",
    "\n",
    "# 传入rang生成的序列\n",
    "a2=np.array(range(10))\n",
    "\n",
    "#使用numpy自带的np.arange()生成数组\n",
    "a3= np.arange(0,10,2)\n",
    "\n",
    "print(a1,a2,a3)"
   ]
  },
  {
   "cell_type": "code",
   "execution_count": 9,
   "metadata": {
    "scrolled": true
   },
   "outputs": [
    {
     "name": "stdout",
     "output_type": "stream",
     "text": [
      "[1. 2. 3.]\n",
      "<class 'numpy.ndarray'>\n",
      "float64\n",
      "<class 'numpy.float64'>\n"
     ]
    }
   ],
   "source": [
    "import numpy as np\n",
    "\n",
    "a = [1, 2, 3]\n",
    "b = np.array(a, dtype=np.float_)\n",
    "# 或者\n",
    "b = np.array(a, dtype=float)\n",
    "\n",
    "print(b)\n",
    "print(type(b))\n",
    "print(b.dtype)\n",
    "print(type(b[0]))"
   ]
  },
  {
   "cell_type": "markdown",
   "metadata": {},
   "source": [
    "### 创建二维数组"
   ]
  },
  {
   "cell_type": "code",
   "execution_count": 10,
   "metadata": {},
   "outputs": [
    {
     "name": "stdout",
     "output_type": "stream",
     "text": [
      "[[1 2]\n",
      " [3 4]\n",
      " [5 6]]\n",
      "<class 'numpy.ndarray'>\n",
      "[[[ 1  2]\n",
      "  [ 3  4]\n",
      "  [ 5  6]]\n",
      "\n",
      " [[11 12]\n",
      "  [13 14]\n",
      "  [15 16]]\n",
      "\n",
      " [[21 22]\n",
      "  [23 24]\n",
      "  [25 26]]]\n",
      "<class 'numpy.ndarray'>\n",
      "3\n"
     ]
    }
   ],
   "source": [
    "list2 =[[1,2],[3,4],[5,6]]\n",
    "twoArray=np.array(list2)\n",
    "print(twoArray)\n",
    "print(type(twoArray))\n",
    "\n",
    "list3=[[[1,2],[3,4],[5,6]],[[11,12],[13,14],[15,16]],[[21,22],[23,24],[25,26]]]\n",
    "threeArray=np.array(list3)\n",
    "print(threeArray)\n",
    "print(type(threeArray))\n"
   ]
  },
  {
   "cell_type": "markdown",
   "metadata": {},
   "source": [
    "###  NumPy数组常用属性"
   ]
  },
  {
   "cell_type": "code",
   "execution_count": 12,
   "metadata": {},
   "outputs": [
    {
     "name": "stdout",
     "output_type": "stream",
     "text": [
      "3\n",
      "(3, 3, 2)\n",
      "18\n"
     ]
    }
   ],
   "source": [
    "print(threeArray.ndim)\n",
    "print(threeArray.shape)\n",
    "print(threeArray.size)"
   ]
  },
  {
   "cell_type": "markdown",
   "metadata": {},
   "source": [
    "### 调整数组形状"
   ]
  },
  {
   "cell_type": "code",
   "execution_count": 16,
   "metadata": {},
   "outputs": [],
   "source": [
    "# 直接修改原数组的shape\n",
    "four = np.array([[1,2,3],[4,5,6]])\n",
    "# print(four.shape)\n",
    "# print(four)\n",
    "# four.shape=(3,2)\n",
    "# print(four.shape)\n",
    "# print(four)"
   ]
  },
  {
   "cell_type": "code",
   "execution_count": 18,
   "metadata": {},
   "outputs": [
    {
     "name": "stdout",
     "output_type": "stream",
     "text": [
      "[[1 2 3]\n",
      " [4 5 6]]\n",
      "[[1 2]\n",
      " [3 4]\n",
      " [5 6]]\n"
     ]
    }
   ],
   "source": [
    "# 修改shape,返回新数组\n",
    "four = np.array([[1,2,3],[4,5,6]])\n",
    "five=four.reshape(3,2)\n",
    "print(four)\n",
    "print(five)\n",
    "\n"
   ]
  },
  {
   "cell_type": "code",
   "execution_count": 19,
   "metadata": {},
   "outputs": [
    {
     "name": "stdout",
     "output_type": "stream",
     "text": [
      "[1 4 2 5 3 6]\n",
      "[1 2 3 4 5 6]\n"
     ]
    }
   ],
   "source": [
    "# 将多维数组变成一维数组\n",
    "four = np.array([[1,2,3],[4,5,6]])\n",
    "six=four.reshape((6,),order='F')\n",
    "print(six)\n",
    "six=four.reshape((6,),order='C')\n",
    "print(six)"
   ]
  },
  {
   "cell_type": "code",
   "execution_count": 24,
   "metadata": {},
   "outputs": [
    {
     "name": "stdout",
     "output_type": "stream",
     "text": [
      "[ 0  1  2  3  4  5  6  7  8  9 10 11 12 13 14 15 16 17 18 19 20 21 22 23]\n",
      "(24,)\n"
     ]
    }
   ],
   "source": [
    "t=np.arange(24)\n",
    "print(t)\n",
    "print(t.shape)"
   ]
  },
  {
   "cell_type": "code",
   "execution_count": 26,
   "metadata": {},
   "outputs": [
    {
     "name": "stdout",
     "output_type": "stream",
     "text": [
      "[[ 0  1  2  3  4  5]\n",
      " [ 6  7  8  9 10 11]\n",
      " [12 13 14 15 16 17]\n",
      " [18 19 20 21 22 23]]\n",
      "(4, 6)\n"
     ]
    }
   ],
   "source": [
    "t1=t.reshape((4,6))\n",
    "print(t1)\n",
    "print(t1.shape)"
   ]
  },
  {
   "cell_type": "code",
   "execution_count": 27,
   "metadata": {},
   "outputs": [
    {
     "name": "stdout",
     "output_type": "stream",
     "text": [
      "[[[ 0  1  2  3]\n",
      "  [ 4  5  6  7]\n",
      "  [ 8  9 10 11]]\n",
      "\n",
      " [[12 13 14 15]\n",
      "  [16 17 18 19]\n",
      "  [20 21 22 23]]]\n",
      "(2, 3, 4)\n"
     ]
    }
   ],
   "source": [
    "# 三维数组，2堆，3行，4列\n",
    "t2=t.reshape((2,3,4))\n",
    "print(t2)\n",
    "print(t2.shape)"
   ]
  },
  {
   "cell_type": "markdown",
   "metadata": {},
   "source": [
    "### 将数组转成list"
   ]
  },
  {
   "cell_type": "code",
   "execution_count": 30,
   "metadata": {},
   "outputs": [
    {
     "name": "stdout",
     "output_type": "stream",
     "text": [
      "[9, 10, 11, 12]\n",
      "<class 'list'>\n",
      "[[9, 11], [10, 12]]\n",
      "<class 'list'>\n"
     ]
    }
   ],
   "source": [
    "a= np.array([9,10,11,12])\n",
    "list_a = a.tolist()\n",
    "print(list_a)\n",
    "print(type(list_a))\n",
    "\n",
    "list_b=a.reshape((2,2),order=\"F\").tolist()\n",
    "print(list_b)\n",
    "print(type(list_b))"
   ]
  },
  {
   "cell_type": "markdown",
   "metadata": {},
   "source": [
    "### NumPy的数据类型"
   ]
  },
  {
   "cell_type": "code",
   "execution_count": 35,
   "metadata": {},
   "outputs": [
    {
     "name": "stdout",
     "output_type": "stream",
     "text": [
      "[1 2 3 4 5]\n",
      "2\n",
      "int16\n",
      "8\n",
      "int64\n"
     ]
    }
   ],
   "source": [
    "f=np.array([1,2,3,4,5],dtype=np.int16)\n",
    "print(f)\n",
    "# 返回数组中每个元素的字节单位长度\n",
    "print(f.itemsize)\n",
    "print(f.dtype)\n",
    "\n",
    "f1=f.astype(np.int64)\n",
    "print(f1.itemsize)\n",
    "print(f1.dtype)"
   ]
  },
  {
   "cell_type": "code",
   "execution_count": 41,
   "metadata": {},
   "outputs": [
    {
     "name": "stdout",
     "output_type": "stream",
     "text": [
      "0.1\n",
      "[0.23193846 0.92482237 0.62776341 0.0590378  0.9720257  0.00794329\n",
      " 0.27979352 0.51608692 0.18199252 0.15274558]\n",
      "[0.23 0.92 0.63 0.06 0.97 0.01 0.28 0.52 0.18 0.15]\n"
     ]
    }
   ],
   "source": [
    "print(round(random.random(),2))\n",
    "\n",
    "arr=np.array([random.random() for i in range(10)])\n",
    "print(arr)\n",
    "print(np.round(arr,2))"
   ]
  },
  {
   "cell_type": "markdown",
   "metadata": {},
   "source": [
    "### 数组的计算"
   ]
  },
  {
   "cell_type": "code",
   "execution_count": 42,
   "metadata": {},
   "outputs": [
    {
     "name": "stdout",
     "output_type": "stream",
     "text": [
      "[[ 2  3  4  5]\n",
      " [ 6  7  8  9]\n",
      " [10 11 12 13]\n",
      " [14 15 16 17]\n",
      " [18 19 20 21]\n",
      " [22 23 24 25]]\n",
      "[[ 0  2  4  6]\n",
      " [ 8 10 12 14]\n",
      " [16 18 20 22]\n",
      " [24 26 28 30]\n",
      " [32 34 36 38]\n",
      " [40 42 44 46]]\n",
      "[[ 0.   0.5  1.   1.5]\n",
      " [ 2.   2.5  3.   3.5]\n",
      " [ 4.   4.5  5.   5.5]\n",
      " [ 6.   6.5  7.   7.5]\n",
      " [ 8.   8.5  9.   9.5]\n",
      " [10.  10.5 11.  11.5]]\n"
     ]
    }
   ],
   "source": [
    "# numpy的广播机制，在运算过程中，加减乘除的数据被广播到所有元素上\n",
    "t1=np.arange(24).reshape((6,4))\n",
    "print(t1+2)\n",
    "print(t1*2)\n",
    "print(t1/2)"
   ]
  },
  {
   "cell_type": "code",
   "execution_count": 5,
   "metadata": {},
   "outputs": [
    {
     "name": "stdout",
     "output_type": "stream",
     "text": [
      "[[23 25 27 29]\n",
      " [31 33 35 37]\n",
      " [39 41 43 45]\n",
      " [47 49 51 53]\n",
      " [55 57 59 61]\n",
      " [63 65 67 69]]\n",
      "[[0.         0.04166667 0.08       0.11538462]\n",
      " [0.14814815 0.17857143 0.20689655 0.23333333]\n",
      " [0.25806452 0.28125    0.3030303  0.32352941]\n",
      " [0.34285714 0.36111111 0.37837838 0.39473684]\n",
      " [0.41025641 0.425      0.43902439 0.45238095]\n",
      " [0.46511628 0.47727273 0.48888889 0.5       ]]\n"
     ]
    }
   ],
   "source": [
    "t1=np.arange(24).reshape((6,4))\n",
    "t2=np.arange(23,47).reshape((6,4))\n",
    "# 左闭右开\n",
    "print(t1+t2)\n",
    "print(t1/t2)"
   ]
  },
  {
   "cell_type": "code",
   "execution_count": 44,
   "metadata": {},
   "outputs": [
    {
     "ename": "ValueError",
     "evalue": "operands could not be broadcast together with shapes (4,6) (3,6) ",
     "output_type": "error",
     "traceback": [
      "\u001b[1;31m---------------------------------------------------------------------------\u001b[0m",
      "\u001b[1;31mValueError\u001b[0m                                Traceback (most recent call last)",
      "\u001b[1;32m<ipython-input-44-4a636eca66fc>\u001b[0m in \u001b[0;36m<module>\u001b[1;34m\u001b[0m\n\u001b[0;32m      1\u001b[0m \u001b[0mt1\u001b[0m\u001b[1;33m=\u001b[0m\u001b[0mnp\u001b[0m\u001b[1;33m.\u001b[0m\u001b[0marange\u001b[0m\u001b[1;33m(\u001b[0m\u001b[1;36m24\u001b[0m\u001b[1;33m)\u001b[0m\u001b[1;33m.\u001b[0m\u001b[0mreshape\u001b[0m\u001b[1;33m(\u001b[0m\u001b[1;33m(\u001b[0m\u001b[1;36m4\u001b[0m\u001b[1;33m,\u001b[0m\u001b[1;36m6\u001b[0m\u001b[1;33m)\u001b[0m\u001b[1;33m)\u001b[0m\u001b[1;33m\u001b[0m\u001b[1;33m\u001b[0m\u001b[0m\n\u001b[0;32m      2\u001b[0m \u001b[0mt2\u001b[0m\u001b[1;33m=\u001b[0m\u001b[0mnp\u001b[0m\u001b[1;33m.\u001b[0m\u001b[0marange\u001b[0m\u001b[1;33m(\u001b[0m\u001b[1;36m18\u001b[0m\u001b[1;33m)\u001b[0m\u001b[1;33m.\u001b[0m\u001b[0mreshape\u001b[0m\u001b[1;33m(\u001b[0m\u001b[1;33m(\u001b[0m\u001b[1;36m3\u001b[0m\u001b[1;33m,\u001b[0m\u001b[1;36m6\u001b[0m\u001b[1;33m)\u001b[0m\u001b[1;33m)\u001b[0m\u001b[1;33m\u001b[0m\u001b[1;33m\u001b[0m\u001b[0m\n\u001b[1;32m----> 3\u001b[1;33m \u001b[0mprint\u001b[0m\u001b[1;33m(\u001b[0m\u001b[0mt1\u001b[0m\u001b[1;33m+\u001b[0m\u001b[0mt2\u001b[0m\u001b[1;33m)\u001b[0m\u001b[1;33m\u001b[0m\u001b[1;33m\u001b[0m\u001b[0m\n\u001b[0m",
      "\u001b[1;31mValueError\u001b[0m: operands could not be broadcast together with shapes (4,6) (3,6) "
     ]
    }
   ],
   "source": [
    "t1=np.arange(24).reshape((4,6))\n",
    "t2=np.arange(18).reshape((3,6))\n",
    "print(t1+t2)\n"
   ]
  },
  {
   "cell_type": "code",
   "execution_count": 8,
   "metadata": {},
   "outputs": [
    {
     "name": "stdout",
     "output_type": "stream",
     "text": [
      "[0 1 2 3 4 5]\n",
      "[[ 0  2  4  6  8 10]\n",
      " [ 6  8 10 12 14 16]\n",
      " [12 14 16 18 20 22]\n",
      " [18 20 22 24 26 28]]\n"
     ]
    }
   ],
   "source": [
    "# 特例：多维数组和一维数组进行计算\n",
    "\n",
    "t1=np.arange(24).reshape((4,6))\n",
    "t2=np.arange(6)\n",
    "print(t2)\n",
    "print(t1+t2)\n",
    "# 4行6列，1行6列"
   ]
  },
  {
   "cell_type": "code",
   "execution_count": 15,
   "metadata": {},
   "outputs": [
    {
     "name": "stdout",
     "output_type": "stream",
     "text": [
      "[5 7 9]\n",
      "[ 6 15]\n",
      "21\n"
     ]
    }
   ],
   "source": [
    "import numpy as np\n",
    "ax0=np.array([[1,2,3],[4,5,6]])\n",
    "print(np.sum(ax0,axis=0))   #在横向0轴上得到求和的值\n",
    "print(np.sum(ax0,axis=1))   #在纵向1轴上得到求和的值\n",
    "print(np.sum(ax0))"
   ]
  },
  {
   "cell_type": "code",
   "execution_count": 26,
   "metadata": {},
   "outputs": [
    {
     "name": "stdout",
     "output_type": "stream",
     "text": [
      "[[[ 0  1  2]\n",
      "  [ 3  4  5]\n",
      "  [ 6  7  8]\n",
      "  [ 9 10 11]]\n",
      "\n",
      " [[12 13 14]\n",
      "  [15 16 17]\n",
      "  [18 19 20]\n",
      "  [21 22 23]]]\n",
      "====================\n",
      "[[12 14 16]\n",
      " [18 20 22]\n",
      " [24 26 28]\n",
      " [30 32 34]]\n",
      "====================\n",
      "[[18 22 26]\n",
      " [66 70 74]]\n",
      "====================\n",
      "[[ 3 12 21 30]\n",
      " [39 48 57 66]]\n"
     ]
    }
   ],
   "source": [
    "import numpy as np\n",
    "ax1=np.arange(24).reshape(2,4,3)  #2堆，4行，3列\n",
    "print(ax1)\n",
    "print(\"=\"*20)\n",
    "print(np.sum(ax1,axis=0))  #在堆的方向得到求和的值，得到一个4行3列的二维数组\n",
    "print(\"=\"*20)\n",
    "print(np.sum(ax1,axis=1))  #在行方向上得到求和的值，得到一个2行3列的二维数组\n",
    "print(\"=\"*20)\n",
    "print(np.sum(ax1,axis=2))  #在列方向上得到求和的值，得到一个2行4列的二维数组"
   ]
  },
  {
   "cell_type": "code",
   "execution_count": 24,
   "metadata": {},
   "outputs": [
    {
     "name": "stdout",
     "output_type": "stream",
     "text": [
      "[[[ 0  1  2]\n",
      "  [ 3  4  5]\n",
      "  [ 6  7  8]\n",
      "  [ 9 10 11]]\n",
      "\n",
      " [[12 13 14]\n",
      "  [15 16 17]\n",
      "  [18 19 20]\n",
      "  [21 22 23]]]\n",
      "====================\n",
      "[[18 22 26]\n",
      " [66 70 74]]\n"
     ]
    }
   ],
   "source": [
    "ax1=np.arange(24).reshape(2,4,3)  #2堆，4行，3列\n",
    "print(ax1)\n"
   ]
  },
  {
   "cell_type": "code",
   "execution_count": 9,
   "metadata": {
    "scrolled": true
   },
   "outputs": [
    {
     "name": "stdout",
     "output_type": "stream",
     "text": [
      "[[0]\n",
      " [1]\n",
      " [2]\n",
      " [3]]\n",
      "[[ 0  1  2  3  4  5]\n",
      " [ 7  8  9 10 11 12]\n",
      " [14 15 16 17 18 19]\n",
      " [21 22 23 24 25 26]]\n"
     ]
    }
   ],
   "source": [
    "t1=np.arange(24).reshape((4,6))\n",
    "t2=np.arange(4).reshape((4,1))\n",
    "print(t2)\n",
    "print(t1+t2)\n",
    "# 4行6列，4行1列"
   ]
  },
  {
   "cell_type": "code",
   "execution_count": 27,
   "metadata": {},
   "outputs": [
    {
     "name": "stdout",
     "output_type": "stream",
     "text": [
      "2\n",
      "[2 3 4 5 6 7 8 9]\n",
      "[2 4 6]\n"
     ]
    }
   ],
   "source": [
    "import numpy as np\n",
    "arr=np.arange(10)\n",
    "print(arr[2])\n",
    "print(arr[2:])\n",
    "print(arr[2:7:2])\n"
   ]
  },
  {
   "cell_type": "code",
   "execution_count": 31,
   "metadata": {},
   "outputs": [
    {
     "name": "stdout",
     "output_type": "stream",
     "text": [
      "[[ 0  1  2  3]\n",
      " [ 4  5  6  7]\n",
      " [ 8  9 10 11]]\n",
      "====================\n",
      "[4 5 6 7]\n",
      "[4 5 6 7]\n",
      "[1 5 9]\n"
     ]
    }
   ],
   "source": [
    "import numpy as np\n",
    "arr2=np.arange(12).reshape(3,4)\n",
    "print(arr2)\n",
    "print('='*20)\n",
    "print(arr2[1])\n",
    "print(arr2[1,:])  \n",
    "print(arr2[:,1]) \n"
   ]
  },
  {
   "cell_type": "code",
   "execution_count": 40,
   "metadata": {
    "scrolled": false
   },
   "outputs": [
    {
     "name": "stdout",
     "output_type": "stream",
     "text": [
      "[[ 0  1  2  3]\n",
      " [ 4  5  6  7]\n",
      " [ 8  9 10 11]]\n",
      "2\n",
      "====================\n",
      "[[ 4  5  6  7]\n",
      " [ 8  9 10 11]]\n",
      "[[ 0  1  2  3]\n",
      " [ 8  9 10 11]]\n",
      "====================\n",
      "[[ 2  3]\n",
      " [ 6  7]\n",
      " [10 11]]\n",
      "[[ 0  2]\n",
      " [ 4  6]\n",
      " [ 8 10]]\n",
      "====================\n",
      "[0 5 7]\n"
     ]
    }
   ],
   "source": [
    "import numpy as np\n",
    "arr2=np.arange(12).reshape(3,4)\n",
    "print(arr2)\n",
    "print(arr2[0,2]) #取某一个值\n",
    "print('='*20)\n",
    "print(arr2[1:]) #切取连续多行\n",
    "print(arr2[[0,2]]) #切取不连续多行\n",
    "print('='*20)\n",
    "print(arr2[:,2:]) #切取连续多列\n",
    "print(arr2[:,[0,2]]) #切取不连续的列\n",
    "print('='*20)\n",
    "print(arr2[[0,1,1],[0,1,3]]) #取不连续的多个值，[[行行行...],[列列列...]]"
   ]
  },
  {
   "cell_type": "code",
   "execution_count": 46,
   "metadata": {},
   "outputs": [
    {
     "name": "stdout",
     "output_type": "stream",
     "text": [
      "[[1 2 3]\n",
      " [4 5 6]]\n",
      "[1 2 3 4 5 6 7 8 9]\n",
      "[[1 2 3]\n",
      " [4 5 6]\n",
      " [7 8 9]]\n",
      "[[1 2 3 5 5 5]\n",
      " [4 5 6 7 8 9]]\n",
      "[[ 1  2  3 10]\n",
      " [ 4  5  6 10]]\n"
     ]
    }
   ],
   "source": [
    "import numpy as np\n",
    "arr3= np.array([[1,2,3],[4,5,6]])\n",
    "print(arr3)\n",
    "print(np.append(arr3,[7,8,9]))\n",
    "print(np.append(arr3,[[7,8,9]],axis=0))\n",
    "print(np.append(arr3,[[5,5,5],[7,8,9]],axis=1))\n",
    "print(np.append(arr3,[[10],[10]],axis=1))"
   ]
  },
  {
   "cell_type": "code",
   "execution_count": 48,
   "metadata": {},
   "outputs": [
    {
     "name": "stdout",
     "output_type": "stream",
     "text": [
      "[ 1  2  3 11 12  4  5  6]\n",
      "[[ 1  2]\n",
      " [11 11]\n",
      " [ 3  4]\n",
      " [ 5  6]]\n",
      "[[ 1 11  2]\n",
      " [ 3 11  4]\n",
      " [ 5 11  6]]\n"
     ]
    }
   ],
   "source": [
    "arr4=np.array([[1,2],[3,4],[5,6]])\n",
    "print(np.insert(arr4,3,[11,12])) \n",
    "print(np.insert(arr4,1,11,axis=0))  #指定横向增加一样\n",
    "print(np.insert(arr4,1,11,axis=1))  #指定纵向增加3列"
   ]
  },
  {
   "cell_type": "code",
   "execution_count": 50,
   "metadata": {},
   "outputs": [
    {
     "name": "stdout",
     "output_type": "stream",
     "text": [
      "[ 0  1  2  3  4  6  7  8  9 10 11]\n",
      "[[ 0  2  3]\n",
      " [ 4  6  7]\n",
      " [ 8 10 11]]\n"
     ]
    }
   ],
   "source": [
    "arr5=np.arange(12).reshape(3,4)\n",
    "print(np.delete(arr5,5))\n",
    "print(np.delete(arr5,1,axis=1))"
   ]
  },
  {
   "cell_type": "code",
   "execution_count": 57,
   "metadata": {},
   "outputs": [
    {
     "name": "stdout",
     "output_type": "stream",
     "text": [
      "[5 2 6 2 7 5 6 8 2 9]\n",
      "[2 5 6 7 8 9]\n",
      "(array([2, 5, 6, 7, 8, 9]), array([1, 0, 2, 4, 7, 9], dtype=int64))\n",
      "(array([2, 5, 6, 7, 8, 9]), array([3, 2, 2, 1, 1, 1], dtype=int64))\n",
      "[2 5 6 7 8 9]\n",
      "[1 0 2 4 7 9]\n"
     ]
    }
   ],
   "source": [
    "arr6=np.array([5,2,6,2,7,5,6,8,2,9])\n",
    "uni=np.unique(arr6)\n",
    "print(arr6)\n",
    "print(uni)\n",
    "uni=np.unique(arr6,return_index=True)\n",
    "print(uni)\n",
    "uni=np.unique(arr6,return_counts=True)\n",
    "print(uni)\n",
    "uni,index=np.unique(arr6,return_index=True)\n",
    "print(uni)\n",
    "print(index)"
   ]
  },
  {
   "cell_type": "code",
   "execution_count": 62,
   "metadata": {},
   "outputs": [
    {
     "name": "stdout",
     "output_type": "stream",
     "text": [
      "[[1 2]\n",
      " [3 4]\n",
      " [5 6]\n",
      " [7 8]]\n",
      "[[1 2 5 6]\n",
      " [3 4 7 8]]\n",
      "====================\n",
      "[[[1 2]\n",
      "  [3 4]]\n",
      "\n",
      " [[5 6]\n",
      "  [7 8]]]\n",
      "[[[1 2]\n",
      "  [5 6]]\n",
      "\n",
      " [[3 4]\n",
      "  [7 8]]]\n",
      "====================\n",
      "[[ 0  1  2  3  4  5]\n",
      " [ 6  7  8  9 10 11]\n",
      " [12 13 14 15 16 17]\n",
      " [18 19 20 21 22 23]]\n",
      "====================\n",
      "[[ 0  1  2  3  4  5 12 13 14 15 16 17]\n",
      " [ 6  7  8  9 10 11 18 19 20 21 22 23]]\n"
     ]
    }
   ],
   "source": [
    "c1=np.array([[1,2],[3,4]])\n",
    "c2=np.array([[5,6],[7,8]])\n",
    "print(np.concatenate((c1,c2),axis=0))\n",
    "print(np.concatenate((c1,c2),axis=1))\n",
    "print('=='*10)\n",
    "print(np.stack((c1,c2),axis=0))\n",
    "print(np.stack((c1,c2),axis=1))\n",
    "print('=='*10)\n",
    "v1=[[0,1,2,3,4,5],[6,7,8,9,10,11]]\n",
    "v2=[[12,13,14,15,16,17],[18,19,20,21,22,23]]\n",
    "\n",
    "result=np.vstack((v1,v2))\n",
    "print(result)\n",
    "print('=='*10)\n",
    "result=np.hstack((v1,v2))\n",
    "print(result)"
   ]
  },
  {
   "cell_type": "code",
   "execution_count": 63,
   "metadata": {},
   "outputs": [
    {
     "name": "stdout",
     "output_type": "stream",
     "text": [
      "[array([[0, 1, 2]]), array([[3, 4, 5]]), array([[6, 7, 8]])]\n"
     ]
    }
   ],
   "source": [
    "split1=np.arange(9).reshape(3,3)\n",
    "re=np.split(split1,3)\n",
    "print(re)"
   ]
  },
  {
   "cell_type": "code",
   "execution_count": 66,
   "metadata": {},
   "outputs": [
    {
     "name": "stdout",
     "output_type": "stream",
     "text": [
      "nan <class 'float'>\n",
      "inf <class 'float'>\n",
      "23\n",
      "True\n",
      "23\n",
      "1\n",
      "[36. 40. 44. 48. nan 56.]\n",
      "[[ 0.  1.  2.  3.  4.  5.]\n",
      " [ 6.  7.  8.  9. 10. 11.]\n",
      " [12. 13. 14. 15. 16. 17.]\n",
      " [18. 19. 20. 21.  0. 23.]]\n"
     ]
    }
   ],
   "source": [
    "t1=np.nan\n",
    "t2=np.inf\n",
    "print(t1,type(t1))\n",
    "print(t2,type(t2))\n",
    "\n",
    "t=np.arange(24,dtype=float).reshape(4,6)\n",
    "print(np.count_nonzero(t))\n",
    "t[3,4]=np.nan\n",
    "print(t[3,4]!=t[3,4])\n",
    "print(np.count_nonzero(t))\n",
    "print(np.count_nonzero(t!=t))\n",
    "\n",
    "print(np.sum(t,axis=0))\n",
    "\n",
    "t[np.isnan(t)]=0\n",
    "print(t)"
   ]
  },
  {
   "cell_type": "code",
   "execution_count": 68,
   "metadata": {},
   "outputs": [
    {
     "name": "stdout",
     "output_type": "stream",
     "text": [
      "[[ 0  1  2  3]\n",
      " [ 4  5  6  7]\n",
      " [ 8  9 10 11]]\n",
      "[[ 0  4  8]\n",
      " [ 1  5  9]\n",
      " [ 2  6 10]\n",
      " [ 3  7 11]]\n"
     ]
    }
   ],
   "source": [
    "import numpy as np\n",
    "\n",
    "tran= np.arange(12).reshape(3,4)\n",
    "print(tran)\n",
    "print(np.transpose(tran))"
   ]
  },
  {
   "cell_type": "code",
   "execution_count": 22,
   "metadata": {},
   "outputs": [
    {
     "name": "stdout",
     "output_type": "stream",
     "text": [
      "a [0 2 3]\n",
      "b [1 2 3]\n",
      "c [0 2 3]\n",
      "d [1 2 3]\n"
     ]
    }
   ],
   "source": [
    "import numpy as np\n",
    "\n",
    "a = np.array([1, 2, 3])\n",
    "b = np.array(a, copy=True)  #默认 深拷贝\n",
    "c = np.array(a, copy=False) #浅拷贝 \n",
    "d = np.array(a) #默认深拷贝 \n",
    "a[0] = 0\n",
    "\n",
    "print(\"a\",a)\n",
    "print(\"b\",b)\n",
    "print(\"c\",c)\n",
    "print(\"d\",d)"
   ]
  },
  {
   "cell_type": "code",
   "execution_count": 27,
   "metadata": {},
   "outputs": [
    {
     "name": "stdout",
     "output_type": "stream",
     "text": [
      "[[[1 2 3]]]\n"
     ]
    }
   ],
   "source": [
    "import numpy as np\n",
    "\n",
    "a = [1, 2, 3]\n",
    "b = np.array(a, ndmin=3)\n",
    "#设置返回数组的最小维数\n",
    "print(b)"
   ]
  },
  {
   "cell_type": "code",
   "execution_count": 29,
   "metadata": {},
   "outputs": [
    {
     "name": "stdout",
     "output_type": "stream",
     "text": [
      "[[1 2 3]\n",
      " [4 5 6]]\n",
      "Numpy数组对象a的维度（形状）： (2, 3)\n",
      "[[1 2]\n",
      " [3 4]\n",
      " [5 6]]\n",
      "Numpy数组对象a的维度（形状）： (3, 2)\n"
     ]
    }
   ],
   "source": [
    "import numpy as np\n",
    "\n",
    "a = np.array([[1, 2, 3], [4, 5, 6]])\n",
    "print(a)\n",
    "print(\"Numpy数组对象a的维度（形状）：\",a.shape)\n",
    "a.shape = (3, 2)\n",
    "print(a)\n",
    "print(\"Numpy数组对象a的维度（形状）：\",a.shape)"
   ]
  },
  {
   "cell_type": "code",
   "execution_count": 30,
   "metadata": {},
   "outputs": [
    {
     "name": "stdout",
     "output_type": "stream",
     "text": [
      "  C_CONTIGUOUS : True\n",
      "  F_CONTIGUOUS : False\n",
      "  OWNDATA : True\n",
      "  WRITEABLE : True\n",
      "  ALIGNED : True\n",
      "  WRITEBACKIFCOPY : False\n",
      "  UPDATEIFCOPY : False\n",
      "\n"
     ]
    }
   ],
   "source": [
    "import numpy as np\n",
    "\n",
    "a = np.array([[1, 2, 3], [4, 5, 6]])\n",
    "print(a.flags)"
   ]
  },
  {
   "cell_type": "code",
   "execution_count": 34,
   "metadata": {},
   "outputs": [
    {
     "name": "stdout",
     "output_type": "stream",
     "text": [
      "[1.        +0.j         0.70710678+0.70710678j]\n",
      "2\n",
      "[1.         0.70710678]\n",
      "float64\n"
     ]
    }
   ],
   "source": [
    "import numpy as np\n",
    "\n",
    "x = np.sqrt([1+0j, 0+1j])\n",
    "print(x)\n",
    "print(x.size)\n",
    "print(x.real)\n",
    "print(x.real.dtype)"
   ]
  },
  {
   "cell_type": "code",
   "execution_count": 35,
   "metadata": {},
   "outputs": [
    {
     "name": "stdout",
     "output_type": "stream",
     "text": [
      "inf\n",
      "-inf\n",
      "0.0\n",
      "-0.0\n",
      "nan\n",
      "2.718281828459045\n",
      "3.141592653589793\n",
      "0.5772156649015329\n",
      "None\n"
     ]
    }
   ],
   "source": [
    "print(np.inf)\n",
    "print(np.NINF)\n",
    "print(np.PZERO)\n",
    "print(np.NZERO)\n",
    "print(np.nan)\n",
    "print(np.e)\n",
    "print(np.pi)\n",
    "print(np.euler_gamma)\n",
    "print(np.newaxis)"
   ]
  },
  {
   "cell_type": "code",
   "execution_count": 46,
   "metadata": {},
   "outputs": [
    {
     "name": "stdout",
     "output_type": "stream",
     "text": [
      "[[         0 1072693248]\n",
      " [         0          0]\n",
      " [1719614413 1072079006]\n",
      " [1719614412 1072079006]]\n"
     ]
    }
   ],
   "source": [
    "import numpy as np\n",
    "\n",
    "x = np.empty((4,2), dtype=int)\n",
    "print(x)"
   ]
  },
  {
   "cell_type": "code",
   "execution_count": 48,
   "metadata": {},
   "outputs": [
    {
     "name": "stdout",
     "output_type": "stream",
     "text": [
      "[[0. 0.]\n",
      " [0. 0.]\n",
      " [0. 0.]]\n"
     ]
    }
   ],
   "source": [
    "import numpy as np\n",
    "\n",
    "x = np.zeros((3,2))\n",
    "print(x)"
   ]
  },
  {
   "cell_type": "code",
   "execution_count": 50,
   "metadata": {},
   "outputs": [
    {
     "name": "stdout",
     "output_type": "stream",
     "text": [
      "[[1. 1.]\n",
      " [1. 1.]\n",
      " [1. 1.]]\n"
     ]
    }
   ],
   "source": [
    "import numpy as np\n",
    "x = np.ones((3,2))\n",
    "print(x)"
   ]
  },
  {
   "cell_type": "code",
   "execution_count": 51,
   "metadata": {},
   "outputs": [
    {
     "name": "stdout",
     "output_type": "stream",
     "text": [
      "[0.         1.66666667 3.33333333]\n",
      "[0.         1.66666667 3.33333333 5.        ]\n"
     ]
    }
   ],
   "source": [
    "import numpy as np\n",
    "\n",
    "a = np.linspace(0, 5, 3, endpoint=False)\n",
    "b = np.linspace(0, 5, 4, endpoint=True)\n",
    "\n",
    "print(a)\n",
    "print(b)"
   ]
  },
  {
   "cell_type": "code",
   "execution_count": 52,
   "metadata": {},
   "outputs": [
    {
     "name": "stdout",
     "output_type": "stream",
     "text": [
      "(array([ 0. ,  2.5,  5. ,  7.5, 10. ]), 2.5)\n"
     ]
    }
   ],
   "source": [
    "import numpy as np\n",
    "\n",
    "a = np.linspace(0, 10, 5, retstep=True)\n",
    "print(a)"
   ]
  },
  {
   "cell_type": "code",
   "execution_count": 53,
   "metadata": {},
   "outputs": [
    {
     "name": "stdout",
     "output_type": "stream",
     "text": [
      "[ 0  2  5  7 10]\n",
      "[ 0.   2.5  5.   7.5 10. ]\n"
     ]
    }
   ],
   "source": [
    "import numpy as np\n",
    "\n",
    "a = np.linspace(0, 10, 5, dtype=int)\n",
    "b = np.linspace(0, 10, 5)\n",
    "print(a)\n",
    "print(b)"
   ]
  },
  {
   "cell_type": "code",
   "execution_count": 59,
   "metadata": {},
   "outputs": [
    {
     "name": "stdout",
     "output_type": "stream",
     "text": [
      "[ 2.  4.  8. 16. 32. 64.]\n"
     ]
    }
   ],
   "source": [
    "import numpy as np\n",
    "\n",
    "a = np.logspace(1, 6, num=6 ,base=2)\n",
    "print(a)"
   ]
  },
  {
   "cell_type": "code",
   "execution_count": 60,
   "metadata": {},
   "outputs": [
    {
     "name": "stdout",
     "output_type": "stream",
     "text": [
      "[   10.   100.  1000. 10000.]\n",
      "[ 2.  4.  8. 16. 32. 64.]\n"
     ]
    }
   ],
   "source": [
    "import numpy as np\n",
    "\n",
    "a = np.logspace(1, 4, num=4)\n",
    "b = np.logspace(1, 6, num=6 ,base=2)\n",
    "print(a)\n",
    "print(b)\n"
   ]
  },
  {
   "cell_type": "code",
   "execution_count": 61,
   "metadata": {},
   "outputs": [
    {
     "name": "stdout",
     "output_type": "stream",
     "text": [
      "[1. 2. 4. 8.]\n",
      "[ 1.  3.  9. 27.]\n"
     ]
    }
   ],
   "source": [
    "import numpy as np\n",
    "'''\n",
    "    原理：\n",
    "    公比：d=(stop/start)**(1/(n-1))\n",
    "    得到：start ,start*d,start*d*d,start*d*d*d,...,stop\n",
    "''' \n",
    "\n",
    "\n",
    "a = np.geomspace(1, 8, num=4)\n",
    "b = np.geomspace(1, 27, num=4)\n",
    "print(a)\n",
    "print(b)"
   ]
  },
  {
   "cell_type": "code",
   "execution_count": 62,
   "metadata": {},
   "outputs": [
    {
     "name": "stdout",
     "output_type": "stream",
     "text": [
      "[b'H' b'e' b'l' b'l' b'o' b' ' b'W' b'o' b'r' b'l' b'd']\n"
     ]
    }
   ],
   "source": [
    "import numpy as np\n",
    "\n",
    "a = np.frombuffer(b'Hello World', dtype='S1')\n",
    "print(a)"
   ]
  },
  {
   "cell_type": "code",
   "execution_count": 70,
   "metadata": {},
   "outputs": [
    {
     "name": "stdout",
     "output_type": "stream",
     "text": [
      "[b'H' b'e' b'l' b'l' b'o' b' ' b'W' b'o' b'r' b'l' b'd']\n",
      "<class 'numpy.ndarray'>\n",
      "(11,)\n",
      "11\n",
      "[b'W' b'o' b'r' b'l']\n"
     ]
    }
   ],
   "source": [
    "import numpy as np\n",
    "#buffer 是字符串的时候，Python3 默认str是Unicode 类型，所以要转成 bytestring 在原 str 前加上 b。\n",
    "a = np.frombuffer(b'Hello World', dtype='S1')\n",
    "print(a)\n",
    "print(type(a))\n",
    "print(a.shape)\n",
    "print(a.size)\n",
    "b = np.frombuffer(b'Hello World',count=4,offset=6 ,dtype='S1')\n",
    "print(b)"
   ]
  },
  {
   "cell_type": "code",
   "execution_count": 71,
   "metadata": {},
   "outputs": [
    {
     "name": "stdout",
     "output_type": "stream",
     "text": [
      "array('i', [1, 2, 3, 4])\n",
      "[1 2 3 4]\n",
      "array('i', [10, 2, 3, 4])\n",
      "[10  2  3  4]\n"
     ]
    }
   ],
   "source": [
    "import numpy as np\n",
    "import array\n",
    "\n",
    "a = array.array('i', [1, 2, 3, 4])\n",
    "print(a)\n",
    "\n",
    "na = np.frombuffer(a, dtype=np.int_)\n",
    "print(na)\n",
    "\n",
    "a[0] = 10\n",
    "print(a)\n",
    "print(na)"
   ]
  },
  {
   "cell_type": "code",
   "execution_count": 72,
   "metadata": {},
   "outputs": [
    {
     "name": "stdout",
     "output_type": "stream",
     "text": [
      "[1 2 3 4]\n",
      "array('i', [1, 2, 3, 4, 5])\n",
      "[-2147059312         479 -1393962512         479]\n"
     ]
    }
   ],
   "source": [
    "import numpy as np\n",
    "import array\n",
    "\n",
    "a = array.array(\"i\", [1, 2, 3, 4])\n",
    "na = np.frombuffer(a, dtype=int)\n",
    "print(na)\n",
    "\n",
    "a.append(5)\n",
    "print(a)\n",
    "print(na)"
   ]
  },
  {
   "cell_type": "code",
   "execution_count": 73,
   "metadata": {},
   "outputs": [
    {
     "name": "stdout",
     "output_type": "stream",
     "text": [
      "<generator object <genexpr> at 0x000001DF80075B30>\n",
      "[ 0  1  4  9 16]\n"
     ]
    }
   ],
   "source": [
    "import numpy as np\n",
    "\n",
    "iterable = (x * x for x in range(5))\n",
    "print(iterable)\n",
    "a = np.fromiter(iterable, int)\n",
    "print(a)"
   ]
  },
  {
   "cell_type": "code",
   "execution_count": 74,
   "metadata": {},
   "outputs": [
    {
     "name": "stdout",
     "output_type": "stream",
     "text": [
      "<generator object <genexpr> at 0x000001DF80075CF0>\n"
     ]
    }
   ],
   "source": [
    "import numpy as np\n",
    "\n",
    "iterable = (x * x for x in range(5))\n",
    "a = np.array(iterable)\n",
    "print(a)"
   ]
  },
  {
   "cell_type": "code",
   "execution_count": 77,
   "metadata": {},
   "outputs": [
    {
     "name": "stdout",
     "output_type": "stream",
     "text": [
      "[0 1 2 3 4 5]\n",
      "-------------------\n",
      "[1 1 1 1 1 1]\n",
      "[0 0 0 0 0 0]\n",
      "[0.1 0.1 0.1 0.1 0.1 0.1]\n",
      "int32\n"
     ]
    }
   ],
   "source": [
    "import numpy as np\n",
    "\n",
    "x = np.arange(6, dtype=int)\n",
    "print(x)\n",
    "print('-------------------')\n",
    "a = np.full_like(x, 1)\n",
    "b = np.full_like(x, 0.1)\n",
    "c = np.full_like(x, 0.1, dtype=np.double)\n",
    "\n",
    "print(a)\n",
    "print(b)\n",
    "print(c)\n",
    "print(a.dtype)"
   ]
  },
  {
   "cell_type": "code",
   "execution_count": 76,
   "metadata": {},
   "outputs": [
    {
     "name": "stdout",
     "output_type": "stream",
     "text": [
      "<class 'numpy.dtype'>\n"
     ]
    }
   ],
   "source": [
    "print(np.dtype)"
   ]
  },
  {
   "cell_type": "code",
   "execution_count": 80,
   "metadata": {},
   "outputs": [
    {
     "name": "stdout",
     "output_type": "stream",
     "text": [
      "2021-03-01\n",
      "datetime64[D]\n"
     ]
    }
   ],
   "source": [
    "import numpy as np\n",
    "\n",
    "a = np.datetime64('2021-03-01')\n",
    "print(a)\n",
    "print(a.dtype)"
   ]
  },
  {
   "cell_type": "code",
   "execution_count": 83,
   "metadata": {},
   "outputs": [
    {
     "name": "stdout",
     "output_type": "stream",
     "text": [
      "2021-03\n",
      "datetime64[M]\n"
     ]
    }
   ],
   "source": [
    "a = np.datetime64('2021-03')\n",
    "print(a)\n",
    "print(a.dtype)"
   ]
  },
  {
   "cell_type": "code",
   "execution_count": 87,
   "metadata": {},
   "outputs": [
    {
     "name": "stdout",
     "output_type": "stream",
     "text": [
      "2021-03-04 2021-03-11\n"
     ]
    }
   ],
   "source": [
    "import numpy as np\n",
    "\n",
    "a = np.datetime64('2021-03-07', 'W')\n",
    "b = np.datetime64('2021-03-11', 'W')\n",
    "print(a, b)"
   ]
  },
  {
   "cell_type": "code",
   "execution_count": 88,
   "metadata": {},
   "outputs": [
    {
     "name": "stdout",
     "output_type": "stream",
     "text": [
      "datetime64[m]\n"
     ]
    }
   ],
   "source": [
    "import numpy as np\n",
    "\n",
    "a = np.datetime64('2021-03-08 20:00')\n",
    "print(a.dtype)\n"
   ]
  },
  {
   "cell_type": "code",
   "execution_count": 90,
   "metadata": {},
   "outputs": [
    {
     "name": "stdout",
     "output_type": "stream",
     "text": [
      "datetime64[m]\n",
      "2019-03-01\n",
      "True\n"
     ]
    }
   ],
   "source": [
    "import numpy as np\n",
    "\n",
    "a = np.datetime64('2021-03-08 20:00')\n",
    "print(a.dtype)\n",
    "b = np.datetime64('2019-03', 'D')\n",
    "print(b)\n",
    "print(np.datetime64('2019-03') == np.datetime64('2019-03-01'))"
   ]
  },
  {
   "cell_type": "code",
   "execution_count": 92,
   "metadata": {},
   "outputs": [
    {
     "name": "stdout",
     "output_type": "stream",
     "text": [
      "['2021-02-01' '2021-02-02' '2021-02-03' '2021-02-04' '2021-02-05'\n",
      " '2021-02-06' '2021-02-07' '2021-02-08' '2021-02-09' '2021-02-10'\n",
      " '2021-02-11' '2021-02-12' '2021-02-13' '2021-02-14' '2021-02-15'\n",
      " '2021-02-16' '2021-02-17' '2021-02-18' '2021-02-19' '2021-02-20'\n",
      " '2021-02-21' '2021-02-22' '2021-02-23' '2021-02-24' '2021-02-25'\n",
      " '2021-02-26' '2021-02-27' '2021-02-28']\n",
      "['2021-01-30' '2021-02-02' '2021-02-05' '2021-02-08' '2021-02-11'\n",
      " '2021-02-14' '2021-02-17' '2021-02-20' '2021-02-23' '2021-02-26']\n"
     ]
    },
    {
     "data": {
      "text/plain": [
       "'\\n\\n\\n'"
      ]
     },
     "execution_count": 92,
     "metadata": {},
     "output_type": "execute_result"
    }
   ],
   "source": [
    "import numpy as np\n",
    "\n",
    "a = np.arange('2021-02', '2021-03', dtype='datetime64[D]')\n",
    "print(a)\n",
    "\n",
    "'''\n",
    "\n",
    "'''\n",
    "b = np.arange('2021-02', '2021-03', dtype='datetime64[3D]')\n",
    "print(b)\n",
    "'''\n",
    "\n",
    "\n",
    "'''"
   ]
  },
  {
   "cell_type": "code",
   "execution_count": 94,
   "metadata": {},
   "outputs": [
    {
     "name": "stdout",
     "output_type": "stream",
     "text": [
      "['2021-01-30' '2021-02-02' '2021-02-05' '2021-02-08' '2021-02-11'\n",
      " '2021-02-14' '2021-02-17' '2021-02-20' '2021-02-23' '2021-02-26']\n"
     ]
    }
   ],
   "source": [
    "b = np.arange('2021-02', '2021-03', dtype='datetime64[3D]')\n",
    "print(b)"
   ]
  },
  {
   "cell_type": "code",
   "execution_count": 93,
   "metadata": {},
   "outputs": [
    {
     "name": "stdout",
     "output_type": "stream",
     "text": [
      "['2019-02-01' '2019-02-04' '2019-02-07' '2019-02-10' '2019-02-13'\n",
      " '2019-02-16' '2019-02-19' '2019-02-22' '2019-02-25']\n"
     ]
    }
   ],
   "source": [
    "a = np.arange('2019-02', '2019-03', dtype='datetime64[3D]')\n",
    "print(a)"
   ]
  },
  {
   "cell_type": "code",
   "execution_count": 95,
   "metadata": {},
   "outputs": [
    {
     "name": "stdout",
     "output_type": "stream",
     "text": [
      "1 days timedelta64[D]\n",
      "960 minutes timedelta64[m]\n",
      "1 days timedelta64[D]\n"
     ]
    }
   ],
   "source": [
    "import numpy as np\n",
    "\n",
    "a = np.datetime64('2021-03-08') - np.datetime64('2021-03-07')\n",
    "b = np.datetime64('2021-03-08') - np.datetime64('2021-03-07 08:00')\n",
    "c = np.datetime64('2021-03-08') - np.datetime64('2021-03-07 23:00', 'D')\n",
    "\n",
    "print(a, a.dtype)\n",
    "print(b, b.dtype)\n",
    "print(c, c.dtype)"
   ]
  },
  {
   "cell_type": "code",
   "execution_count": 97,
   "metadata": {},
   "outputs": [
    {
     "name": "stdout",
     "output_type": "stream",
     "text": [
      "2021-04-10\n"
     ]
    }
   ],
   "source": [
    "d = np.datetime64('2021-03') + np.timedelta64(40, 'D')\n",
    "print(d)"
   ]
  },
  {
   "cell_type": "code",
   "execution_count": 98,
   "metadata": {},
   "outputs": [
    {
     "ename": "TypeError",
     "evalue": "Cannot cast NumPy timedelta64 scalar from metadata [M] to [D] according to the rule 'same_kind'",
     "output_type": "error",
     "traceback": [
      "\u001b[1;31m---------------------------------------------------------------------------\u001b[0m",
      "\u001b[1;31mTypeError\u001b[0m                                 Traceback (most recent call last)",
      "\u001b[1;32m<ipython-input-98-e3cda8ff0cd0>\u001b[0m in \u001b[0;36m<module>\u001b[1;34m\u001b[0m\n\u001b[0;32m      2\u001b[0m \u001b[1;33m\u001b[0m\u001b[0m\n\u001b[0;32m      3\u001b[0m \u001b[0ma\u001b[0m \u001b[1;33m=\u001b[0m \u001b[0mnp\u001b[0m\u001b[1;33m.\u001b[0m\u001b[0mtimedelta64\u001b[0m\u001b[1;33m(\u001b[0m\u001b[1;36m1\u001b[0m\u001b[1;33m,\u001b[0m \u001b[1;34m'M'\u001b[0m\u001b[1;33m)\u001b[0m\u001b[1;33m\u001b[0m\u001b[1;33m\u001b[0m\u001b[0m\n\u001b[1;32m----> 4\u001b[1;33m \u001b[0mb\u001b[0m \u001b[1;33m=\u001b[0m \u001b[0mnp\u001b[0m\u001b[1;33m.\u001b[0m\u001b[0mtimedelta64\u001b[0m\u001b[1;33m(\u001b[0m\u001b[0ma\u001b[0m\u001b[1;33m,\u001b[0m \u001b[1;34m'D'\u001b[0m\u001b[1;33m)\u001b[0m\u001b[1;33m\u001b[0m\u001b[1;33m\u001b[0m\u001b[0m\n\u001b[0m",
      "\u001b[1;31mTypeError\u001b[0m: Cannot cast NumPy timedelta64 scalar from metadata [M] to [D] according to the rule 'same_kind'"
     ]
    }
   ],
   "source": [
    "import numpy as np\n",
    "\n",
    "a = np.timedelta64(1, 'M')\n",
    "b = np.timedelta64(a, 'D')"
   ]
  },
  {
   "cell_type": "code",
   "execution_count": 103,
   "metadata": {},
   "outputs": [
    {
     "name": "stdout",
     "output_type": "stream",
     "text": [
      "2021-03-01 00:00:00 <class 'datetime.datetime'>\n",
      "2021-03-01 datetime64[D]\n",
      "2021-03-01 <class 'datetime.date'>\n"
     ]
    }
   ],
   "source": [
    "import numpy as np\n",
    "import datetime\n",
    "\n",
    "dt1 = datetime.datetime(2021, 3, 1)\n",
    "print(dt1,type(dt1))\n",
    "dt64 = np.datetime64(dt, 'D')\n",
    "print(dt64, dt64.dtype)\n",
    "\n",
    "dt2 = dt64.astype(datetime.datetime)\n",
    "print(dt2,type(dt2))"
   ]
  },
  {
   "cell_type": "code",
   "execution_count": 105,
   "metadata": {},
   "outputs": [
    {
     "name": "stdout",
     "output_type": "stream",
     "text": [
      "2021-03-08\n"
     ]
    },
    {
     "ename": "ValueError",
     "evalue": "Non-business day date in busday_offset",
     "output_type": "error",
     "traceback": [
      "\u001b[1;31m---------------------------------------------------------------------------\u001b[0m",
      "\u001b[1;31mValueError\u001b[0m                                Traceback (most recent call last)",
      "\u001b[1;32m<ipython-input-105-07af8873888f>\u001b[0m in \u001b[0;36m<module>\u001b[1;34m\u001b[0m\n\u001b[0;32m      3\u001b[0m \u001b[0ma\u001b[0m \u001b[1;33m=\u001b[0m \u001b[0mnp\u001b[0m\u001b[1;33m.\u001b[0m\u001b[0mbusday_offset\u001b[0m\u001b[1;33m(\u001b[0m\u001b[1;34m'2021-03-05'\u001b[0m\u001b[1;33m,\u001b[0m \u001b[1;36m1\u001b[0m\u001b[1;33m)\u001b[0m\u001b[1;33m\u001b[0m\u001b[1;33m\u001b[0m\u001b[0m\n\u001b[0;32m      4\u001b[0m \u001b[0mprint\u001b[0m\u001b[1;33m(\u001b[0m\u001b[0ma\u001b[0m\u001b[1;33m)\u001b[0m\u001b[1;33m\u001b[0m\u001b[1;33m\u001b[0m\u001b[0m\n\u001b[1;32m----> 5\u001b[1;33m \u001b[0mb\u001b[0m \u001b[1;33m=\u001b[0m \u001b[0mnp\u001b[0m\u001b[1;33m.\u001b[0m\u001b[0mbusday_offset\u001b[0m\u001b[1;33m(\u001b[0m\u001b[1;34m'2021-03-06'\u001b[0m\u001b[1;33m,\u001b[0m \u001b[1;36m1\u001b[0m\u001b[1;33m)\u001b[0m\u001b[1;33m\u001b[0m\u001b[1;33m\u001b[0m\u001b[0m\n\u001b[0m\u001b[0;32m      6\u001b[0m \u001b[0mprint\u001b[0m\u001b[1;33m(\u001b[0m\u001b[0mb\u001b[0m\u001b[1;33m)\u001b[0m\u001b[1;33m\u001b[0m\u001b[1;33m\u001b[0m\u001b[0m\n",
      "\u001b[1;32m<__array_function__ internals>\u001b[0m in \u001b[0;36mbusday_offset\u001b[1;34m(*args, **kwargs)\u001b[0m\n",
      "\u001b[1;31mValueError\u001b[0m: Non-business day date in busday_offset"
     ]
    }
   ],
   "source": [
    "import numpy as np\n",
    "\n",
    "a = np.busday_offset('2021-03-05', 1)\n",
    "print(a)\n",
    "b = np.busday_offset('2021-03-06', 1)\n",
    "print(b)"
   ]
  },
  {
   "cell_type": "code",
   "execution_count": 106,
   "metadata": {},
   "outputs": [
    {
     "name": "stdout",
     "output_type": "stream",
     "text": [
      "2021-03-09\n",
      "2021-03-08\n",
      "2021-03-08\n",
      "2021-03-05\n"
     ]
    }
   ],
   "source": [
    "import numpy as np\n",
    "\n",
    "a = np.busday_offset('2021-03-06', 1, roll='forward')\n",
    "b = np.busday_offset('2021-03-06', 1, roll='backward')\n",
    "print(a)\n",
    "print(b)\n",
    "\n",
    "c = np.busday_offset('2021-03-06', 0, roll='forward')\n",
    "d = np.busday_offset('2021-03-06', 0, roll='backward')\n",
    "print(c)\n",
    "print(d)"
   ]
  },
  {
   "cell_type": "code",
   "execution_count": 107,
   "metadata": {},
   "outputs": [
    {
     "name": "stdout",
     "output_type": "stream",
     "text": [
      "2021-05-09\n"
     ]
    }
   ],
   "source": [
    "import numpy as np\n",
    "\n",
    "a = np.busday_offset('2021-05', 1, roll='forward', weekmask='Sun')\n",
    "print(a)"
   ]
  },
  {
   "cell_type": "code",
   "execution_count": 108,
   "metadata": {},
   "outputs": [
    {
     "name": "stdout",
     "output_type": "stream",
     "text": [
      "True\n",
      "False\n"
     ]
    }
   ],
   "source": [
    "import numpy as np\n",
    "\n",
    "a = np.is_busday(np.datetime64('2021-03-08'))\n",
    "b = np.is_busday('2021-03-07')\n",
    "print(a)\n",
    "print(b)"
   ]
  },
  {
   "cell_type": "code",
   "execution_count": 110,
   "metadata": {},
   "outputs": [
    {
     "name": "stdout",
     "output_type": "stream",
     "text": [
      "22\n",
      "-22\n",
      "22\n"
     ]
    }
   ],
   "source": [
    "import numpy as np\n",
    "\n",
    "a = np.busday_count(np.datetime64('2021-03-01'), np.datetime64('2021-03-31'))\n",
    "b = np.busday_count('2021-03-31', '2021-03-01')\n",
    "print(a)\n",
    "print(b)\n",
    "\n",
    "\n",
    "c = np.arange('2021-03-01', '2021-03-31', dtype='datetime64')\n",
    "d = np.count_nonzero(np.is_busday(c))\n",
    "print(d)"
   ]
  },
  {
   "cell_type": "code",
   "execution_count": 114,
   "metadata": {},
   "outputs": [
    {
     "name": "stdout",
     "output_type": "stream",
     "text": [
      "True\n",
      "False\n"
     ]
    }
   ],
   "source": [
    "import numpy as np\n",
    "\n",
    "a = np.is_busday('2021-03-06', weekmask=[1, 1, 1, 1, 0, 1, 0])\n",
    "b = np.is_busday('2021-03-05', weekmask='1111010')\n",
    "print(a)\n",
    "print(b)"
   ]
  },
  {
   "cell_type": "code",
   "execution_count": 115,
   "metadata": {},
   "outputs": [
    {
     "name": "stdout",
     "output_type": "stream",
     "text": [
      "[('name', 'S20'), ('age', 'i1')]\n",
      "[(b'tom', 21) (b'Jerry', 18)]\n"
     ]
    }
   ],
   "source": [
    "import numpy as np\n",
    "student = np.dtype([('name', 'S20'), ('age', 'i1')])\n",
    "print(student)\n",
    "\n",
    "a = np.array([('tom', 21), ('Jerry', 18)], dtype=student)\n",
    "print(a)"
   ]
  },
  {
   "cell_type": "code",
   "execution_count": 1,
   "metadata": {},
   "outputs": [
    {
     "name": "stdout",
     "output_type": "stream",
     "text": [
      "[[ 2  3  4  5  6  7]\n",
      " [ 8  9 10 11 12 13]\n",
      " [14 15 16 17 18 19]\n",
      " [20 21 22 23 24 25]]\n",
      "[[ 0  2  4  6  8 10]\n",
      " [12 14 16 18 20 22]\n",
      " [24 26 28 30 32 34]\n",
      " [36 38 40 42 44 46]]\n",
      "[[ 0.   0.5  1.   1.5  2.   2.5]\n",
      " [ 3.   3.5  4.   4.5  5.   5.5]\n",
      " [ 6.   6.5  7.   7.5  8.   8.5]\n",
      " [ 9.   9.5 10.  10.5 11.  11.5]]\n",
      "[[  0   1   4   9  16  25]\n",
      " [ 36  49  64  81 100 121]\n",
      " [144 169 196 225 256 289]\n",
      " [324 361 400 441 484 529]]\n"
     ]
    }
   ],
   "source": [
    "import numpy as np\n",
    "t1= np.arange(24).reshape(4,6)\n",
    "print(t1+2)\n",
    "print(t1*2)\n",
    "print(t1/2)\n",
    "print(t1**2)\n"
   ]
  },
  {
   "cell_type": "code",
   "execution_count": 9,
   "metadata": {},
   "outputs": [
    {
     "name": "stdout",
     "output_type": "stream",
     "text": [
      "[ 0  1  2  3  4  5  6  7  8  9 10 11]\n",
      "[11 10  9  8  7  6  5  4  3  2  1  0]\n",
      "220\n"
     ]
    }
   ],
   "source": [
    "import numpy as np\n",
    "arr1 = np.arange(12)\n",
    "arr2= arr1[::-1]\n",
    "print(arr1)\n",
    "print(arr2)\n",
    "print(np.dot(arr1,arr2))"
   ]
  },
  {
   "cell_type": "code",
   "execution_count": null,
   "metadata": {},
   "outputs": [],
   "source": [
    "##格式：x.dot(y) 等价于 np.dot(x,y) ———x是m*n 矩阵 ，y是n*m矩阵，则x.dot(y) 得到m*m矩阵。"
   ]
  },
  {
   "cell_type": "code",
   "execution_count": 13,
   "metadata": {},
   "outputs": [
    {
     "name": "stdout",
     "output_type": "stream",
     "text": [
      "a\n",
      "[[1 2]\n",
      " [3 4]]\n",
      "b\n",
      "[[5 6]\n",
      " [7 8]]\n",
      "[[19 22]\n",
      " [43 50]]\n"
     ]
    }
   ],
   "source": [
    "#一维数组的dot\n",
    "a=np.array([1,2,3,4]).reshape(2,2)\n",
    "b=np.array([5,6,7,8]).reshape(2,2)\n",
    "print(\"a\")\n",
    "print(a)\n",
    "print(\"b\")\n",
    "print(b)\n",
    "print(np.dot(a,b))"
   ]
  }
 ],
 "metadata": {
  "kernelspec": {
   "display_name": "py38",
   "language": "python",
   "name": "py38"
  },
  "language_info": {
   "codemirror_mode": {
    "name": "ipython",
    "version": 3
   },
   "file_extension": ".py",
   "mimetype": "text/x-python",
   "name": "python",
   "nbconvert_exporter": "python",
   "pygments_lexer": "ipython3",
   "version": "3.8.8"
  }
 },
 "nbformat": 4,
 "nbformat_minor": 4
}
