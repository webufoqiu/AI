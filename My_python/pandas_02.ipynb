{
 "cells": [
  {
   "cell_type": "code",
   "execution_count": null,
   "metadata": {},
   "outputs": [],
   "source": []
  },
  {
   "cell_type": "code",
   "execution_count": 3,
   "metadata": {},
   "outputs": [
    {
     "name": "stdout",
     "output_type": "stream",
     "text": [
      "Empty DataFrame\n",
      "Columns: []\n",
      "Index: []\n"
     ]
    }
   ],
   "source": [
    "import pandas as pd\n",
    "df = pd.DataFrame() \n",
    "print(df)"
   ]
  },
  {
   "cell_type": "code",
   "execution_count": 7,
   "metadata": {},
   "outputs": [
    {
     "name": "stdout",
     "output_type": "stream",
     "text": [
      "0    1\n",
      "1    2\n",
      "2    3\n",
      "3    4\n",
      "dtype: int64\n",
      "0    [1, 2]\n",
      "1    [3, 4]\n",
      "dtype: object\n",
      "<class 'pandas.core.series.Series'>\n"
     ]
    }
   ],
   "source": [
    "sel =  pd.Series([1,2,3,4])\n",
    "print(sel)\n",
    "sel =  pd.Series([[1,2],[3,4]])\n",
    "print(sel)\n",
    "print(type(sel))"
   ]
  },
  {
   "cell_type": "code",
   "execution_count": 17,
   "metadata": {},
   "outputs": [
    {
     "name": "stdout",
     "output_type": "stream",
     "text": [
      "a    1\n",
      "b    2\n",
      "c    3\n",
      "d    4\n",
      "dtype: int64\n",
      "[1 2 3 4]\n",
      "<class 'numpy.ndarray'>\n",
      "Index(['a', 'b', 'c', 'd'], dtype='object')\n",
      "<class 'pandas.core.indexes.base.Index'>\n",
      "[('a', 1), ('b', 2), ('c', 3), ('d', 4)]\n"
     ]
    }
   ],
   "source": [
    "# sel =  Series(data = [1,2,3,4], index = ['a','b','c','d'])\n",
    "sel =  pd.Series(data = [1,2,3,4], index = list('abcd'))\n",
    "print(sel)\n",
    "# 获取内容\n",
    "print(sel.values)\n",
    "print(type(sel.values))\n",
    "# 获取索引\n",
    "print(sel.index)\n",
    "print(type(sel.index))\n",
    "# 获取索引和值对\n",
    "print(list(sel.iteritems()))"
   ]
  },
  {
   "cell_type": "code",
   "execution_count": 15,
   "metadata": {},
   "outputs": [
    {
     "data": {
      "text/plain": [
       "'1.2.4'"
      ]
     },
     "execution_count": 15,
     "metadata": {},
     "output_type": "execute_result"
    }
   ],
   "source": [
    "pd.__version__"
   ]
  },
  {
   "cell_type": "code",
   "execution_count": 20,
   "metadata": {
    "scrolled": true
   },
   "outputs": [
    {
     "name": "stdout",
     "output_type": "stream",
     "text": [
      "red      100\n",
      "black    400\n",
      "green    300\n",
      "pink     900\n",
      "dtype: int64\n",
      "<class 'pandas.core.series.Series'>\n"
     ]
    }
   ],
   "source": [
    "dict={\"red\":100,\"black\":400,\"green\":300,\"pink\":900}\n",
    "se3=pd.Series(dict)\n",
    "print(se3)\n",
    "print(type(se3))"
   ]
  },
  {
   "cell_type": "code",
   "execution_count": 24,
   "metadata": {},
   "outputs": [
    {
     "name": "stdout",
     "output_type": "stream",
     "text": [
      "3\n",
      "3\n"
     ]
    }
   ],
   "source": [
    "sel =  pd.Series(data = [1,2,3,4], index = list('abcd'))\n",
    "print(sel['c'])\n",
    "print(sel[2])"
   ]
  },
  {
   "cell_type": "code",
   "execution_count": 28,
   "metadata": {},
   "outputs": [
    {
     "name": "stdout",
     "output_type": "stream",
     "text": [
      "索引下标\n",
      " a    1\n",
      "c    3\n",
      "dtype: int64\n",
      "位置下标\n",
      " b    2\n",
      "d    4\n",
      "dtype: int64\n"
     ]
    }
   ],
   "source": [
    "print('索引下标\\n',sel[['a','c']])\n",
    "print('位置下标\\n',sel[[1,3]])"
   ]
  },
  {
   "cell_type": "code",
   "execution_count": 30,
   "metadata": {},
   "outputs": [
    {
     "name": "stdout",
     "output_type": "stream",
     "text": [
      "索引切片\n",
      " b    2\n",
      "c    3\n",
      "d    4\n",
      "dtype: int64\n",
      "位置切片\n",
      " b    2\n",
      "c    3\n",
      "dtype: int64\n"
     ]
    }
   ],
   "source": [
    "print('索引切片\\n',sel['b':'d'])# 左右都包含\n",
    "print('位置切片\\n',sel[1:3])# 左包含右不包含\n"
   ]
  },
  {
   "cell_type": "code",
   "execution_count": 34,
   "metadata": {},
   "outputs": [
    {
     "name": "stdout",
     "output_type": "stream",
     "text": [
      "d    1\n",
      "c    2\n",
      "b    3\n",
      "a    4\n",
      "dtype: int64\n",
      "b    3.0\n",
      "a    4.0\n",
      "c    2.0\n",
      "d    1.0\n",
      "e    NaN\n",
      "dtype: float64\n",
      "d    1\n",
      "c    2\n",
      "b    3\n",
      "a    4\n",
      "dtype: int64\n"
     ]
    }
   ],
   "source": [
    "sel.index = list('dcba')\n",
    "print(sel)\n",
    "# ReIndex重新索引,会返回一个新的Series(调用reindex将会重新排序，缺失值则用NaN填补)\n",
    "print(sel.reindex(['b','a','c','d','e']))\n",
    "print(sel)"
   ]
  },
  {
   "cell_type": "code",
   "execution_count": 38,
   "metadata": {},
   "outputs": [
    {
     "name": "stdout",
     "output_type": "stream",
     "text": [
      "0    10\n",
      "1    11\n",
      "2    12\n",
      "3    13\n",
      "4    14\n",
      "dtype: int64\n",
      "0    10\n",
      "1    11\n",
      "4    14\n",
      "dtype: int64\n",
      "0    10\n",
      "1    11\n",
      "2    12\n",
      "3    13\n",
      "4    14\n",
      "dtype: int64\n"
     ]
    }
   ],
   "source": [
    "se1=pd.Series(range(10,15))\n",
    "print(se1)\n",
    "se2=se1.drop([2,3])\n",
    "# print(se1.drop([2,3]))\n",
    "print(se2)\n",
    "print(se1)"
   ]
  },
  {
   "cell_type": "code",
   "execution_count": 39,
   "metadata": {},
   "outputs": [
    {
     "name": "stdout",
     "output_type": "stream",
     "text": [
      "Accra       NaN\n",
      "Delhi       NaN\n",
      "HongKong    NaN\n",
      "Humbai      NaN\n",
      "London      0.0\n",
      "lagos      -2.0\n",
      "dtype: float64\n",
      "Accra        NaN\n",
      "Delhi        NaN\n",
      "HongKong     NaN\n",
      "Humbai       NaN\n",
      "London       2.0\n",
      "lagos       10.0\n",
      "dtype: float64\n",
      "Accra        NaN\n",
      "Delhi        NaN\n",
      "HongKong     NaN\n",
      "Humbai       NaN\n",
      "London       1.0\n",
      "lagos       24.0\n",
      "dtype: float64\n"
     ]
    }
   ],
   "source": [
    "series1 = pd.Series([1,2,3,4],['London','HongKong','Humbai','lagos'])\n",
    "series2 = pd.Series([1,3,6,4],['London','Accra','lagos','Delhi'])\n",
    "\n",
    "print(series1-series2)\n",
    "print(series1+series2)\n",
    "print(series1*series2)"
   ]
  },
  {
   "cell_type": "code",
   "execution_count": 42,
   "metadata": {},
   "outputs": [
    {
     "name": "stdout",
     "output_type": "stream",
     "text": [
      "b    6\n",
      "d    5\n",
      "dtype: int64\n",
      "a     2\n",
      "b    12\n",
      "c     6\n",
      "d    10\n",
      "dtype: int64\n",
      "a     1\n",
      "b    36\n",
      "c     9\n",
      "d    25\n",
      "dtype: int64\n"
     ]
    }
   ],
   "source": [
    "import numpy as np\n",
    "sel =  pd.Series(data = [1,6,3,5], index = list('abcd'))\n",
    "print(sel[sel>3]) # 布尔数组过滤\n",
    "print(sel*2) # 标量乘法\n",
    "print(np.square(sel)) # 可以直接加入到numpy的数学函数"
   ]
  },
  {
   "cell_type": "code",
   "execution_count": 48,
   "metadata": {},
   "outputs": [
    {
     "name": "stdout",
     "output_type": "stream",
     "text": [
      "   a  b  c  d\n",
      "1  2  3  6  2\n",
      "2  9  0  5  9\n",
      "3  5  3  1  9\n",
      "4  5  5  0  8\n"
     ]
    }
   ],
   "source": [
    "import numpy as np\n",
    "from pandas import DataFrame,Series\n",
    "df1 = DataFrame(np.random.randint(0,10,(4,4)),index=[1,2,3,4],columns=['a','b','c','d'])\n",
    "print(df1)"
   ]
  },
  {
   "cell_type": "code",
   "execution_count": 49,
   "metadata": {},
   "outputs": [
    {
     "name": "stdout",
     "output_type": "stream",
     "text": [
      "    Province  pop  year\n",
      "1  Guangdong  1.3  2018\n",
      "2    Beijing  2.5  2018\n",
      "3    Qinghai  1.1  2018\n",
      "4     Fujian  0.7  2018\n"
     ]
    }
   ],
   "source": [
    "dict={\n",
    "    'Province': ['Guangdong', 'Beijing', 'Qinghai', 'Fujian'],\n",
    "    'pop': [1.3, 2.5, 1.1, 0.7],\n",
    "    'year': [2018, 2018, 2018, 2018]}\n",
    "df2=DataFrame(dict,index=[1,2,3,4])\n",
    "print(df2)"
   ]
  },
  {
   "cell_type": "code",
   "execution_count": 59,
   "metadata": {},
   "outputs": [
    {
     "name": "stdout",
     "output_type": "stream",
     "text": [
      "   a  b\n",
      "0  1  4\n",
      "1  2  5\n",
      "2  3  6\n",
      "   a  b\n",
      "1  1  4\n",
      "2  2  5\n",
      "3  3  6\n"
     ]
    }
   ],
   "source": [
    "dict2={\"a\":[1,2,3],\"b\":[4,5,6]}\n",
    "df5=pd.DataFrame.from_dict(dict2)\n",
    "df6=pd.DataFrame(dict2,index=[1,2,3])  #对比\n",
    "print(df5)\n",
    "print(df6)"
   ]
  },
  {
   "cell_type": "code",
   "execution_count": 61,
   "metadata": {},
   "outputs": [
    {
     "name": "stdout",
     "output_type": "stream",
     "text": [
      "  Name Age country\n",
      "a   zs  10      中国\n",
      "b   ls  20      韩国\n",
      "c   we  30      日本\n",
      "d  NaN  40     NaN\n",
      "{'Name': {'a': 'zs', 'b': 'ls', 'c': 'we', 'd': nan}, 'Age': {'a': '10', 'b': '20', 'c': '30', 'd': '40'}, 'country': {'a': '中国', 'b': '韩国', 'c': '日本', 'd': nan}}\n"
     ]
    }
   ],
   "source": [
    "data = {\n",
    "    'Name':pd.Series(['zs','ls','we'],index=['a','b','c']),\n",
    "    'Age':pd.Series(['10','20','30','40'],index=['a','b','c','d']),\n",
    "    'country':pd.Series(['中国','日本','韩国'],index=['a','c','b'])\n",
    "}\n",
    "\n",
    "df = DataFrame(data)\n",
    "print(df)\n",
    "# to_dict()方法将DataFrame对象转换为字典\n",
    "dict = df.to_dict()\n",
    "print(dict)"
   ]
  },
  {
   "cell_type": "code",
   "execution_count": 64,
   "metadata": {},
   "outputs": [
    {
     "name": "stdout",
     "output_type": "stream",
     "text": [
      "       name age national\n",
      "0     James  18       us\n",
      "1     Curry  20    China\n",
      "2  Iversion  19       us\n",
      "(3, 3)\n",
      "['0', '1', '2']\n",
      "['name', 'age', 'national']\n",
      "name        object\n",
      "age         object\n",
      "national    object\n",
      "dtype: object\n",
      "2\n"
     ]
    }
   ],
   "source": [
    "df_dict = {\n",
    "    'name':['James','Curry','Iversion'],\n",
    "    'age':['18','20','19'],\n",
    "    'national':['us','China','us']\n",
    "}\n",
    "df = pd.DataFrame(data=df_dict,index=['0','1','2'])\n",
    "print(df)\n",
    "# 获取行数和列数\n",
    "print(df.shape)\n",
    "\n",
    "# # 获取行索引\n",
    "print(df.index.tolist())\n",
    "\n",
    "# # 获取列索引\n",
    "print(df.columns.tolist())\n",
    "\n",
    "# 获取数据的类型\n",
    "print(df.dtypes)\n",
    "\n",
    "# 获取数据的维度\n",
    "print(df.ndim)"
   ]
  },
  {
   "cell_type": "code",
   "execution_count": 66,
   "metadata": {},
   "outputs": [
    {
     "name": "stdout",
     "output_type": "stream",
     "text": [
      "[['James' '18' 'us']\n",
      " ['Curry' '20' 'China']\n",
      " ['Iversion' '19' 'us']]\n",
      "<class 'numpy.ndarray'>\n"
     ]
    }
   ],
   "source": [
    "print(df.values)\n",
    "print(type(df.values))"
   ]
  },
  {
   "cell_type": "code",
   "execution_count": 67,
   "metadata": {},
   "outputs": [
    {
     "name": "stdout",
     "output_type": "stream",
     "text": [
      "<class 'pandas.core.frame.DataFrame'>\n",
      "Index: 3 entries, 0 to 2\n",
      "Data columns (total 3 columns):\n",
      " #   Column    Non-Null Count  Dtype \n",
      "---  ------    --------------  ----- \n",
      " 0   name      3 non-null      object\n",
      " 1   age       3 non-null      object\n",
      " 2   national  3 non-null      object\n",
      "dtypes: object(3)\n",
      "memory usage: 96.0+ bytes\n",
      "None\n"
     ]
    }
   ],
   "source": [
    "print(df.info())"
   ]
  },
  {
   "cell_type": "code",
   "execution_count": 68,
   "metadata": {},
   "outputs": [
    {
     "name": "stdout",
     "output_type": "stream",
     "text": [
      "<class 'pandas.core.frame.DataFrame'>\n"
     ]
    }
   ],
   "source": [
    "print(type(df[['name','age']]))"
   ]
  },
  {
   "cell_type": "code",
   "execution_count": 69,
   "metadata": {},
   "outputs": [
    {
     "name": "stdout",
     "output_type": "stream",
     "text": [
      "       name age\n",
      "1     Curry  20\n",
      "2  Iversion  19\n"
     ]
    }
   ],
   "source": [
    "print(df[1:3][['name','age']])"
   ]
  },
  {
   "cell_type": "code",
   "execution_count": 74,
   "metadata": {},
   "outputs": [
    {
     "name": "stdout",
     "output_type": "stream",
     "text": [
      "name        Curry\n",
      "age            20\n",
      "national    China\n",
      "Name: 1, dtype: object\n",
      "<class 'pandas.core.series.Series'>\n"
     ]
    }
   ],
   "source": [
    "print(df.iloc[1])\n",
    "print(type(df.iloc[1]))"
   ]
  },
  {
   "cell_type": "code",
   "execution_count": 76,
   "metadata": {},
   "outputs": [
    {
     "name": "stdout",
     "output_type": "stream",
     "text": [
      "       name age national\n",
      "0     James  18       us\n",
      "2  Iversion  19       us\n",
      "<class 'pandas.core.frame.DataFrame'>\n"
     ]
    }
   ],
   "source": [
    "print(df.iloc[[0,2],:])\n",
    "print(type(df.iloc[[0,2],:]))"
   ]
  },
  {
   "cell_type": "code",
   "execution_count": 77,
   "metadata": {},
   "outputs": [
    {
     "name": "stdout",
     "output_type": "stream",
     "text": [
      "       name age national\n",
      "0     panda  18       us\n",
      "1     Curry  20    China\n",
      "2  Iversion  19       us\n"
     ]
    }
   ],
   "source": [
    "df.iloc[0,0]='panda'\n",
    "print(df)"
   ]
  },
  {
   "cell_type": "code",
   "execution_count": 79,
   "metadata": {},
   "outputs": [
    {
     "name": "stdout",
     "output_type": "stream",
     "text": [
      "       name age national\n",
      "1     Curry  20    China\n",
      "2  Iversion  19       us\n",
      "0     panda  18       us\n"
     ]
    }
   ],
   "source": [
    "df = df.sort_values(by='age',ascending=False)\n",
    "print(df)"
   ]
  },
  {
   "cell_type": "code",
   "execution_count": 7,
   "metadata": {},
   "outputs": [
    {
     "name": "stdout",
     "output_type": "stream",
     "text": [
      "    a  b  c\n",
      "bj  0  1  2\n",
      "sh  3  4  5\n",
      "gz  6  7  8\n",
      "Index(['bj', 'sh', 'gz'], dtype='object')\n",
      "<class 'pandas.core.indexes.base.Index'>\n",
      "           a  b  c\n",
      "beijing    0  1  2\n",
      "shanghai   3  4  5\n",
      "guangzhou  6  7  8\n"
     ]
    }
   ],
   "source": [
    "import pandas as pd\n",
    "import numpy as np\n",
    "df1 = pd.DataFrame(np.arange(9).reshape(3, 3), index = ['bj', 'sh', 'gz'], columns=['a', 'b', 'c'])\n",
    "print(df1)\n",
    "print(df1.index) \n",
    "print(type(df1.index)) \n",
    "df1.index = ['beijing', 'shanghai', 'guangzhou']\n",
    "print(df1)"
   ]
  },
  {
   "cell_type": "code",
   "execution_count": 9,
   "metadata": {},
   "outputs": [
    {
     "name": "stdout",
     "output_type": "stream",
     "text": [
      "None\n",
      "                   a_ABC_ABC  b_ABC_ABC  c_ABC_ABC\n",
      "beijing_ABC_ABC            0          1          2\n",
      "shanghai_ABC_ABC           3          4          5\n",
      "guangzhou_ABC_ABC          6          7          8\n",
      "                   a_ABC_ABC  b_ABC_ABC  c_ABC_ABC\n",
      "beijing_ABC_ABC            0          1          2\n",
      "shanghai_ABC_ABC           3          4          5\n",
      "guangzhou_ABC_ABC          6          7          8\n"
     ]
    }
   ],
   "source": [
    "# 自定义map函数（x是原有的行列值）\n",
    "def test_map(x):\n",
    "    \n",
    "    return x+'_ABC'\n",
    "# inplace：布尔值，默认为False。指定是否返回新的DataFrame。如果为True，则在原df上修改，返回值为None。\n",
    "print(df1.rename(index=test_map, columns=test_map, inplace=True))\n",
    "print(df1)\n",
    "# 同时，rename 还可以传入字典，为某个 index 单独修改名称\n",
    "df3 = df1.rename(index={'bj':'beijing'}, columns = {'a':'aa'}) \n",
    "print(df3)"
   ]
  },
  {
   "cell_type": "code",
   "execution_count": 12,
   "metadata": {},
   "outputs": [
    {
     "name": "stdout",
     "output_type": "stream",
     "text": [
      "   X  Y  S  Z\n",
      "0  0  0  a  1\n",
      "1  1  1  b  1\n",
      "2  2  2  c  2\n",
      "3  3  3  d  2\n",
      "4  4  4  e  2\n",
      "   X  Y  S  Z\n",
      "a  0  0  a  1\n",
      "b  1  1  b  1\n",
      "c  2  2  c  2\n",
      "d  3  3  d  2\n",
      "e  4  4  e  2\n"
     ]
    }
   ],
   "source": [
    "df1=pd.DataFrame({'X':range(5),'Y':range(5),'S':list(\"abcde\"),'Z':[1,1,2,2,2]})\n",
    "print(df1)\n",
    "# 指定一列为索引 (drop=False 指定同时保留作为索引的列)\n",
    "result = df1.set_index('S',drop=False)\n",
    "result.index.name=None\n",
    "print(result)"
   ]
  },
  {
   "cell_type": "code",
   "execution_count": 13,
   "metadata": {},
   "outputs": [
    {
     "name": "stdout",
     "output_type": "stream",
     "text": [
      "   0  0  a  1\n",
      "0  0  0  a  1\n",
      "1  1  1  b  1\n",
      "2  2  2  c  2\n",
      "3  3  3  d  2\n",
      "4  4  4  e  2\n"
     ]
    }
   ],
   "source": [
    "result = df1.set_axis(df1.iloc[0],axis=1,inplace=False)\n",
    "result.columns.name=None\n",
    "print(result)"
   ]
  },
  {
   "cell_type": "code",
   "execution_count": 17,
   "metadata": {},
   "outputs": [
    {
     "name": "stdout",
     "output_type": "stream",
     "text": [
      "     name gender  age  score\n",
      "0    Snow      M   22     80\n",
      "1  Tyrion      M   32     98\n",
      "2   Sansa      F   18     67\n",
      "3    Arya      F   14     88\n"
     ]
    }
   ],
   "source": [
    "import pandas as pd\n",
    "df1 = pd.DataFrame([['Snow','M',22],['Tyrion','M',32],['Sansa','F',18],['Arya','F',14]],\n",
    "                   columns=['name','gender','age'])\n",
    "\n",
    "# 在数据框最后加上score一列\n",
    "df1['score']=[80,98,67,88]   # 增加列的元素个数要跟原数据列的个数一样\n",
    "print(df1)"
   ]
  },
  {
   "cell_type": "code",
   "execution_count": 18,
   "metadata": {},
   "outputs": [
    {
     "name": "stdout",
     "output_type": "stream",
     "text": [
      "<class 'list'>\n",
      "['name', 'gender', 'city', 'age', 'score']\n",
      "     name gender  age  score\n",
      "0    Snow      M   22     80\n",
      "1  Tyrion      M   32     98\n",
      "2   Sansa      F   18     67\n",
      "3    Arya      F   14     88\n",
      "     name gender  city  age  score\n",
      "0    Snow      M   NaN   22     80\n",
      "1  Tyrion      M   NaN   32     98\n",
      "2   Sansa      F   NaN   18     67\n",
      "3    Arya      F   NaN   14     88\n"
     ]
    },
    {
     "ename": "NameError",
     "evalue": "name '给city列赋值' is not defined",
     "output_type": "error",
     "traceback": [
      "\u001b[1;31m---------------------------------------------------------------------------\u001b[0m",
      "\u001b[1;31mNameError\u001b[0m                                 Traceback (most recent call last)",
      "\u001b[1;32m<ipython-input-18-91c8f720a0f7>\u001b[0m in \u001b[0;36m<module>\u001b[1;34m\u001b[0m\n\u001b[0;32m      8\u001b[0m \u001b[0mprint\u001b[0m\u001b[1;33m(\u001b[0m\u001b[0mdf1\u001b[0m\u001b[1;33m)\u001b[0m\u001b[1;33m\u001b[0m\u001b[1;33m\u001b[0m\u001b[0m\n\u001b[0;32m      9\u001b[0m \u001b[0mdf1\u001b[0m\u001b[1;33m[\u001b[0m\u001b[1;34m'city'\u001b[0m\u001b[1;33m]\u001b[0m\u001b[1;33m=\u001b[0m\u001b[1;33m[\u001b[0m\u001b[1;34m'北京'\u001b[0m\u001b[1;33m,\u001b[0m\u001b[1;34m'山西'\u001b[0m\u001b[1;33m,\u001b[0m\u001b[1;34m'湖北'\u001b[0m\u001b[1;33m,\u001b[0m\u001b[1;34m'澳门'\u001b[0m\u001b[1;33m]\u001b[0m\u001b[1;33m\u001b[0m\u001b[1;33m\u001b[0m\u001b[0m\n\u001b[1;32m---> 10\u001b[1;33m \u001b[0m给city列赋值\u001b[0m\u001b[1;33m\u001b[0m\u001b[1;33m\u001b[0m\u001b[0m\n\u001b[0m\u001b[0;32m     11\u001b[0m \u001b[0mprint\u001b[0m\u001b[1;33m(\u001b[0m\u001b[0mdf1\u001b[0m\u001b[1;33m)\u001b[0m\u001b[1;33m\u001b[0m\u001b[1;33m\u001b[0m\u001b[0m\n",
      "\u001b[1;31mNameError\u001b[0m: name '给city列赋值' is not defined"
     ]
    }
   ],
   "source": [
    "col_name=df1.columns.tolist()  \n",
    "print(type(col_name))\n",
    "# print(col_name)\n",
    "col_name.insert(2,'city')   \n",
    "print(col_name)\n",
    "print(df1)\n",
    "df1=df1.reindex(columns=col_name) \n",
    "print(df1)"
   ]
  },
  {
   "cell_type": "code",
   "execution_count": 19,
   "metadata": {},
   "outputs": [
    {
     "name": "stdout",
     "output_type": "stream",
     "text": [
      "     name gender city  age  score\n",
      "0    Snow      M   北京   22     80\n",
      "1  Tyrion      M   山西   32     98\n",
      "2   Sansa      F   湖北   18     67\n",
      "3    Arya      F   澳门   14     88\n"
     ]
    }
   ],
   "source": [
    "df1['city']=['北京','山西','湖北','澳门']  \n",
    "#给city列赋值\n",
    "print(df1)"
   ]
  },
  {
   "cell_type": "code",
   "execution_count": 24,
   "metadata": {},
   "outputs": [
    {
     "name": "stdout",
     "output_type": "stream",
     "text": [
      "     name gender  age\n",
      "0    Snow      M   22\n",
      "1  Tyrion      M   32\n",
      "2   Sansa      F   18\n",
      "3    Arya      F   14\n",
      "0    lisa      F   19\n"
     ]
    }
   ],
   "source": [
    "# 增加数据\n",
    "df1 = pd.DataFrame([['Snow','M',22],['Tyrion','M',32],['Sansa','F',18],['Arya','F',14]],columns=['name','gender','age'])\n",
    "\n",
    "new=pd.DataFrame({'name':'lisa',\n",
    "                  'gender':'F',\n",
    "                  'age':19\n",
    "                  },index=[0])\n",
    "# print(new)\n",
    "\n",
    "df1=df1.append(new,ignore_index=False) \n",
    "# ignore_index=True,表示不按原来的索引，从0开始自动递增\n",
    "print(df1)"
   ]
  },
  {
   "cell_type": "code",
   "execution_count": 26,
   "metadata": {},
   "outputs": [
    {
     "name": "stdout",
     "output_type": "stream",
     "text": [
      "   four  five\n",
      "0     0     1\n",
      "1     2     3\n",
      "2     4     5\n",
      "   one  two  three\n",
      "0    0    1      2\n",
      "1    3    4      5\n"
     ]
    }
   ],
   "source": [
    "import numpy as np\n",
    "df1 = pd.DataFrame(np.arange(6).reshape(3,2),columns=['four','five'])\n",
    "df2 = pd.DataFrame(np.arange(6).reshape(2,3),columns=['one','two','three'])\n",
    "print(df1)\n",
    "print(df2)\n"
   ]
  },
  {
   "cell_type": "code",
   "execution_count": 32,
   "metadata": {},
   "outputs": [
    {
     "name": "stdout",
     "output_type": "stream",
     "text": [
      "   four  five  one  two  three\n",
      "0   0.0   1.0  NaN  NaN    NaN\n",
      "1   2.0   3.0  NaN  NaN    NaN\n",
      "2   4.0   5.0  NaN  NaN    NaN\n",
      "0   NaN   NaN  0.0  1.0    2.0\n",
      "1   NaN   NaN  3.0  4.0    5.0\n",
      "   four  five  one  two  three\n",
      "0     0     1  0.0  1.0    2.0\n",
      "1     2     3  3.0  4.0    5.0\n",
      "2     4     5  NaN  NaN    NaN\n"
     ]
    }
   ],
   "source": [
    "result1 = pd.concat([df1,df2],axis=0)\n",
    "print(result1)\n",
    "result2 = pd.concat([df1,df2],axis=1)\n",
    "print(result2)"
   ]
  },
  {
   "cell_type": "code",
   "execution_count": 34,
   "metadata": {},
   "outputs": [
    {
     "name": "stdout",
     "output_type": "stream",
     "text": [
      "   one  two  three\n",
      "0    0    1      2\n",
      "1    3    4      5\n",
      "2    6    7      8\n",
      "   one  two  three\n",
      "0    0    1      2\n",
      "1    3    4      5\n",
      "2    6    7      8\n",
      "   one  two  three\n",
      "2    6    7      8\n"
     ]
    }
   ],
   "source": [
    "df2 = pd.DataFrame(np.arange(9).reshape(3,3),columns=['one','two','three'])\n",
    "print(df2)\n",
    "# df3=df2.drop(['one'],axis=1, inplace=True)\n",
    "df3=df2.drop([0,1],axis=0, inplace=False)\n",
    "print(df2)\n",
    "print(df3)"
   ]
  },
  {
   "cell_type": "code",
   "execution_count": 38,
   "metadata": {},
   "outputs": [
    {
     "name": "stdout",
     "output_type": "stream",
     "text": [
      "0    4.0\n",
      "1    NaN\n",
      "2    8.0\n",
      "3    NaN\n",
      "4    5.0\n",
      "dtype: float64\n",
      "0    4.0\n",
      "2    8.0\n",
      "4    5.0\n",
      "dtype: float64\n",
      "0     True\n",
      "1    False\n",
      "2     True\n",
      "3    False\n",
      "4     True\n",
      "dtype: bool\n",
      "0    False\n",
      "1     True\n",
      "2    False\n",
      "3     True\n",
      "4    False\n",
      "dtype: bool\n"
     ]
    }
   ],
   "source": [
    "from numpy import nan as NaN\n",
    "# 通过**dropna()**滤除缺失数据：\n",
    "se=pd.Series([4,NaN,8,NaN,5])\n",
    "print(se)\n",
    "print(se.dropna())\n",
    "print(se.notnull())\n",
    "print(se.isnull())"
   ]
  },
  {
   "cell_type": "code",
   "execution_count": 41,
   "metadata": {},
   "outputs": [
    {
     "name": "stdout",
     "output_type": "stream",
     "text": [
      "0    4.0\n",
      "1    NaN\n",
      "2    8.0\n",
      "3    NaN\n",
      "4    5.0\n",
      "dtype: float64\n",
      "0    4.0\n",
      "2    8.0\n",
      "4    5.0\n",
      "dtype: float64\n"
     ]
    }
   ],
   "source": [
    "print(se)\n",
    "print(se[se.notnull()])\n"
   ]
  },
  {
   "cell_type": "code",
   "execution_count": 46,
   "metadata": {},
   "outputs": [
    {
     "name": "stdout",
     "output_type": "stream",
     "text": [
      "     0    1    2\n",
      "0  1.0  2.0  3.0\n",
      "1  NaN  NaN  2.0\n",
      "2  NaN  NaN  NaN\n",
      "3  8.0  8.0  NaN\n",
      "     0    1    2\n",
      "0  1.0  2.0  3.0\n",
      "     0    1    2\n",
      "0  1.0  2.0  3.0\n",
      "1  NaN  NaN  2.0\n",
      "3  8.0  8.0  NaN\n",
      "     0    1    2\n",
      "0  1.0  2.0  3.0\n",
      "1  NaN  NaN  2.0\n",
      "2  NaN  NaN  NaN\n",
      "3  8.0  8.0  NaN\n",
      "     0    1    2\n",
      "0  1.0  2.0  3.0\n",
      "1  NaN  NaN  2.0\n",
      "3  8.0  8.0  NaN\n"
     ]
    }
   ],
   "source": [
    "df1=pd.DataFrame([[1,2,3],[NaN,NaN,2],[NaN,NaN,NaN],[8,8,NaN]])\n",
    "print(df1)\n",
    "\n",
    "# 默认滤除所有包含NaN：\n",
    "print(df1.dropna())\n",
    "\n",
    "# 传入how=‘all’滤除全为NaN的行：\n",
    "print(df1.dropna(how='all')) # 默认情况下是how='any'，只要有nan就删除\n",
    "\n",
    "# 传入axis=1滤除列：\n",
    "print(df1.dropna(axis=1,how=\"all\"))\n",
    "\n",
    "#传入thresh=n保留至少有n个非NaN数据的行：\n",
    "print(df1.dropna(thresh=1))"
   ]
  },
  {
   "cell_type": "code",
   "execution_count": 54,
   "metadata": {},
   "outputs": [
    {
     "name": "stdout",
     "output_type": "stream",
     "text": [
      "     0    1    2\n",
      "0  1.0  2.0  3.0\n",
      "1  NaN  NaN  2.0\n",
      "2  NaN  NaN  NaN\n",
      "3  8.0  8.0  NaN\n",
      "      0     1     2\n",
      "0   1.0   2.0   3.0\n",
      "1  10.0  20.0   2.0\n",
      "2  10.0  20.0  30.0\n",
      "3   8.0   8.0  30.0\n",
      "None\n",
      "     0    1    2\n",
      "0  1.0  2.0  3.0\n",
      "1  NaN  5.0  2.0\n",
      "2  NaN  5.0  NaN\n",
      "3  8.0  8.0  NaN\n"
     ]
    }
   ],
   "source": [
    "df1=pd.DataFrame([[1,2,3],[NaN,NaN,2],[NaN,NaN,NaN],[8,8,NaN]])\n",
    "print(df1)\n",
    "\n",
    "# 用常数填充fillna\n",
    "# print(df1.fillna(0))\n",
    "\n",
    "#传入inplace=True直接修改原对象：\n",
    "# df1.fillna(0,inplace=True)\n",
    "# print(df1)\n",
    "\n",
    "# 通过字典填充不同的常数\n",
    "print(df1.fillna({0.:10,1:20,2:30})) \n",
    "print(df1.iloc[:,1].fillna(5,inplace = True))\n",
    "print(df1)"
   ]
  },
  {
   "cell_type": "code",
   "execution_count": 58,
   "metadata": {},
   "outputs": [
    {
     "name": "stdout",
     "output_type": "stream",
     "text": [
      "   0  1  2    3    4\n",
      "0  6  0  1  1.0  9.0\n",
      "1  7  7  4  NaN  0.0\n",
      "2  3  6  4  NaN  NaN\n",
      "3  7  6  8  NaN  NaN\n",
      "4  0  2  8  7.0  7.0\n",
      "   0  1  2    3    4\n",
      "0  6  0  1  1.0  9.0\n",
      "1  7  7  4  NaN  0.0\n",
      "2  3  6  4  NaN  NaN\n",
      "3  7  6  8  7.0  7.0\n",
      "4  0  2  8  7.0  7.0\n"
     ]
    }
   ],
   "source": [
    "df2=pd.DataFrame(np.random.randint(0,10,(5,5)))\n",
    "df2.iloc[1:4,3]=NaN\n",
    "df2.iloc[2:4,4]=NaN\n",
    "print(df2)\n",
    "print(df2.fillna(method='bfill',limit=1))"
   ]
  },
  {
   "cell_type": "code",
   "execution_count": 60,
   "metadata": {},
   "outputs": [
    {
     "name": "stdout",
     "output_type": "stream",
     "text": [
      "   A  B\n",
      "0  1  a\n",
      "1  1  a\n",
      "2  1  b\n",
      "3  2  b\n",
      "4  2  b\n",
      "5  3  c\n",
      "6  1  a\n",
      "0    False\n",
      "1     True\n",
      "2    False\n",
      "3    False\n",
      "4     True\n",
      "5    False\n",
      "6     True\n",
      "dtype: bool\n"
     ]
    }
   ],
   "source": [
    "df1=pd.DataFrame({'A':[1,1,1,2,2,3,1],'B':list(\"aabbbca\")})\n",
    "print(df1)\n",
    "print(df1.duplicated())"
   ]
  },
  {
   "cell_type": "code",
   "execution_count": 67,
   "metadata": {},
   "outputs": [
    {
     "name": "stdout",
     "output_type": "stream",
     "text": [
      "   Red  Green\n",
      "a    1      5\n",
      "b    3      0\n",
      "c    5      3\n",
      "   Blue  Yellow\n",
      "c     1       6\n",
      "d     9       6\n",
      "e     8       7\n",
      "   Red  Green  Blue  Yellow\n",
      "a    1      5   NaN     NaN\n",
      "b    3      0   NaN     NaN\n",
      "c    5      3   1.0     6.0\n",
      "   Red  Green  Blue  Yellow\n",
      "c  5.0    3.0     1       6\n",
      "d  NaN    NaN     9       6\n",
      "e  NaN    NaN     8       7\n",
      "   Red  Green  Blue  Yellow\n",
      "a  1.0    5.0   NaN     NaN\n",
      "b  3.0    0.0   NaN     NaN\n",
      "c  5.0    3.0   1.0     6.0\n",
      "d  NaN    NaN   9.0     6.0\n",
      "e  NaN    NaN   8.0     7.0\n",
      "   Red  Green  Blue  Yellow\n",
      "c    5      3     1       6\n"
     ]
    }
   ],
   "source": [
    "df3=pd.DataFrame({'Red':[1,3,5],'Green':[5,0,3]},index=list('abc'))\n",
    "df4=pd.DataFrame({'Blue':[1,9,8],'Yellow':[6,6,7]},index=list('cde'))\n",
    "print(df3)\n",
    "print(df4)\n",
    "df5=df3.join(df4,how='left')\n",
    "print(df5)\n",
    "df6=df3.join(df4,how='right')\n",
    "print(df6)\n",
    "df7=df3.join(df4,how='outer')\n",
    "print(df7)\n",
    "df8=df3.join(df4,how='inner')\n",
    "print(df8)"
   ]
  },
  {
   "cell_type": "code",
   "execution_count": 73,
   "metadata": {},
   "outputs": [
    {
     "name": "stdout",
     "output_type": "stream",
     "text": [
      "     名字 性别   职称\n",
      "1001  A  男  副教授\n",
      "1002  B  女   讲师\n",
      "1003  C  男   助教\n",
      "1004  D  男   教授\n",
      "1005  E  女   助教\n",
      "     名字     课程   职称\n",
      "1001  A    C++  副教授\n",
      "1002  B  计算机导论   讲师\n",
      "1004  D     汇编   教授\n",
      "1001  A   数据结构  副教授\n",
      "3001  X  马克思原理   讲师\n",
      "  名字 性别 职称_1     课程 职称_2\n",
      "0  A  男  副教授    C++  副教授\n",
      "1  A  男  副教授   数据结构  副教授\n",
      "2  B  女   讲师  计算机导论   讲师\n",
      "3  D  男   教授     汇编   教授\n"
     ]
    }
   ],
   "source": [
    "df1=pd.DataFrame({'名字':list('ABCDE'),'性别':['男','女','男','男','女'],'职称':['副教授','讲师','助教','教授','助教']},index=range(1001,1006))\n",
    "# df1.columns.name='学院老师'\n",
    "# df1.index.name='编号'\n",
    "print(df1)\n",
    "df2=pd.DataFrame({'名字':list('ABDAX'),'课程':['C++','计算机导论','汇编','数据结构','马克思原理'],'职称':['副教授','讲师','教授','副教授','讲师']},index=[1001,1002,1004,1001,3001])\n",
    "# df2.columns.name='课程'\n",
    "# df2.index.name='编号'\n",
    "print(df2)\n",
    "pdm=pd.merge(df1,df2,on='名字',suffixes=['_1','_2'])\n",
    "print(pdm)"
   ]
  },
  {
   "cell_type": "code",
   "execution_count": 82,
   "metadata": {},
   "outputs": [
    {
     "name": "stdout",
     "output_type": "stream",
     "text": [
      "a     40\n",
      "b    140\n",
      "c    114\n",
      "d      1\n",
      "e    149\n",
      "f     54\n",
      "dtype: int32\n",
      "a  期中    122\n",
      "   期末      1\n",
      "b  期中    106\n",
      "   期末     34\n",
      "c  期中     13\n",
      "   期末     70\n",
      "dtype: int32\n",
      "期中    122\n",
      "期末      1\n",
      "dtype: int32\n"
     ]
    }
   ],
   "source": [
    "from pandas import Series,DataFrame\n",
    "s1 = Series(np.random.randint(0,150,size=6),index=list('abcdef'))\n",
    "print(s1)\n",
    "s2 = Series(np.random.randint(0,150,size=6),\n",
    "           index=[['a','a','b','b','c','c'],['期中','期末','期中','期末','期中','期末']])\n",
    "print(s2)\n",
    "print(s2['a'])"
   ]
  },
  {
   "cell_type": "code",
   "execution_count": 83,
   "metadata": {},
   "outputs": [
    {
     "name": "stdout",
     "output_type": "stream",
     "text": [
      "           zs   ls   ww   zl\n",
      "python 期中  16   82  101   68\n",
      "       期末  78   25  112   10\n",
      "math   期中  41   32  105   46\n",
      "       期末  57    1   13   76\n",
      "En     期中   7   55  141  129\n",
      "       期末  34  127  128  108\n"
     ]
    }
   ],
   "source": [
    "df1 = DataFrame(np.random.randint(0,150,size=(6,4)),\n",
    "               columns = ['zs','ls','ww','zl'],\n",
    "               index = [['python','python','math','math','En','En'],['期中','期末','期中','期末','期中','期末']])\n",
    "print(df1)\n"
   ]
  },
  {
   "cell_type": "code",
   "execution_count": 87,
   "metadata": {},
   "outputs": [
    {
     "name": "stdout",
     "output_type": "stream",
     "text": [
      "            0    1    2    3\n",
      "python 期中  55  126   59  110\n",
      "       期末  41   64   12   54\n",
      "math   期中  86    9   82   73\n",
      "       期末   5  103  138   85\n",
      "En     期中  12  141   85    5\n",
      "       期末  78   74  130   54\n"
     ]
    },
    {
     "ename": "KeyError",
     "evalue": "(slice(None, None, None), 1)",
     "output_type": "error",
     "traceback": [
      "\u001b[1;31m---------------------------------------------------------------------------\u001b[0m",
      "\u001b[1;31mKeyError\u001b[0m                                  Traceback (most recent call last)",
      "\u001b[1;32m<ipython-input-87-5cdf4d27e861>\u001b[0m in \u001b[0;36m<module>\u001b[1;34m\u001b[0m\n\u001b[0;32m      4\u001b[0m \u001b[0mdf2\u001b[0m\u001b[1;33m=\u001b[0m\u001b[0mDataFrame\u001b[0m\u001b[1;33m(\u001b[0m\u001b[0mnp\u001b[0m\u001b[1;33m.\u001b[0m\u001b[0mrandom\u001b[0m\u001b[1;33m.\u001b[0m\u001b[0mrandint\u001b[0m\u001b[1;33m(\u001b[0m\u001b[1;36m0\u001b[0m\u001b[1;33m,\u001b[0m\u001b[1;36m150\u001b[0m\u001b[1;33m,\u001b[0m\u001b[1;33m(\u001b[0m\u001b[1;36m6\u001b[0m\u001b[1;33m,\u001b[0m\u001b[1;36m4\u001b[0m\u001b[1;33m)\u001b[0m\u001b[1;33m)\u001b[0m\u001b[1;33m,\u001b[0m\u001b[0mindex\u001b[0m\u001b[1;33m=\u001b[0m\u001b[0mm_index2\u001b[0m\u001b[1;33m)\u001b[0m\u001b[1;33m\u001b[0m\u001b[1;33m\u001b[0m\u001b[0m\n\u001b[0;32m      5\u001b[0m \u001b[0mprint\u001b[0m\u001b[1;33m(\u001b[0m\u001b[0mdf2\u001b[0m\u001b[1;33m)\u001b[0m\u001b[1;33m\u001b[0m\u001b[1;33m\u001b[0m\u001b[0m\n\u001b[1;32m----> 6\u001b[1;33m \u001b[0mprint\u001b[0m\u001b[1;33m(\u001b[0m\u001b[0mdf2\u001b[0m\u001b[1;33m[\u001b[0m\u001b[1;33m:\u001b[0m\u001b[1;33m,\u001b[0m\u001b[1;36m1\u001b[0m\u001b[1;33m]\u001b[0m\u001b[1;33m)\u001b[0m\u001b[1;33m\u001b[0m\u001b[1;33m\u001b[0m\u001b[0m\n\u001b[0m",
      "\u001b[1;32mC:\\dev\\anaconda3\\envs\\py38\\lib\\site-packages\\pandas\\core\\frame.py\u001b[0m in \u001b[0;36m__getitem__\u001b[1;34m(self, key)\u001b[0m\n\u001b[0;32m   3022\u001b[0m             \u001b[1;32mif\u001b[0m \u001b[0mself\u001b[0m\u001b[1;33m.\u001b[0m\u001b[0mcolumns\u001b[0m\u001b[1;33m.\u001b[0m\u001b[0mnlevels\u001b[0m \u001b[1;33m>\u001b[0m \u001b[1;36m1\u001b[0m\u001b[1;33m:\u001b[0m\u001b[1;33m\u001b[0m\u001b[1;33m\u001b[0m\u001b[0m\n\u001b[0;32m   3023\u001b[0m                 \u001b[1;32mreturn\u001b[0m \u001b[0mself\u001b[0m\u001b[1;33m.\u001b[0m\u001b[0m_getitem_multilevel\u001b[0m\u001b[1;33m(\u001b[0m\u001b[0mkey\u001b[0m\u001b[1;33m)\u001b[0m\u001b[1;33m\u001b[0m\u001b[1;33m\u001b[0m\u001b[0m\n\u001b[1;32m-> 3024\u001b[1;33m             \u001b[0mindexer\u001b[0m \u001b[1;33m=\u001b[0m \u001b[0mself\u001b[0m\u001b[1;33m.\u001b[0m\u001b[0mcolumns\u001b[0m\u001b[1;33m.\u001b[0m\u001b[0mget_loc\u001b[0m\u001b[1;33m(\u001b[0m\u001b[0mkey\u001b[0m\u001b[1;33m)\u001b[0m\u001b[1;33m\u001b[0m\u001b[1;33m\u001b[0m\u001b[0m\n\u001b[0m\u001b[0;32m   3025\u001b[0m             \u001b[1;32mif\u001b[0m \u001b[0mis_integer\u001b[0m\u001b[1;33m(\u001b[0m\u001b[0mindexer\u001b[0m\u001b[1;33m)\u001b[0m\u001b[1;33m:\u001b[0m\u001b[1;33m\u001b[0m\u001b[1;33m\u001b[0m\u001b[0m\n\u001b[0;32m   3026\u001b[0m                 \u001b[0mindexer\u001b[0m \u001b[1;33m=\u001b[0m \u001b[1;33m[\u001b[0m\u001b[0mindexer\u001b[0m\u001b[1;33m]\u001b[0m\u001b[1;33m\u001b[0m\u001b[1;33m\u001b[0m\u001b[0m\n",
      "\u001b[1;32mC:\\dev\\anaconda3\\envs\\py38\\lib\\site-packages\\pandas\\core\\indexes\\range.py\u001b[0m in \u001b[0;36mget_loc\u001b[1;34m(self, key, method, tolerance)\u001b[0m\n\u001b[0;32m    352\u001b[0m                 \u001b[1;32mexcept\u001b[0m \u001b[0mValueError\u001b[0m \u001b[1;32mas\u001b[0m \u001b[0merr\u001b[0m\u001b[1;33m:\u001b[0m\u001b[1;33m\u001b[0m\u001b[1;33m\u001b[0m\u001b[0m\n\u001b[0;32m    353\u001b[0m                     \u001b[1;32mraise\u001b[0m \u001b[0mKeyError\u001b[0m\u001b[1;33m(\u001b[0m\u001b[0mkey\u001b[0m\u001b[1;33m)\u001b[0m \u001b[1;32mfrom\u001b[0m \u001b[0merr\u001b[0m\u001b[1;33m\u001b[0m\u001b[1;33m\u001b[0m\u001b[0m\n\u001b[1;32m--> 354\u001b[1;33m             \u001b[1;32mraise\u001b[0m \u001b[0mKeyError\u001b[0m\u001b[1;33m(\u001b[0m\u001b[0mkey\u001b[0m\u001b[1;33m)\u001b[0m\u001b[1;33m\u001b[0m\u001b[1;33m\u001b[0m\u001b[0m\n\u001b[0m\u001b[0;32m    355\u001b[0m         \u001b[1;32mreturn\u001b[0m \u001b[0msuper\u001b[0m\u001b[1;33m(\u001b[0m\u001b[1;33m)\u001b[0m\u001b[1;33m.\u001b[0m\u001b[0mget_loc\u001b[0m\u001b[1;33m(\u001b[0m\u001b[0mkey\u001b[0m\u001b[1;33m,\u001b[0m \u001b[0mmethod\u001b[0m\u001b[1;33m=\u001b[0m\u001b[0mmethod\u001b[0m\u001b[1;33m,\u001b[0m \u001b[0mtolerance\u001b[0m\u001b[1;33m=\u001b[0m\u001b[0mtolerance\u001b[0m\u001b[1;33m)\u001b[0m\u001b[1;33m\u001b[0m\u001b[1;33m\u001b[0m\u001b[0m\n\u001b[0;32m    356\u001b[0m \u001b[1;33m\u001b[0m\u001b[0m\n",
      "\u001b[1;31mKeyError\u001b[0m: (slice(None, None, None), 1)"
     ]
    }
   ],
   "source": [
    "class1=['python','python','math','math','En','En']\n",
    "class2=['期中','期末','期中','期末','期中','期末']\n",
    "m_index2=pd.MultiIndex.from_arrays([class1,class2])\n",
    "df2=DataFrame(np.random.randint(0,150,(6,4)),index=m_index2)\n",
    "print(df2)\n"
   ]
  },
  {
   "cell_type": "code",
   "execution_count": 88,
   "metadata": {},
   "outputs": [
    {
     "name": "stdout",
     "output_type": "stream",
     "text": [
      "             0    1    2    3\n",
      "期中 python  149  108   53   58\n",
      "   math    132  121    8  109\n",
      "   En       32   13  120  149\n",
      "期末 python  127    2   82  121\n",
      "   math      6   72  127    9\n",
      "   En      106   50   50   43\n"
     ]
    }
   ],
   "source": [
    "class1=['期中','期中','期中','期末','期末','期末']\n",
    "class2=['python','math','En','python','math','En']\n",
    "m_index2=pd.MultiIndex.from_arrays([class1,class2])\n",
    "df2=DataFrame(np.random.randint(0,150,(6,4)),index=m_index2)\n",
    "print(df2)"
   ]
  },
  {
   "cell_type": "code",
   "execution_count": 93,
   "metadata": {},
   "outputs": [
    {
     "name": "stdout",
     "output_type": "stream",
     "text": [
      "             0    1    2    3\n",
      "python 期中   11  109   84   99\n",
      "       期末   48   61  119   54\n",
      "math   期中  126   54  148   32\n",
      "       期末  124  109  107  119\n",
      "En     期中  149  145   56   47\n",
      "       期末   70   78  103  125\n"
     ]
    }
   ],
   "source": [
    "class1=['python','math','En']\n",
    "class2=['期中','期末']\n",
    "m_index2=pd.MultiIndex.from_product([class1,class2])\n",
    "df2=DataFrame(np.random.randint(0,150,(6,4)),index=m_index2)\n",
    "print(df2)"
   ]
  },
  {
   "cell_type": "code",
   "execution_count": 104,
   "metadata": {},
   "outputs": [
    {
     "name": "stdout",
     "output_type": "stream",
     "text": [
      "a  期中    127\n",
      "   期末     51\n",
      "b  期中     80\n",
      "   期末     36\n",
      "c  期中     23\n",
      "   期末    128\n",
      "dtype: int32\n",
      "51\n"
     ]
    }
   ],
   "source": [
    "s = Series(np.random.randint(0,150,size=6),\n",
    "           index=[['a','a','b','b','c','c'],['期中','期末','期中','期末','期中','期末']])\n",
    "print(s)\n",
    "# 取一个第一级索引\n",
    "# print(s['a'])\n",
    "\n",
    "# 取多个第一级索引\n",
    "# print(s[['a','b']])\n",
    "\n",
    "# 根据索引获取值 a 且期末\n",
    "# print(s['a','期末'])\n",
    "\n",
    "# loc方法取值\n",
    "# print(s.loc['a'])\n",
    "\n",
    "# print(s.loc[['a','b']])\n",
    "# print(s.loc['a','期末'])\n",
    "\n",
    "# iloc方法取值(iloc计算的事最内层索引)\n",
    "print(s.iloc[1])\n",
    "\n",
    "# print(s.iloc[1:4])"
   ]
  },
  {
   "cell_type": "code",
   "execution_count": 105,
   "metadata": {},
   "outputs": [
    {
     "name": "stdout",
     "output_type": "stream",
     "text": [
      "             0   1    2    3\n",
      "python 期中  118  34  104   89\n",
      "       期末  107  40   46   65\n",
      "math   期中  125  20   12   81\n",
      "       期末   74  58  109   74\n",
      "En     期中    4  53   74  132\n",
      "       期末   77  40   61   62\n"
     ]
    }
   ],
   "source": [
    "class1=['python','math','En']\n",
    "class2=['期中','期末']\n",
    "m_index2=pd.MultiIndex.from_product([class1,class2])\n",
    "df2=DataFrame(np.random.randint(0,150,(6,4)),index=m_index2)\n",
    "print(df2)"
   ]
  },
  {
   "cell_type": "code",
   "execution_count": 114,
   "metadata": {
    "scrolled": true
   },
   "outputs": [
    {
     "name": "stdout",
     "output_type": "stream",
     "text": [
      "0    118\n",
      "1     34\n",
      "2    104\n",
      "3     89\n",
      "Name: (python, 期中), dtype: int32\n"
     ]
    }
   ],
   "source": [
    "# 获取列\n",
    "# print(df2[0])\n",
    "\n",
    "# 一级索引\n",
    "# print(df2.loc['python'])\n",
    "\n",
    "# 多个一级索引\n",
    "# print(df2.loc[['python','math']])\n",
    "\n",
    "# 取一行\n",
    "# print(df2.loc['python','期末'])\n",
    "\n",
    "# 取一值\n",
    "# print(df2.loc['python','期末'][0])\n",
    "\n",
    "# iloc是只取最内层的索引的\n",
    "print(df2.iloc[0])   "
   ]
  },
  {
   "cell_type": "code",
   "execution_count": 120,
   "metadata": {},
   "outputs": [
    {
     "name": "stdout",
     "output_type": "stream",
     "text": [
      "DatetimeIndex(['2020-05-01', '2020-05-02', '2020-05-03', '2020-05-04',\n",
      "               '2020-05-05', '2020-05-06', '2020-05-07', '2020-05-08',\n",
      "               '2020-05-09', '2020-05-10', '2020-05-11', '2020-05-12',\n",
      "               '2020-05-13', '2020-05-14', '2020-05-15', '2020-05-16',\n",
      "               '2020-05-17', '2020-05-18', '2020-05-19', '2020-05-20',\n",
      "               '2020-05-21', '2020-05-22', '2020-05-23', '2020-05-24',\n",
      "               '2020-05-25', '2020-05-26', '2020-05-27', '2020-05-28',\n",
      "               '2020-05-29', '2020-05-30'],\n",
      "              dtype='datetime64[ns]', freq='D')\n",
      "DatetimeIndex(['2021-05-01', '2021-05-11', '2021-05-21', '2021-05-31',\n",
      "               '2021-06-10', '2021-06-20', '2021-06-30', '2021-07-10',\n",
      "               '2021-07-20', '2021-07-30'],\n",
      "              dtype='datetime64[ns]', freq='10D')\n"
     ]
    }
   ],
   "source": [
    "date = pd.date_range(start='20200501',end='20200530')\n",
    "print(date)\n",
    "date = pd.date_range(start='20210501',periods=10,freq='10D')\n",
    "print(date)"
   ]
  },
  {
   "cell_type": "code",
   "execution_count": 126,
   "metadata": {},
   "outputs": [
    {
     "name": "stdout",
     "output_type": "stream",
     "text": [
      "DatetimeIndex(['2021-01-09', '2021-01-10', '2021-01-11', '2021-01-12',\n",
      "               '2021-01-13'],\n",
      "              dtype='datetime64[ns]', freq='D')\n",
      "DatetimeIndex(['2021-01-10', '2021-01-11', '2021-01-12', '2021-01-13',\n",
      "               '2021-01-14'],\n",
      "              dtype='datetime64[ns]', freq='D')\n",
      "DatetimeIndex(['2021-01-09', '2021-01-10', '2021-01-11', '2021-01-12',\n",
      "               '2021-01-13', '2021-01-14'],\n",
      "              dtype='datetime64[ns]', freq='D')\n",
      "DatetimeIndex(['2021-01-09', '2021-01-10', '2021-01-11', '2021-01-12',\n",
      "               '2021-01-13', '2021-01-14'],\n",
      "              dtype='datetime64[ns]', freq='D')\n"
     ]
    }
   ],
   "source": [
    "data_time =pd.date_range(start='2021-01-09',end='2021-01-14',closed='left')\n",
    "print(data_time)\n",
    "data_time =pd.date_range(start='2021-01-09',end='2021-01-14',closed='right')\n",
    "print(data_time)\n",
    "data_time =pd.date_range(start='2021-01-09',end='2021-01-14',closed=None)\n",
    "print(data_time)\n",
    "data_time =pd.date_range(start='2021-01-09',end='2021-01-14')\n",
    "print(data_time)"
   ]
  },
  {
   "cell_type": "code",
   "execution_count": 127,
   "metadata": {},
   "outputs": [
    {
     "name": "stdout",
     "output_type": "stream",
     "text": [
      "2021-01-01    8\n",
      "2021-01-02    3\n",
      "2021-01-03    0\n",
      "2021-01-04    1\n",
      "2021-01-05    4\n",
      "2021-01-06    6\n",
      "2021-01-07    8\n",
      "2021-01-08    0\n",
      "2021-01-09    6\n",
      "2021-01-10    8\n",
      "Freq: D, dtype: int32\n"
     ]
    }
   ],
   "source": [
    "index = pd.date_range(start='20210101',periods=10)\n",
    "df = pd.Series(np.random.randint(0,10,size = 10),index=index)\n",
    "print(df)"
   ]
  },
  {
   "cell_type": "code",
   "execution_count": 128,
   "metadata": {},
   "outputs": [
    {
     "name": "stdout",
     "output_type": "stream",
     "text": [
      "2021-01-01    8\n",
      "2021-01-02    3\n",
      "2021-01-03    0\n",
      "2021-01-04    1\n",
      "2021-01-05    4\n",
      "2021-01-06    6\n",
      "2021-01-07    8\n",
      "2021-01-08    0\n",
      "Freq: D, dtype: int32\n"
     ]
    }
   ],
   "source": [
    "after = df.truncate(after='2021-01-8')\n",
    "print(after)"
   ]
  },
  {
   "cell_type": "code",
   "execution_count": 132,
   "metadata": {},
   "outputs": [
    {
     "name": "stdout",
     "output_type": "stream",
     "text": [
      "2019-01-01    1.326333\n",
      "2019-01-02    0.544152\n",
      "2019-01-03   -0.048949\n",
      "2019-01-04    0.789774\n",
      "2019-01-05    0.837115\n",
      "                ...   \n",
      "2021-09-22   -0.621118\n",
      "2021-09-23   -0.548397\n",
      "2021-09-24    0.326050\n",
      "2021-09-25   -1.516567\n",
      "2021-09-26   -0.664054\n",
      "Freq: D, Length: 1000, dtype: float64\n",
      "2020-01-01   -1.843388\n",
      "2020-01-02    0.623914\n",
      "2020-01-03    1.220604\n",
      "2020-01-04   -0.547328\n",
      "2020-01-05   -1.098203\n",
      "                ...   \n",
      "2020-12-27   -1.020859\n",
      "2020-12-28   -1.459158\n",
      "2020-12-29    0.327098\n",
      "2020-12-30    0.413954\n",
      "2020-12-31   -0.254664\n",
      "Freq: D, Length: 366, dtype: float64\n"
     ]
    }
   ],
   "source": [
    "long_ts = pd.Series(np.random.randn(1000),index=pd.date_range('1/1/2019',periods=1000))\n",
    "print(long_ts)\n",
    "# 根据年份获取\n",
    "result = long_ts['2020']\n",
    "print(result)"
   ]
  },
  {
   "cell_type": "code",
   "execution_count": 134,
   "metadata": {},
   "outputs": [
    {
     "name": "stdout",
     "output_type": "stream",
     "text": [
      "DatetimeIndex(['2021-03-17 00:00:00', '2021-03-17 02:00:00',\n",
      "               '2021-03-17 04:00:00', '2021-03-17 06:00:00',\n",
      "               '2021-03-17 08:00:00', '2021-03-17 10:00:00',\n",
      "               '2021-03-17 12:00:00', '2021-03-17 14:00:00',\n",
      "               '2021-03-17 16:00:00', '2021-03-17 18:00:00',\n",
      "               ...\n",
      "               '2021-03-29 06:00:00', '2021-03-29 08:00:00',\n",
      "               '2021-03-29 10:00:00', '2021-03-29 12:00:00',\n",
      "               '2021-03-29 14:00:00', '2021-03-29 16:00:00',\n",
      "               '2021-03-29 18:00:00', '2021-03-29 20:00:00',\n",
      "               '2021-03-29 22:00:00', '2021-03-30 00:00:00'],\n",
      "              dtype='datetime64[ns]', length=157, freq='2H')\n",
      "2021-03-17 08:00:00   -1.517496\n",
      "2021-03-17 10:00:00   -0.271649\n",
      "2021-03-17 12:00:00   -2.150888\n",
      "2021-03-17 14:00:00    0.195305\n",
      "2021-03-17 16:00:00    2.034375\n",
      "                         ...   \n",
      "2021-03-29 08:00:00    0.135188\n",
      "2021-03-29 10:00:00    0.101984\n",
      "2021-03-29 12:00:00   -1.650631\n",
      "2021-03-29 14:00:00   -0.131473\n",
      "2021-03-29 16:00:00    0.913386\n",
      "Length: 65, dtype: float64\n"
     ]
    }
   ],
   "source": [
    "# 通过between_time()返回位于指定时间段的数据集\n",
    "index=pd.date_range(\"2021-03-17\",\"2021-03-30\",freq=\"2H\")\n",
    "print(index)\n",
    "ts = pd.Series(np.random.randn(157),index=index)\n",
    "print(ts.between_time(\"7:00\",\"17:00\"))"
   ]
  },
  {
   "cell_type": "code",
   "execution_count": 138,
   "metadata": {},
   "outputs": [
    {
     "name": "stdout",
     "output_type": "stream",
     "text": [
      "                   0         1         2         3\n",
      "2021-01-01 -0.150174  0.555182 -1.424551 -0.026561\n",
      "2021-01-02 -0.739623  1.059348 -0.593264  0.433364\n",
      "2021-01-03 -0.687665 -0.537795 -1.315774 -0.573121\n",
      "2021-01-04 -1.388486 -1.666954 -1.624802  1.941784\n",
      "2021-01-05  0.711980  1.248144  2.757231 -0.133707\n",
      "...              ...       ...       ...       ...\n",
      "2021-04-06  0.682593  0.476258  1.388682 -1.675201\n",
      "2021-04-07 -1.341250 -0.798601  2.252888  0.444967\n",
      "2021-04-08 -0.691871  0.126833 -0.017641 -0.348142\n",
      "2021-04-09  0.881577 -0.376232 -0.433031 -1.166933\n",
      "2021-04-10  0.597047  1.768139  1.885411  0.682932\n",
      "\n",
      "[100 rows x 4 columns]\n",
      "                   0         1         2         3\n",
      "2021-02-01 -1.357524  0.942010  1.004850  0.011203\n",
      "2021-02-02 -0.946950 -1.238395  0.196892  0.187568\n",
      "2021-02-03 -1.133324  1.177723 -0.465735  0.339878\n",
      "2021-02-04  0.307003  0.748286 -0.806379  1.393312\n",
      "2021-02-05  1.830809 -0.948416 -0.583097  1.415454\n",
      "2021-02-06  1.275931  0.225402 -0.172693 -1.304441\n",
      "2021-02-07 -1.687414  0.805716  2.341610 -0.810826\n",
      "2021-02-08  0.010569 -0.521082 -0.905740  0.617153\n",
      "2021-02-09  1.878753 -0.455566  0.133307  0.457019\n",
      "2021-02-10 -0.071315  0.041817  0.970090  0.146232\n",
      "2021-02-11 -0.348195 -1.294398  0.154758 -0.158478\n",
      "2021-02-12 -0.586313  0.341074  1.465156  0.651609\n",
      "2021-02-13  0.687410 -0.552565 -0.196583 -0.911030\n",
      "2021-02-14 -0.947405  0.166222 -1.014863 -1.488456\n",
      "2021-02-15  0.126084 -0.526346  0.982559 -1.637605\n",
      "2021-02-16 -0.406020 -0.473321 -1.192104  0.162983\n",
      "2021-02-17  1.140904 -0.467377 -2.118213 -0.089069\n",
      "2021-02-18  0.900826  0.026220  0.680105 -1.082385\n",
      "2021-02-19  0.626521 -2.231818 -2.301122 -2.478911\n",
      "2021-02-20  0.374288  1.631152 -0.713643  0.459527\n",
      "2021-02-21  0.561281 -0.046827 -0.714876 -1.619217\n",
      "2021-02-22 -0.324923 -1.360495 -0.964480 -0.466596\n",
      "2021-02-23 -0.797749 -1.958836  1.804541 -0.178030\n",
      "2021-02-24  1.150418 -2.398376  0.110376  0.597365\n",
      "2021-02-25 -1.018032  0.861706  0.389569 -0.370930\n",
      "2021-02-26 -1.320833  0.768648  0.245427 -0.684750\n",
      "2021-02-27 -0.248114  1.494165  0.142089 -1.255015\n",
      "2021-02-28 -0.348068 -2.551337  1.020563  0.229481\n"
     ]
    }
   ],
   "source": [
    "index=pd.date_range('1/1/2021',periods=100)\n",
    "df = pd.DataFrame(np.random.randn(100,4),index=index)\n",
    "print(df)\n",
    "print(df.loc['2021-02'])"
   ]
  },
  {
   "cell_type": "code",
   "execution_count": 156,
   "metadata": {},
   "outputs": [
    {
     "name": "stdout",
     "output_type": "stream",
     "text": [
      "2019-01-01   -0.510847\n",
      "2019-01-02   -0.207062\n",
      "2019-01-03   -1.536984\n",
      "2019-01-04   -0.320297\n",
      "2019-01-05    0.150864\n",
      "2019-01-06   -2.276609\n",
      "2019-01-07    2.003307\n",
      "2019-01-08   -0.214439\n",
      "2019-01-09   -1.651408\n",
      "2019-01-10    0.362522\n",
      "Freq: D, dtype: float64\n"
     ]
    },
    {
     "data": {
      "text/plain": [
       "2019-01-01         NaN\n",
       "2019-01-02         NaN\n",
       "2019-01-03   -0.510847\n",
       "2019-01-04   -0.207062\n",
       "2019-01-05   -1.536984\n",
       "2019-01-06   -0.320297\n",
       "2019-01-07    0.150864\n",
       "2019-01-08   -2.276609\n",
       "2019-01-09    2.003307\n",
       "2019-01-10   -0.214439\n",
       "Freq: D, dtype: float64"
      ]
     },
     "execution_count": 156,
     "metadata": {},
     "output_type": "execute_result"
    }
   ],
   "source": [
    "ts = pd.Series(np.random.randn(10),index=pd.date_range('1/1/2019',periods=10))\n",
    "print(ts)\n",
    "\n",
    "ts.shift(periods=2)"
   ]
  },
  {
   "cell_type": "code",
   "execution_count": 157,
   "metadata": {},
   "outputs": [
    {
     "data": {
      "text/plain": [
       "2019-01-01    100.000000\n",
       "2019-01-02    100.000000\n",
       "2019-01-03     -0.510847\n",
       "2019-01-04     -0.207062\n",
       "2019-01-05     -1.536984\n",
       "2019-01-06     -0.320297\n",
       "2019-01-07      0.150864\n",
       "2019-01-08     -2.276609\n",
       "2019-01-09      2.003307\n",
       "2019-01-10     -0.214439\n",
       "Freq: D, dtype: float64"
      ]
     },
     "execution_count": 157,
     "metadata": {},
     "output_type": "execute_result"
    }
   ],
   "source": [
    "ts.shift(periods=2,fill_value=100)\n"
   ]
  },
  {
   "cell_type": "code",
   "execution_count": 158,
   "metadata": {},
   "outputs": [
    {
     "data": {
      "text/plain": [
       "2019-01-03   -0.510847\n",
       "2019-01-04   -0.207062\n",
       "2019-01-05   -1.536984\n",
       "2019-01-06   -0.320297\n",
       "2019-01-07    0.150864\n",
       "2019-01-08   -2.276609\n",
       "2019-01-09    2.003307\n",
       "2019-01-10   -0.214439\n",
       "2019-01-11   -1.651408\n",
       "2019-01-12    0.362522\n",
       "Freq: D, dtype: float64"
      ]
     },
     "execution_count": 158,
     "metadata": {},
     "output_type": "execute_result"
    }
   ],
   "source": [
    "ts.shift(periods=2,fill_value=100,freq='D')"
   ]
  },
  {
   "cell_type": "code",
   "execution_count": 161,
   "metadata": {},
   "outputs": [
    {
     "data": {
      "text/plain": [
       "Timestamp('2019-04-11 08:19:00')"
      ]
     },
     "execution_count": 161,
     "metadata": {},
     "output_type": "execute_result"
    }
   ],
   "source": [
    "pd.to_datetime(1554970740000,unit='ms')\n"
   ]
  },
  {
   "cell_type": "code",
   "execution_count": 162,
   "metadata": {},
   "outputs": [
    {
     "data": {
      "text/plain": [
       "Timestamp('2019-04-11 16:19:00+0800', tz='Asia/Shanghai')"
      ]
     },
     "execution_count": 162,
     "metadata": {},
     "output_type": "execute_result"
    }
   ],
   "source": [
    "pd.to_datetime(1554970740000,unit='ms').tz_localize('UTC').tz_convert('Asia/Shanghai')"
   ]
  },
  {
   "cell_type": "code",
   "execution_count": 169,
   "metadata": {},
   "outputs": [
    {
     "name": "stdout",
     "output_type": "stream",
     "text": [
      "      time_stamp\n",
      "0  1554970740000\n",
      "1  1554970800000\n",
      "2  1554970860000\n",
      "2019-10-10 00:00:00\n"
     ]
    }
   ],
   "source": [
    "df = pd.DataFrame([1554970740000, 1554970800000, 1554970860000],columns = ['time_stamp'])\n",
    "print(df)\n",
    "pd.to_datetime(df['time_stamp'],unit='ms').dt.tz_localize('UTC').dt.tz_convert('Asia/Shanghai')\n",
    "print(pd.to_datetime('2019年10月10日',format='%Y年%m月%d日'))"
   ]
  },
  {
   "cell_type": "code",
   "execution_count": 170,
   "metadata": {},
   "outputs": [
    {
     "name": "stdout",
     "output_type": "stream",
     "text": [
      "    name  Year   Salary   Bonus\n",
      "0   BOSS  2016   999999  100000\n",
      "1  Lilei  2016    20000   20000\n",
      "2  Lilei  2016    25000   20000\n",
      "3    Han  2016     3000    5000\n",
      "4   BOSS  2017  9999999  200000\n",
      "5   BOSS  2017   999999  300000\n",
      "6    Han  2017     3500    3000\n",
      "7   BOSS  2017   999999  400000\n"
     ]
    }
   ],
   "source": [
    "import pandas as pd\n",
    "import numpy as np\n",
    "df=pd.DataFrame({\n",
    "    'name':['BOSS','Lilei','Lilei','Han','BOSS','BOSS','Han','BOSS'],\n",
    "    'Year':[2016,2016,2016,2016,2017,2017,2017,2017],\n",
    "    'Salary':[999999,20000,25000,3000,9999999,999999,3500,999999],\n",
    "    'Bonus':[100000,20000,20000,5000,200000,300000,3000,400000]\n",
    "    })\n",
    "\n",
    "print(df)"
   ]
  },
  {
   "cell_type": "code",
   "execution_count": 173,
   "metadata": {},
   "outputs": [
    {
     "name": "stdout",
     "output_type": "stream",
     "text": [
      "<class 'pandas.core.groupby.generic.DataFrameGroupBy'>\n",
      "<pandas.core.groupby.generic.DataFrameGroupBy object at 0x00000204FD2D5880>\n",
      "{'BOSS': [0, 4, 5, 7], 'Han': [3, 6], 'Lilei': [1, 2]}\n",
      "       Year  Salary  Bonus\n",
      "name                      \n",
      "BOSS      4       4      4\n",
      "Han       2       2      2\n",
      "Lilei     2       2      2\n"
     ]
    }
   ],
   "source": [
    "group_by_name=df.groupby('name')\n",
    "print(type(group_by_name))\n",
    "print(group_by_name)\n",
    "# 查看分组\n",
    "print(group_by_name.groups)\n",
    "# 分组后的数量\n",
    "print(group_by_name.count())"
   ]
  },
  {
   "cell_type": "code",
   "execution_count": 174,
   "metadata": {},
   "outputs": [
    {
     "name": "stdout",
     "output_type": "stream",
     "text": [
      "BOSS\n",
      "   name  Year   Salary   Bonus\n",
      "0  BOSS  2016   999999  100000\n",
      "4  BOSS  2017  9999999  200000\n",
      "5  BOSS  2017   999999  300000\n",
      "7  BOSS  2017   999999  400000\n",
      "Han\n",
      "  name  Year  Salary  Bonus\n",
      "3  Han  2016    3000   5000\n",
      "6  Han  2017    3500   3000\n",
      "Lilei\n",
      "    name  Year  Salary  Bonus\n",
      "1  Lilei  2016   20000  20000\n",
      "2  Lilei  2016   25000  20000\n"
     ]
    }
   ],
   "source": [
    "for name,group in group_by_name:\n",
    "    print(name)# 组的名字\n",
    "    print(group)# 组具体内容"
   ]
  },
  {
   "cell_type": "code",
   "execution_count": 175,
   "metadata": {},
   "outputs": [
    {
     "name": "stdout",
     "output_type": "stream",
     "text": [
      "   Data1  Data2 key1 key2\n",
      "0      0     13    a    x\n",
      "1      7     18    a    y\n",
      "2      5     17    b    y\n",
      "3      4     10    b    x\n",
      "4      8     12    a    y\n"
     ]
    }
   ],
   "source": [
    "\n",
    "df1=pd.DataFrame({'Data1':np.random.randint(0,10,5),\n",
    "                  'Data2':np.random.randint(10,20,5),\n",
    "                  'key1':list('aabba'),\n",
    "                  'key2':list('xyyxy')})\n",
    "print(df1)"
   ]
  },
  {
   "cell_type": "code",
   "execution_count": 176,
   "metadata": {},
   "outputs": [
    {
     "name": "stdout",
     "output_type": "stream",
     "text": [
      "      Data1  Data2\n",
      "key1              \n",
      "a        15     43\n",
      "b         9     27\n"
     ]
    }
   ],
   "source": [
    "print(df1.groupby('key1').sum())\n",
    "# 注意：当分组后进行数值计算时，不是数值类的列（即麻烦列）会被清除"
   ]
  },
  {
   "cell_type": "code",
   "execution_count": 177,
   "metadata": {},
   "outputs": [
    {
     "name": "stdout",
     "output_type": "stream",
     "text": [
      "      Data1  Data2\n",
      "key1              \n",
      "a        15     43\n",
      "b         9     27\n"
     ]
    }
   ],
   "source": [
    "print(df1.groupby('key1').agg('sum'))"
   ]
  },
  {
   "cell_type": "code",
   "execution_count": 178,
   "metadata": {},
   "outputs": [
    {
     "name": "stdout",
     "output_type": "stream",
     "text": [
      "     Data1                Data2                     \n",
      "       sum mean       std   sum       mean       std\n",
      "key1                                                \n",
      "a       15  5.0  4.358899    43  14.333333  3.214550\n",
      "b        9  4.5  0.707107    27  13.500000  4.949747\n"
     ]
    }
   ],
   "source": [
    "print(df1.groupby('key1').agg(['sum','mean','std']))"
   ]
  },
  {
   "cell_type": "code",
   "execution_count": 179,
   "metadata": {},
   "outputs": [
    {
     "name": "stdout",
     "output_type": "stream",
     "text": [
      "     Data1     Data2\n",
      "      mean max   sum\n",
      "key1                \n",
      "a      5.0   8    43\n",
      "b      4.5   5    27\n"
     ]
    }
   ],
   "source": [
    "dict_mapping = {\n",
    "    'Data1':['mean','max'],\n",
    "    'Data2':'sum'\n",
    "}\n",
    "print(df1.groupby('key1').agg(dict_mapping))"
   ]
  },
  {
   "cell_type": "code",
   "execution_count": 183,
   "metadata": {},
   "outputs": [
    {
     "name": "stdout",
     "output_type": "stream",
     "text": [
      "  sex smoker  age  weight\n",
      "0   F      Y   21     120\n",
      "1   F      N   30     100\n",
      "2   M      Y   17     132\n",
      "3   F      Y   37     140\n",
      "4   M      N   40      94\n",
      "5   M      Y   18      89\n",
      "6   F      Y   26     123\n",
      "0    1\n",
      "1    1\n",
      "2    0\n",
      "3    1\n",
      "4    1\n",
      "5    1\n",
      "6    1\n",
      "Name: age, dtype: int64\n",
      "  sex smoker  age  weight\n",
      "0   F      Y    1     120\n",
      "1   F      N    1     100\n",
      "2   M      Y    0     132\n",
      "3   F      Y    1     140\n",
      "4   M      N    1      94\n",
      "5   M      Y    1      89\n",
      "6   F      Y    1     123\n"
     ]
    },
    {
     "data": {
      "text/html": [
       "<div>\n",
       "<style scoped>\n",
       "    .dataframe tbody tr th:only-of-type {\n",
       "        vertical-align: middle;\n",
       "    }\n",
       "\n",
       "    .dataframe tbody tr th {\n",
       "        vertical-align: top;\n",
       "    }\n",
       "\n",
       "    .dataframe thead th {\n",
       "        text-align: right;\n",
       "    }\n",
       "</style>\n",
       "<table border=\"1\" class=\"dataframe\">\n",
       "  <thead>\n",
       "    <tr style=\"text-align: right;\">\n",
       "      <th></th>\n",
       "      <th></th>\n",
       "      <th>sex</th>\n",
       "      <th>smoker</th>\n",
       "      <th>age</th>\n",
       "      <th>weight</th>\n",
       "    </tr>\n",
       "    <tr>\n",
       "      <th>smoker</th>\n",
       "      <th></th>\n",
       "      <th></th>\n",
       "      <th></th>\n",
       "      <th></th>\n",
       "      <th></th>\n",
       "    </tr>\n",
       "  </thead>\n",
       "  <tbody>\n",
       "    <tr>\n",
       "      <th rowspan=\"2\" valign=\"top\">N</th>\n",
       "      <th>4</th>\n",
       "      <td>M</td>\n",
       "      <td>N</td>\n",
       "      <td>1</td>\n",
       "      <td>94</td>\n",
       "    </tr>\n",
       "    <tr>\n",
       "      <th>1</th>\n",
       "      <td>F</td>\n",
       "      <td>N</td>\n",
       "      <td>1</td>\n",
       "      <td>100</td>\n",
       "    </tr>\n",
       "    <tr>\n",
       "      <th rowspan=\"2\" valign=\"top\">Y</th>\n",
       "      <th>2</th>\n",
       "      <td>M</td>\n",
       "      <td>Y</td>\n",
       "      <td>0</td>\n",
       "      <td>132</td>\n",
       "    </tr>\n",
       "    <tr>\n",
       "      <th>3</th>\n",
       "      <td>F</td>\n",
       "      <td>Y</td>\n",
       "      <td>1</td>\n",
       "      <td>140</td>\n",
       "    </tr>\n",
       "  </tbody>\n",
       "</table>\n",
       "</div>"
      ],
      "text/plain": [
       "         sex smoker  age  weight\n",
       "smoker                          \n",
       "N      4   M      N    1      94\n",
       "       1   F      N    1     100\n",
       "Y      2   M      Y    0     132\n",
       "       3   F      Y    1     140"
      ]
     },
     "execution_count": 183,
     "metadata": {},
     "output_type": "execute_result"
    }
   ],
   "source": [
    "df1=pd.DataFrame({'sex':list('FFMFMMF'),'smoker':list('YNYYNYY'),'age':[21,30,17,37,40,18,26],'weight':[120,100,132,140,94,89,123]})\n",
    "print(df1)\n",
    "def bin_age(age):\n",
    "    if age >=18:\n",
    "        return 1\n",
    "    else:\n",
    "        return 0\n",
    "print(df1['age'].apply(bin_age))\n",
    "df1['age'] = df1['age'].apply(bin_age)\n",
    "print(df1)\n",
    "def top(smoker,col,n=5):\n",
    "    \n",
    "    return smoker.sort_values(by=col)[-n:]\n",
    "df1.groupby('smoker').apply(top,col='weight',n=2)"
   ]
  }
 ],
 "metadata": {
  "kernelspec": {
   "display_name": "py38",
   "language": "python",
   "name": "py38"
  },
  "language_info": {
   "codemirror_mode": {
    "name": "ipython",
    "version": 3
   },
   "file_extension": ".py",
   "mimetype": "text/x-python",
   "name": "python",
   "nbconvert_exporter": "python",
   "pygments_lexer": "ipython3",
   "version": "3.8.8"
  }
 },
 "nbformat": 4,
 "nbformat_minor": 4
}
