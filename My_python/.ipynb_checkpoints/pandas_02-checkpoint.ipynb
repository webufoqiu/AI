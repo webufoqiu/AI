{
 "cells": [
  {
   "cell_type": "code",
   "execution_count": null,
   "metadata": {},
   "outputs": [],
   "source": []
  },
  {
   "cell_type": "code",
   "execution_count": 3,
   "metadata": {},
   "outputs": [
    {
     "name": "stdout",
     "output_type": "stream",
     "text": [
      "Empty DataFrame\n",
      "Columns: []\n",
      "Index: []\n"
     ]
    }
   ],
   "source": [
    "import pandas as pd\n",
    "df = pd.DataFrame() \n",
    "print(df)"
   ]
  },
  {
   "cell_type": "code",
   "execution_count": 7,
   "metadata": {},
   "outputs": [
    {
     "name": "stdout",
     "output_type": "stream",
     "text": [
      "0    1\n",
      "1    2\n",
      "2    3\n",
      "3    4\n",
      "dtype: int64\n",
      "0    [1, 2]\n",
      "1    [3, 4]\n",
      "dtype: object\n",
      "<class 'pandas.core.series.Series'>\n"
     ]
    }
   ],
   "source": [
    "sel =  pd.Series([1,2,3,4])\n",
    "print(sel)\n",
    "sel =  pd.Series([[1,2],[3,4]])\n",
    "print(sel)\n",
    "print(type(sel))"
   ]
  },
  {
   "cell_type": "code",
   "execution_count": 17,
   "metadata": {},
   "outputs": [
    {
     "name": "stdout",
     "output_type": "stream",
     "text": [
      "a    1\n",
      "b    2\n",
      "c    3\n",
      "d    4\n",
      "dtype: int64\n",
      "[1 2 3 4]\n",
      "<class 'numpy.ndarray'>\n",
      "Index(['a', 'b', 'c', 'd'], dtype='object')\n",
      "<class 'pandas.core.indexes.base.Index'>\n",
      "[('a', 1), ('b', 2), ('c', 3), ('d', 4)]\n"
     ]
    }
   ],
   "source": [
    "# sel =  Series(data = [1,2,3,4], index = ['a','b','c','d'])\n",
    "sel =  pd.Series(data = [1,2,3,4], index = list('abcd'))\n",
    "print(sel)\n",
    "# 获取内容\n",
    "print(sel.values)\n",
    "print(type(sel.values))\n",
    "# 获取索引\n",
    "print(sel.index)\n",
    "print(type(sel.index))\n",
    "# 获取索引和值对\n",
    "print(list(sel.iteritems()))"
   ]
  },
  {
   "cell_type": "code",
   "execution_count": 15,
   "metadata": {},
   "outputs": [
    {
     "data": {
      "text/plain": [
       "'1.2.4'"
      ]
     },
     "execution_count": 15,
     "metadata": {},
     "output_type": "execute_result"
    }
   ],
   "source": [
    "pd.__version__"
   ]
  },
  {
   "cell_type": "code",
   "execution_count": 20,
   "metadata": {
    "scrolled": true
   },
   "outputs": [
    {
     "name": "stdout",
     "output_type": "stream",
     "text": [
      "red      100\n",
      "black    400\n",
      "green    300\n",
      "pink     900\n",
      "dtype: int64\n",
      "<class 'pandas.core.series.Series'>\n"
     ]
    }
   ],
   "source": [
    "dict={\"red\":100,\"black\":400,\"green\":300,\"pink\":900}\n",
    "se3=pd.Series(dict)\n",
    "print(se3)\n",
    "print(type(se3))"
   ]
  },
  {
   "cell_type": "code",
   "execution_count": 24,
   "metadata": {},
   "outputs": [
    {
     "name": "stdout",
     "output_type": "stream",
     "text": [
      "3\n",
      "3\n"
     ]
    }
   ],
   "source": [
    "sel =  pd.Series(data = [1,2,3,4], index = list('abcd'))\n",
    "print(sel['c'])\n",
    "print(sel[2])"
   ]
  },
  {
   "cell_type": "code",
   "execution_count": 28,
   "metadata": {},
   "outputs": [
    {
     "name": "stdout",
     "output_type": "stream",
     "text": [
      "索引下标\n",
      " a    1\n",
      "c    3\n",
      "dtype: int64\n",
      "位置下标\n",
      " b    2\n",
      "d    4\n",
      "dtype: int64\n"
     ]
    }
   ],
   "source": [
    "print('索引下标\\n',sel[['a','c']])\n",
    "print('位置下标\\n',sel[[1,3]])"
   ]
  },
  {
   "cell_type": "code",
   "execution_count": 30,
   "metadata": {},
   "outputs": [
    {
     "name": "stdout",
     "output_type": "stream",
     "text": [
      "索引切片\n",
      " b    2\n",
      "c    3\n",
      "d    4\n",
      "dtype: int64\n",
      "位置切片\n",
      " b    2\n",
      "c    3\n",
      "dtype: int64\n"
     ]
    }
   ],
   "source": [
    "print('索引切片\\n',sel['b':'d'])# 左右都包含\n",
    "print('位置切片\\n',sel[1:3])# 左包含右不包含\n"
   ]
  },
  {
   "cell_type": "code",
   "execution_count": 34,
   "metadata": {},
   "outputs": [
    {
     "name": "stdout",
     "output_type": "stream",
     "text": [
      "d    1\n",
      "c    2\n",
      "b    3\n",
      "a    4\n",
      "dtype: int64\n",
      "b    3.0\n",
      "a    4.0\n",
      "c    2.0\n",
      "d    1.0\n",
      "e    NaN\n",
      "dtype: float64\n",
      "d    1\n",
      "c    2\n",
      "b    3\n",
      "a    4\n",
      "dtype: int64\n"
     ]
    }
   ],
   "source": [
    "sel.index = list('dcba')\n",
    "print(sel)\n",
    "# ReIndex重新索引,会返回一个新的Series(调用reindex将会重新排序，缺失值则用NaN填补)\n",
    "print(sel.reindex(['b','a','c','d','e']))\n",
    "print(sel)"
   ]
  },
  {
   "cell_type": "code",
   "execution_count": 38,
   "metadata": {},
   "outputs": [
    {
     "name": "stdout",
     "output_type": "stream",
     "text": [
      "0    10\n",
      "1    11\n",
      "2    12\n",
      "3    13\n",
      "4    14\n",
      "dtype: int64\n",
      "0    10\n",
      "1    11\n",
      "4    14\n",
      "dtype: int64\n",
      "0    10\n",
      "1    11\n",
      "2    12\n",
      "3    13\n",
      "4    14\n",
      "dtype: int64\n"
     ]
    }
   ],
   "source": [
    "se1=pd.Series(range(10,15))\n",
    "print(se1)\n",
    "se2=se1.drop([2,3])\n",
    "# print(se1.drop([2,3]))\n",
    "print(se2)\n",
    "print(se1)"
   ]
  },
  {
   "cell_type": "code",
   "execution_count": 39,
   "metadata": {},
   "outputs": [
    {
     "name": "stdout",
     "output_type": "stream",
     "text": [
      "Accra       NaN\n",
      "Delhi       NaN\n",
      "HongKong    NaN\n",
      "Humbai      NaN\n",
      "London      0.0\n",
      "lagos      -2.0\n",
      "dtype: float64\n",
      "Accra        NaN\n",
      "Delhi        NaN\n",
      "HongKong     NaN\n",
      "Humbai       NaN\n",
      "London       2.0\n",
      "lagos       10.0\n",
      "dtype: float64\n",
      "Accra        NaN\n",
      "Delhi        NaN\n",
      "HongKong     NaN\n",
      "Humbai       NaN\n",
      "London       1.0\n",
      "lagos       24.0\n",
      "dtype: float64\n"
     ]
    }
   ],
   "source": [
    "series1 = pd.Series([1,2,3,4],['London','HongKong','Humbai','lagos'])\n",
    "series2 = pd.Series([1,3,6,4],['London','Accra','lagos','Delhi'])\n",
    "\n",
    "print(series1-series2)\n",
    "print(series1+series2)\n",
    "print(series1*series2)"
   ]
  },
  {
   "cell_type": "code",
   "execution_count": 42,
   "metadata": {},
   "outputs": [
    {
     "name": "stdout",
     "output_type": "stream",
     "text": [
      "b    6\n",
      "d    5\n",
      "dtype: int64\n",
      "a     2\n",
      "b    12\n",
      "c     6\n",
      "d    10\n",
      "dtype: int64\n",
      "a     1\n",
      "b    36\n",
      "c     9\n",
      "d    25\n",
      "dtype: int64\n"
     ]
    }
   ],
   "source": [
    "import numpy as np\n",
    "sel =  pd.Series(data = [1,6,3,5], index = list('abcd'))\n",
    "print(sel[sel>3]) # 布尔数组过滤\n",
    "print(sel*2) # 标量乘法\n",
    "print(np.square(sel)) # 可以直接加入到numpy的数学函数"
   ]
  },
  {
   "cell_type": "code",
   "execution_count": 48,
   "metadata": {},
   "outputs": [
    {
     "name": "stdout",
     "output_type": "stream",
     "text": [
      "   a  b  c  d\n",
      "1  2  3  6  2\n",
      "2  9  0  5  9\n",
      "3  5  3  1  9\n",
      "4  5  5  0  8\n"
     ]
    }
   ],
   "source": [
    "import numpy as np\n",
    "from pandas import DataFrame,Series\n",
    "df1 = DataFrame(np.random.randint(0,10,(4,4)),index=[1,2,3,4],columns=['a','b','c','d'])\n",
    "print(df1)"
   ]
  },
  {
   "cell_type": "code",
   "execution_count": 49,
   "metadata": {},
   "outputs": [
    {
     "name": "stdout",
     "output_type": "stream",
     "text": [
      "    Province  pop  year\n",
      "1  Guangdong  1.3  2018\n",
      "2    Beijing  2.5  2018\n",
      "3    Qinghai  1.1  2018\n",
      "4     Fujian  0.7  2018\n"
     ]
    }
   ],
   "source": [
    "dict={\n",
    "    'Province': ['Guangdong', 'Beijing', 'Qinghai', 'Fujian'],\n",
    "    'pop': [1.3, 2.5, 1.1, 0.7],\n",
    "    'year': [2018, 2018, 2018, 2018]}\n",
    "df2=DataFrame(dict,index=[1,2,3,4])\n",
    "print(df2)"
   ]
  },
  {
   "cell_type": "code",
   "execution_count": 59,
   "metadata": {},
   "outputs": [
    {
     "name": "stdout",
     "output_type": "stream",
     "text": [
      "   a  b\n",
      "0  1  4\n",
      "1  2  5\n",
      "2  3  6\n",
      "   a  b\n",
      "1  1  4\n",
      "2  2  5\n",
      "3  3  6\n"
     ]
    }
   ],
   "source": [
    "dict2={\"a\":[1,2,3],\"b\":[4,5,6]}\n",
    "df5=pd.DataFrame.from_dict(dict2)\n",
    "df6=pd.DataFrame(dict2,index=[1,2,3])  #对比\n",
    "print(df5)\n",
    "print(df6)"
   ]
  },
  {
   "cell_type": "code",
   "execution_count": 61,
   "metadata": {},
   "outputs": [
    {
     "name": "stdout",
     "output_type": "stream",
     "text": [
      "  Name Age country\n",
      "a   zs  10      中国\n",
      "b   ls  20      韩国\n",
      "c   we  30      日本\n",
      "d  NaN  40     NaN\n",
      "{'Name': {'a': 'zs', 'b': 'ls', 'c': 'we', 'd': nan}, 'Age': {'a': '10', 'b': '20', 'c': '30', 'd': '40'}, 'country': {'a': '中国', 'b': '韩国', 'c': '日本', 'd': nan}}\n"
     ]
    }
   ],
   "source": [
    "data = {\n",
    "    'Name':pd.Series(['zs','ls','we'],index=['a','b','c']),\n",
    "    'Age':pd.Series(['10','20','30','40'],index=['a','b','c','d']),\n",
    "    'country':pd.Series(['中国','日本','韩国'],index=['a','c','b'])\n",
    "}\n",
    "\n",
    "df = DataFrame(data)\n",
    "print(df)\n",
    "# to_dict()方法将DataFrame对象转换为字典\n",
    "dict = df.to_dict()\n",
    "print(dict)"
   ]
  },
  {
   "cell_type": "code",
   "execution_count": 64,
   "metadata": {},
   "outputs": [
    {
     "name": "stdout",
     "output_type": "stream",
     "text": [
      "       name age national\n",
      "0     James  18       us\n",
      "1     Curry  20    China\n",
      "2  Iversion  19       us\n",
      "(3, 3)\n",
      "['0', '1', '2']\n",
      "['name', 'age', 'national']\n",
      "name        object\n",
      "age         object\n",
      "national    object\n",
      "dtype: object\n",
      "2\n"
     ]
    }
   ],
   "source": [
    "df_dict = {\n",
    "    'name':['James','Curry','Iversion'],\n",
    "    'age':['18','20','19'],\n",
    "    'national':['us','China','us']\n",
    "}\n",
    "df = pd.DataFrame(data=df_dict,index=['0','1','2'])\n",
    "print(df)\n",
    "# 获取行数和列数\n",
    "print(df.shape)\n",
    "\n",
    "# # 获取行索引\n",
    "print(df.index.tolist())\n",
    "\n",
    "# # 获取列索引\n",
    "print(df.columns.tolist())\n",
    "\n",
    "# 获取数据的类型\n",
    "print(df.dtypes)\n",
    "\n",
    "# 获取数据的维度\n",
    "print(df.ndim)"
   ]
  },
  {
   "cell_type": "code",
   "execution_count": 66,
   "metadata": {},
   "outputs": [
    {
     "name": "stdout",
     "output_type": "stream",
     "text": [
      "[['James' '18' 'us']\n",
      " ['Curry' '20' 'China']\n",
      " ['Iversion' '19' 'us']]\n",
      "<class 'numpy.ndarray'>\n"
     ]
    }
   ],
   "source": [
    "print(df.values)\n",
    "print(type(df.values))"
   ]
  },
  {
   "cell_type": "code",
   "execution_count": 67,
   "metadata": {},
   "outputs": [
    {
     "name": "stdout",
     "output_type": "stream",
     "text": [
      "<class 'pandas.core.frame.DataFrame'>\n",
      "Index: 3 entries, 0 to 2\n",
      "Data columns (total 3 columns):\n",
      " #   Column    Non-Null Count  Dtype \n",
      "---  ------    --------------  ----- \n",
      " 0   name      3 non-null      object\n",
      " 1   age       3 non-null      object\n",
      " 2   national  3 non-null      object\n",
      "dtypes: object(3)\n",
      "memory usage: 96.0+ bytes\n",
      "None\n"
     ]
    }
   ],
   "source": [
    "print(df.info())"
   ]
  },
  {
   "cell_type": "code",
   "execution_count": 68,
   "metadata": {},
   "outputs": [
    {
     "name": "stdout",
     "output_type": "stream",
     "text": [
      "<class 'pandas.core.frame.DataFrame'>\n"
     ]
    }
   ],
   "source": [
    "print(type(df[['name','age']]))"
   ]
  },
  {
   "cell_type": "code",
   "execution_count": 69,
   "metadata": {},
   "outputs": [
    {
     "name": "stdout",
     "output_type": "stream",
     "text": [
      "       name age\n",
      "1     Curry  20\n",
      "2  Iversion  19\n"
     ]
    }
   ],
   "source": [
    "print(df[1:3][['name','age']])"
   ]
  },
  {
   "cell_type": "code",
   "execution_count": 74,
   "metadata": {},
   "outputs": [
    {
     "name": "stdout",
     "output_type": "stream",
     "text": [
      "name        Curry\n",
      "age            20\n",
      "national    China\n",
      "Name: 1, dtype: object\n",
      "<class 'pandas.core.series.Series'>\n"
     ]
    }
   ],
   "source": [
    "print(df.iloc[1])\n",
    "print(type(df.iloc[1]))"
   ]
  },
  {
   "cell_type": "code",
   "execution_count": 76,
   "metadata": {},
   "outputs": [
    {
     "name": "stdout",
     "output_type": "stream",
     "text": [
      "       name age national\n",
      "0     James  18       us\n",
      "2  Iversion  19       us\n",
      "<class 'pandas.core.frame.DataFrame'>\n"
     ]
    }
   ],
   "source": [
    "print(df.iloc[[0,2],:])\n",
    "print(type(df.iloc[[0,2],:]))"
   ]
  },
  {
   "cell_type": "code",
   "execution_count": 77,
   "metadata": {},
   "outputs": [
    {
     "name": "stdout",
     "output_type": "stream",
     "text": [
      "       name age national\n",
      "0     panda  18       us\n",
      "1     Curry  20    China\n",
      "2  Iversion  19       us\n"
     ]
    }
   ],
   "source": [
    "df.iloc[0,0]='panda'\n",
    "print(df)"
   ]
  },
  {
   "cell_type": "code",
   "execution_count": 79,
   "metadata": {},
   "outputs": [
    {
     "name": "stdout",
     "output_type": "stream",
     "text": [
      "       name age national\n",
      "1     Curry  20    China\n",
      "2  Iversion  19       us\n",
      "0     panda  18       us\n"
     ]
    }
   ],
   "source": [
    "df = df.sort_values(by='age',ascending=False)\n",
    "print(df)"
   ]
  },
  {
   "cell_type": "code",
   "execution_count": 7,
   "metadata": {},
   "outputs": [
    {
     "name": "stdout",
     "output_type": "stream",
     "text": [
      "    a  b  c\n",
      "bj  0  1  2\n",
      "sh  3  4  5\n",
      "gz  6  7  8\n",
      "Index(['bj', 'sh', 'gz'], dtype='object')\n",
      "<class 'pandas.core.indexes.base.Index'>\n",
      "           a  b  c\n",
      "beijing    0  1  2\n",
      "shanghai   3  4  5\n",
      "guangzhou  6  7  8\n"
     ]
    }
   ],
   "source": [
    "import pandas as pd\n",
    "import numpy as np\n",
    "df1 = pd.DataFrame(np.arange(9).reshape(3, 3), index = ['bj', 'sh', 'gz'], columns=['a', 'b', 'c'])\n",
    "print(df1)\n",
    "print(df1.index) \n",
    "print(type(df1.index)) \n",
    "df1.index = ['beijing', 'shanghai', 'guangzhou']\n",
    "print(df1)"
   ]
  },
  {
   "cell_type": "code",
   "execution_count": 9,
   "metadata": {},
   "outputs": [
    {
     "name": "stdout",
     "output_type": "stream",
     "text": [
      "None\n",
      "                   a_ABC_ABC  b_ABC_ABC  c_ABC_ABC\n",
      "beijing_ABC_ABC            0          1          2\n",
      "shanghai_ABC_ABC           3          4          5\n",
      "guangzhou_ABC_ABC          6          7          8\n",
      "                   a_ABC_ABC  b_ABC_ABC  c_ABC_ABC\n",
      "beijing_ABC_ABC            0          1          2\n",
      "shanghai_ABC_ABC           3          4          5\n",
      "guangzhou_ABC_ABC          6          7          8\n"
     ]
    }
   ],
   "source": [
    "# 自定义map函数（x是原有的行列值）\n",
    "def test_map(x):\n",
    "    \n",
    "    return x+'_ABC'\n",
    "# inplace：布尔值，默认为False。指定是否返回新的DataFrame。如果为True，则在原df上修改，返回值为None。\n",
    "print(df1.rename(index=test_map, columns=test_map, inplace=True))\n",
    "print(df1)\n",
    "# 同时，rename 还可以传入字典，为某个 index 单独修改名称\n",
    "df3 = df1.rename(index={'bj':'beijing'}, columns = {'a':'aa'}) \n",
    "print(df3)"
   ]
  },
  {
   "cell_type": "code",
   "execution_count": 12,
   "metadata": {},
   "outputs": [
    {
     "name": "stdout",
     "output_type": "stream",
     "text": [
      "   X  Y  S  Z\n",
      "0  0  0  a  1\n",
      "1  1  1  b  1\n",
      "2  2  2  c  2\n",
      "3  3  3  d  2\n",
      "4  4  4  e  2\n",
      "   X  Y  S  Z\n",
      "a  0  0  a  1\n",
      "b  1  1  b  1\n",
      "c  2  2  c  2\n",
      "d  3  3  d  2\n",
      "e  4  4  e  2\n"
     ]
    }
   ],
   "source": [
    "df1=pd.DataFrame({'X':range(5),'Y':range(5),'S':list(\"abcde\"),'Z':[1,1,2,2,2]})\n",
    "print(df1)\n",
    "# 指定一列为索引 (drop=False 指定同时保留作为索引的列)\n",
    "result = df1.set_index('S',drop=False)\n",
    "result.index.name=None\n",
    "print(result)"
   ]
  },
  {
   "cell_type": "code",
   "execution_count": 13,
   "metadata": {},
   "outputs": [
    {
     "name": "stdout",
     "output_type": "stream",
     "text": [
      "   0  0  a  1\n",
      "0  0  0  a  1\n",
      "1  1  1  b  1\n",
      "2  2  2  c  2\n",
      "3  3  3  d  2\n",
      "4  4  4  e  2\n"
     ]
    }
   ],
   "source": [
    "result = df1.set_axis(df1.iloc[0],axis=1,inplace=False)\n",
    "result.columns.name=None\n",
    "print(result)"
   ]
  },
  {
   "cell_type": "code",
   "execution_count": 17,
   "metadata": {},
   "outputs": [
    {
     "name": "stdout",
     "output_type": "stream",
     "text": [
      "     name gender  age  score\n",
      "0    Snow      M   22     80\n",
      "1  Tyrion      M   32     98\n",
      "2   Sansa      F   18     67\n",
      "3    Arya      F   14     88\n"
     ]
    }
   ],
   "source": [
    "import pandas as pd\n",
    "df1 = pd.DataFrame([['Snow','M',22],['Tyrion','M',32],['Sansa','F',18],['Arya','F',14]],\n",
    "                   columns=['name','gender','age'])\n",
    "\n",
    "# 在数据框最后加上score一列\n",
    "df1['score']=[80,98,67,88]   # 增加列的元素个数要跟原数据列的个数一样\n",
    "print(df1)"
   ]
  },
  {
   "cell_type": "code",
   "execution_count": 18,
   "metadata": {},
   "outputs": [
    {
     "name": "stdout",
     "output_type": "stream",
     "text": [
      "<class 'list'>\n",
      "['name', 'gender', 'city', 'age', 'score']\n",
      "     name gender  age  score\n",
      "0    Snow      M   22     80\n",
      "1  Tyrion      M   32     98\n",
      "2   Sansa      F   18     67\n",
      "3    Arya      F   14     88\n",
      "     name gender  city  age  score\n",
      "0    Snow      M   NaN   22     80\n",
      "1  Tyrion      M   NaN   32     98\n",
      "2   Sansa      F   NaN   18     67\n",
      "3    Arya      F   NaN   14     88\n"
     ]
    },
    {
     "ename": "NameError",
     "evalue": "name '给city列赋值' is not defined",
     "output_type": "error",
     "traceback": [
      "\u001b[1;31m---------------------------------------------------------------------------\u001b[0m",
      "\u001b[1;31mNameError\u001b[0m                                 Traceback (most recent call last)",
      "\u001b[1;32m<ipython-input-18-91c8f720a0f7>\u001b[0m in \u001b[0;36m<module>\u001b[1;34m\u001b[0m\n\u001b[0;32m      8\u001b[0m \u001b[0mprint\u001b[0m\u001b[1;33m(\u001b[0m\u001b[0mdf1\u001b[0m\u001b[1;33m)\u001b[0m\u001b[1;33m\u001b[0m\u001b[1;33m\u001b[0m\u001b[0m\n\u001b[0;32m      9\u001b[0m \u001b[0mdf1\u001b[0m\u001b[1;33m[\u001b[0m\u001b[1;34m'city'\u001b[0m\u001b[1;33m]\u001b[0m\u001b[1;33m=\u001b[0m\u001b[1;33m[\u001b[0m\u001b[1;34m'北京'\u001b[0m\u001b[1;33m,\u001b[0m\u001b[1;34m'山西'\u001b[0m\u001b[1;33m,\u001b[0m\u001b[1;34m'湖北'\u001b[0m\u001b[1;33m,\u001b[0m\u001b[1;34m'澳门'\u001b[0m\u001b[1;33m]\u001b[0m\u001b[1;33m\u001b[0m\u001b[1;33m\u001b[0m\u001b[0m\n\u001b[1;32m---> 10\u001b[1;33m \u001b[0m给city列赋值\u001b[0m\u001b[1;33m\u001b[0m\u001b[1;33m\u001b[0m\u001b[0m\n\u001b[0m\u001b[0;32m     11\u001b[0m \u001b[0mprint\u001b[0m\u001b[1;33m(\u001b[0m\u001b[0mdf1\u001b[0m\u001b[1;33m)\u001b[0m\u001b[1;33m\u001b[0m\u001b[1;33m\u001b[0m\u001b[0m\n",
      "\u001b[1;31mNameError\u001b[0m: name '给city列赋值' is not defined"
     ]
    }
   ],
   "source": [
    "col_name=df1.columns.tolist()  \n",
    "print(type(col_name))\n",
    "# print(col_name)\n",
    "col_name.insert(2,'city')   \n",
    "print(col_name)\n",
    "print(df1)\n",
    "df1=df1.reindex(columns=col_name) \n",
    "print(df1)"
   ]
  },
  {
   "cell_type": "code",
   "execution_count": 19,
   "metadata": {},
   "outputs": [
    {
     "name": "stdout",
     "output_type": "stream",
     "text": [
      "     name gender city  age  score\n",
      "0    Snow      M   北京   22     80\n",
      "1  Tyrion      M   山西   32     98\n",
      "2   Sansa      F   湖北   18     67\n",
      "3    Arya      F   澳门   14     88\n"
     ]
    }
   ],
   "source": [
    "df1['city']=['北京','山西','湖北','澳门']  \n",
    "#给city列赋值\n",
    "print(df1)"
   ]
  },
  {
   "cell_type": "code",
   "execution_count": 24,
   "metadata": {},
   "outputs": [
    {
     "name": "stdout",
     "output_type": "stream",
     "text": [
      "     name gender  age\n",
      "0    Snow      M   22\n",
      "1  Tyrion      M   32\n",
      "2   Sansa      F   18\n",
      "3    Arya      F   14\n",
      "0    lisa      F   19\n"
     ]
    }
   ],
   "source": [
    "# 增加数据\n",
    "df1 = pd.DataFrame([['Snow','M',22],['Tyrion','M',32],['Sansa','F',18],['Arya','F',14]],columns=['name','gender','age'])\n",
    "\n",
    "new=pd.DataFrame({'name':'lisa',\n",
    "                  'gender':'F',\n",
    "                  'age':19\n",
    "                  },index=[0])\n",
    "# print(new)\n",
    "\n",
    "df1=df1.append(new,ignore_index=False) \n",
    "# ignore_index=True,表示不按原来的索引，从0开始自动递增\n",
    "print(df1)"
   ]
  },
  {
   "cell_type": "code",
   "execution_count": 26,
   "metadata": {},
   "outputs": [
    {
     "name": "stdout",
     "output_type": "stream",
     "text": [
      "   four  five\n",
      "0     0     1\n",
      "1     2     3\n",
      "2     4     5\n",
      "   one  two  three\n",
      "0    0    1      2\n",
      "1    3    4      5\n"
     ]
    }
   ],
   "source": [
    "import numpy as np\n",
    "df1 = pd.DataFrame(np.arange(6).reshape(3,2),columns=['four','five'])\n",
    "df2 = pd.DataFrame(np.arange(6).reshape(2,3),columns=['one','two','three'])\n",
    "print(df1)\n",
    "print(df2)\n"
   ]
  },
  {
   "cell_type": "code",
   "execution_count": 32,
   "metadata": {},
   "outputs": [
    {
     "name": "stdout",
     "output_type": "stream",
     "text": [
      "   four  five  one  two  three\n",
      "0   0.0   1.0  NaN  NaN    NaN\n",
      "1   2.0   3.0  NaN  NaN    NaN\n",
      "2   4.0   5.0  NaN  NaN    NaN\n",
      "0   NaN   NaN  0.0  1.0    2.0\n",
      "1   NaN   NaN  3.0  4.0    5.0\n",
      "   four  five  one  two  three\n",
      "0     0     1  0.0  1.0    2.0\n",
      "1     2     3  3.0  4.0    5.0\n",
      "2     4     5  NaN  NaN    NaN\n"
     ]
    }
   ],
   "source": [
    "result1 = pd.concat([df1,df2],axis=0)\n",
    "print(result1)\n",
    "result2 = pd.concat([df1,df2],axis=1)\n",
    "print(result2)"
   ]
  },
  {
   "cell_type": "code",
   "execution_count": 34,
   "metadata": {},
   "outputs": [
    {
     "name": "stdout",
     "output_type": "stream",
     "text": [
      "   one  two  three\n",
      "0    0    1      2\n",
      "1    3    4      5\n",
      "2    6    7      8\n",
      "   one  two  three\n",
      "0    0    1      2\n",
      "1    3    4      5\n",
      "2    6    7      8\n",
      "   one  two  three\n",
      "2    6    7      8\n"
     ]
    }
   ],
   "source": [
    "df2 = pd.DataFrame(np.arange(9).reshape(3,3),columns=['one','two','three'])\n",
    "print(df2)\n",
    "# df3=df2.drop(['one'],axis=1, inplace=True)\n",
    "df3=df2.drop([0,1],axis=0, inplace=False)\n",
    "print(df2)\n",
    "print(df3)"
   ]
  },
  {
   "cell_type": "code",
   "execution_count": 38,
   "metadata": {},
   "outputs": [
    {
     "name": "stdout",
     "output_type": "stream",
     "text": [
      "0    4.0\n",
      "1    NaN\n",
      "2    8.0\n",
      "3    NaN\n",
      "4    5.0\n",
      "dtype: float64\n",
      "0    4.0\n",
      "2    8.0\n",
      "4    5.0\n",
      "dtype: float64\n",
      "0     True\n",
      "1    False\n",
      "2     True\n",
      "3    False\n",
      "4     True\n",
      "dtype: bool\n",
      "0    False\n",
      "1     True\n",
      "2    False\n",
      "3     True\n",
      "4    False\n",
      "dtype: bool\n"
     ]
    }
   ],
   "source": [
    "from numpy import nan as NaN\n",
    "# 通过**dropna()**滤除缺失数据：\n",
    "se=pd.Series([4,NaN,8,NaN,5])\n",
    "print(se)\n",
    "print(se.dropna())\n",
    "print(se.notnull())\n",
    "print(se.isnull())"
   ]
  },
  {
   "cell_type": "code",
   "execution_count": 41,
   "metadata": {},
   "outputs": [
    {
     "name": "stdout",
     "output_type": "stream",
     "text": [
      "0    4.0\n",
      "1    NaN\n",
      "2    8.0\n",
      "3    NaN\n",
      "4    5.0\n",
      "dtype: float64\n",
      "0    4.0\n",
      "2    8.0\n",
      "4    5.0\n",
      "dtype: float64\n"
     ]
    }
   ],
   "source": [
    "print(se)\n",
    "print(se[se.notnull()])\n"
   ]
  },
  {
   "cell_type": "code",
   "execution_count": 46,
   "metadata": {},
   "outputs": [
    {
     "name": "stdout",
     "output_type": "stream",
     "text": [
      "     0    1    2\n",
      "0  1.0  2.0  3.0\n",
      "1  NaN  NaN  2.0\n",
      "2  NaN  NaN  NaN\n",
      "3  8.0  8.0  NaN\n",
      "     0    1    2\n",
      "0  1.0  2.0  3.0\n",
      "     0    1    2\n",
      "0  1.0  2.0  3.0\n",
      "1  NaN  NaN  2.0\n",
      "3  8.0  8.0  NaN\n",
      "     0    1    2\n",
      "0  1.0  2.0  3.0\n",
      "1  NaN  NaN  2.0\n",
      "2  NaN  NaN  NaN\n",
      "3  8.0  8.0  NaN\n",
      "     0    1    2\n",
      "0  1.0  2.0  3.0\n",
      "1  NaN  NaN  2.0\n",
      "3  8.0  8.0  NaN\n"
     ]
    }
   ],
   "source": [
    "df1=pd.DataFrame([[1,2,3],[NaN,NaN,2],[NaN,NaN,NaN],[8,8,NaN]])\n",
    "print(df1)\n",
    "\n",
    "# 默认滤除所有包含NaN：\n",
    "print(df1.dropna())\n",
    "\n",
    "# 传入how=‘all’滤除全为NaN的行：\n",
    "print(df1.dropna(how='all')) # 默认情况下是how='any'，只要有nan就删除\n",
    "\n",
    "# 传入axis=1滤除列：\n",
    "print(df1.dropna(axis=1,how=\"all\"))\n",
    "\n",
    "#传入thresh=n保留至少有n个非NaN数据的行：\n",
    "print(df1.dropna(thresh=1))"
   ]
  },
  {
   "cell_type": "code",
   "execution_count": 54,
   "metadata": {},
   "outputs": [
    {
     "name": "stdout",
     "output_type": "stream",
     "text": [
      "     0    1    2\n",
      "0  1.0  2.0  3.0\n",
      "1  NaN  NaN  2.0\n",
      "2  NaN  NaN  NaN\n",
      "3  8.0  8.0  NaN\n",
      "      0     1     2\n",
      "0   1.0   2.0   3.0\n",
      "1  10.0  20.0   2.0\n",
      "2  10.0  20.0  30.0\n",
      "3   8.0   8.0  30.0\n",
      "None\n",
      "     0    1    2\n",
      "0  1.0  2.0  3.0\n",
      "1  NaN  5.0  2.0\n",
      "2  NaN  5.0  NaN\n",
      "3  8.0  8.0  NaN\n"
     ]
    }
   ],
   "source": [
    "df1=pd.DataFrame([[1,2,3],[NaN,NaN,2],[NaN,NaN,NaN],[8,8,NaN]])\n",
    "print(df1)\n",
    "\n",
    "# 用常数填充fillna\n",
    "# print(df1.fillna(0))\n",
    "\n",
    "#传入inplace=True直接修改原对象：\n",
    "# df1.fillna(0,inplace=True)\n",
    "# print(df1)\n",
    "\n",
    "# 通过字典填充不同的常数\n",
    "print(df1.fillna({0.:10,1:20,2:30})) \n",
    "print(df1.iloc[:,1].fillna(5,inplace = True))\n",
    "print(df1)"
   ]
  },
  {
   "cell_type": "code",
   "execution_count": 58,
   "metadata": {},
   "outputs": [
    {
     "name": "stdout",
     "output_type": "stream",
     "text": [
      "   0  1  2    3    4\n",
      "0  6  0  1  1.0  9.0\n",
      "1  7  7  4  NaN  0.0\n",
      "2  3  6  4  NaN  NaN\n",
      "3  7  6  8  NaN  NaN\n",
      "4  0  2  8  7.0  7.0\n",
      "   0  1  2    3    4\n",
      "0  6  0  1  1.0  9.0\n",
      "1  7  7  4  NaN  0.0\n",
      "2  3  6  4  NaN  NaN\n",
      "3  7  6  8  7.0  7.0\n",
      "4  0  2  8  7.0  7.0\n"
     ]
    }
   ],
   "source": [
    "df2=pd.DataFrame(np.random.randint(0,10,(5,5)))\n",
    "df2.iloc[1:4,3]=NaN\n",
    "df2.iloc[2:4,4]=NaN\n",
    "print(df2)\n",
    "print(df2.fillna(method='bfill',limit=1))"
   ]
  },
  {
   "cell_type": "code",
   "execution_count": 60,
   "metadata": {},
   "outputs": [
    {
     "name": "stdout",
     "output_type": "stream",
     "text": [
      "   A  B\n",
      "0  1  a\n",
      "1  1  a\n",
      "2  1  b\n",
      "3  2  b\n",
      "4  2  b\n",
      "5  3  c\n",
      "6  1  a\n",
      "0    False\n",
      "1     True\n",
      "2    False\n",
      "3    False\n",
      "4     True\n",
      "5    False\n",
      "6     True\n",
      "dtype: bool\n"
     ]
    }
   ],
   "source": [
    "df1=pd.DataFrame({'A':[1,1,1,2,2,3,1],'B':list(\"aabbbca\")})\n",
    "print(df1)\n",
    "print(df1.duplicated())"
   ]
  },
  {
   "cell_type": "code",
   "execution_count": 67,
   "metadata": {},
   "outputs": [
    {
     "name": "stdout",
     "output_type": "stream",
     "text": [
      "   Red  Green\n",
      "a    1      5\n",
      "b    3      0\n",
      "c    5      3\n",
      "   Blue  Yellow\n",
      "c     1       6\n",
      "d     9       6\n",
      "e     8       7\n",
      "   Red  Green  Blue  Yellow\n",
      "a    1      5   NaN     NaN\n",
      "b    3      0   NaN     NaN\n",
      "c    5      3   1.0     6.0\n",
      "   Red  Green  Blue  Yellow\n",
      "c  5.0    3.0     1       6\n",
      "d  NaN    NaN     9       6\n",
      "e  NaN    NaN     8       7\n",
      "   Red  Green  Blue  Yellow\n",
      "a  1.0    5.0   NaN     NaN\n",
      "b  3.0    0.0   NaN     NaN\n",
      "c  5.0    3.0   1.0     6.0\n",
      "d  NaN    NaN   9.0     6.0\n",
      "e  NaN    NaN   8.0     7.0\n",
      "   Red  Green  Blue  Yellow\n",
      "c    5      3     1       6\n"
     ]
    }
   ],
   "source": [
    "df3=pd.DataFrame({'Red':[1,3,5],'Green':[5,0,3]},index=list('abc'))\n",
    "df4=pd.DataFrame({'Blue':[1,9,8],'Yellow':[6,6,7]},index=list('cde'))\n",
    "print(df3)\n",
    "print(df4)\n",
    "df5=df3.join(df4,how='left')\n",
    "print(df5)\n",
    "df6=df3.join(df4,how='right')\n",
    "print(df6)\n",
    "df7=df3.join(df4,how='outer')\n",
    "print(df7)\n",
    "df8=df3.join(df4,how='inner')\n",
    "print(df8)"
   ]
  },
  {
   "cell_type": "code",
   "execution_count": 73,
   "metadata": {},
   "outputs": [
    {
     "name": "stdout",
     "output_type": "stream",
     "text": [
      "     名字 性别   职称\n",
      "1001  A  男  副教授\n",
      "1002  B  女   讲师\n",
      "1003  C  男   助教\n",
      "1004  D  男   教授\n",
      "1005  E  女   助教\n",
      "     名字     课程   职称\n",
      "1001  A    C++  副教授\n",
      "1002  B  计算机导论   讲师\n",
      "1004  D     汇编   教授\n",
      "1001  A   数据结构  副教授\n",
      "3001  X  马克思原理   讲师\n",
      "  名字 性别 职称_1     课程 职称_2\n",
      "0  A  男  副教授    C++  副教授\n",
      "1  A  男  副教授   数据结构  副教授\n",
      "2  B  女   讲师  计算机导论   讲师\n",
      "3  D  男   教授     汇编   教授\n"
     ]
    }
   ],
   "source": [
    "df1=pd.DataFrame({'名字':list('ABCDE'),'性别':['男','女','男','男','女'],'职称':['副教授','讲师','助教','教授','助教']},index=range(1001,1006))\n",
    "# df1.columns.name='学院老师'\n",
    "# df1.index.name='编号'\n",
    "print(df1)\n",
    "df2=pd.DataFrame({'名字':list('ABDAX'),'课程':['C++','计算机导论','汇编','数据结构','马克思原理'],'职称':['副教授','讲师','教授','副教授','讲师']},index=[1001,1002,1004,1001,3001])\n",
    "# df2.columns.name='课程'\n",
    "# df2.index.name='编号'\n",
    "print(df2)\n",
    "pdm=pd.merge(df1,df2,on='名字',suffixes=['_1','_2'])\n",
    "print(pdm)"
   ]
  },
  {
   "cell_type": "code",
   "execution_count": 78,
   "metadata": {},
   "outputs": [
    {
     "name": "stdout",
     "output_type": "stream",
     "text": [
      "a      9\n",
      "b     28\n",
      "c    123\n",
      "d     26\n",
      "e    139\n",
      "f    112\n",
      "dtype: int32\n",
      "a  期中    136\n",
      "   期末    102\n",
      "b  期中     73\n",
      "   期末     69\n",
      "c  期中     32\n",
      "   期末     16\n",
      "dtype: int32\n"
     ]
    },
    {
     "ename": "KeyError",
     "evalue": "'期中'",
     "output_type": "error",
     "traceback": [
      "\u001b[1;31m---------------------------------------------------------------------------\u001b[0m",
      "\u001b[1;31mKeyError\u001b[0m                                  Traceback (most recent call last)",
      "\u001b[1;32mC:\\dev\\anaconda3\\envs\\py38\\lib\\site-packages\\pandas\\core\\indexes\\base.py\u001b[0m in \u001b[0;36mget_loc\u001b[1;34m(self, key, method, tolerance)\u001b[0m\n\u001b[0;32m   3079\u001b[0m             \u001b[1;32mtry\u001b[0m\u001b[1;33m:\u001b[0m\u001b[1;33m\u001b[0m\u001b[1;33m\u001b[0m\u001b[0m\n\u001b[1;32m-> 3080\u001b[1;33m                 \u001b[1;32mreturn\u001b[0m \u001b[0mself\u001b[0m\u001b[1;33m.\u001b[0m\u001b[0m_engine\u001b[0m\u001b[1;33m.\u001b[0m\u001b[0mget_loc\u001b[0m\u001b[1;33m(\u001b[0m\u001b[0mcasted_key\u001b[0m\u001b[1;33m)\u001b[0m\u001b[1;33m\u001b[0m\u001b[1;33m\u001b[0m\u001b[0m\n\u001b[0m\u001b[0;32m   3081\u001b[0m             \u001b[1;32mexcept\u001b[0m \u001b[0mKeyError\u001b[0m \u001b[1;32mas\u001b[0m \u001b[0merr\u001b[0m\u001b[1;33m:\u001b[0m\u001b[1;33m\u001b[0m\u001b[1;33m\u001b[0m\u001b[0m\n",
      "\u001b[1;32mpandas\\_libs\\index.pyx\u001b[0m in \u001b[0;36mpandas._libs.index.IndexEngine.get_loc\u001b[1;34m()\u001b[0m\n",
      "\u001b[1;32mpandas\\_libs\\index.pyx\u001b[0m in \u001b[0;36mpandas._libs.index.IndexEngine.get_loc\u001b[1;34m()\u001b[0m\n",
      "\u001b[1;32mpandas\\_libs\\hashtable_class_helper.pxi\u001b[0m in \u001b[0;36mpandas._libs.hashtable.PyObjectHashTable.get_item\u001b[1;34m()\u001b[0m\n",
      "\u001b[1;32mpandas\\_libs\\hashtable_class_helper.pxi\u001b[0m in \u001b[0;36mpandas._libs.hashtable.PyObjectHashTable.get_item\u001b[1;34m()\u001b[0m\n",
      "\u001b[1;31mKeyError\u001b[0m: '期中'",
      "\nThe above exception was the direct cause of the following exception:\n",
      "\u001b[1;31mKeyError\u001b[0m                                  Traceback (most recent call last)",
      "\u001b[1;32m<ipython-input-78-7e0cfc04fe07>\u001b[0m in \u001b[0;36m<module>\u001b[1;34m\u001b[0m\n\u001b[0;32m      5\u001b[0m            index=[['a','a','b','b','c','c'],['期中','期末','期中','期末','期中','期末']])\n\u001b[0;32m      6\u001b[0m \u001b[0mprint\u001b[0m\u001b[1;33m(\u001b[0m\u001b[0ms\u001b[0m\u001b[1;33m)\u001b[0m\u001b[1;33m\u001b[0m\u001b[1;33m\u001b[0m\u001b[0m\n\u001b[1;32m----> 7\u001b[1;33m \u001b[0mprint\u001b[0m\u001b[1;33m(\u001b[0m\u001b[0ms\u001b[0m\u001b[1;33m[\u001b[0m\u001b[1;34m'期中'\u001b[0m\u001b[1;33m]\u001b[0m\u001b[1;33m)\u001b[0m\u001b[1;33m\u001b[0m\u001b[1;33m\u001b[0m\u001b[0m\n\u001b[0m",
      "\u001b[1;32mC:\\dev\\anaconda3\\envs\\py38\\lib\\site-packages\\pandas\\core\\series.py\u001b[0m in \u001b[0;36m__getitem__\u001b[1;34m(self, key)\u001b[0m\n\u001b[0;32m    851\u001b[0m \u001b[1;33m\u001b[0m\u001b[0m\n\u001b[0;32m    852\u001b[0m         \u001b[1;32melif\u001b[0m \u001b[0mkey_is_scalar\u001b[0m\u001b[1;33m:\u001b[0m\u001b[1;33m\u001b[0m\u001b[1;33m\u001b[0m\u001b[0m\n\u001b[1;32m--> 853\u001b[1;33m             \u001b[1;32mreturn\u001b[0m \u001b[0mself\u001b[0m\u001b[1;33m.\u001b[0m\u001b[0m_get_value\u001b[0m\u001b[1;33m(\u001b[0m\u001b[0mkey\u001b[0m\u001b[1;33m)\u001b[0m\u001b[1;33m\u001b[0m\u001b[1;33m\u001b[0m\u001b[0m\n\u001b[0m\u001b[0;32m    854\u001b[0m \u001b[1;33m\u001b[0m\u001b[0m\n\u001b[0;32m    855\u001b[0m         \u001b[1;32mif\u001b[0m \u001b[0mis_hashable\u001b[0m\u001b[1;33m(\u001b[0m\u001b[0mkey\u001b[0m\u001b[1;33m)\u001b[0m\u001b[1;33m:\u001b[0m\u001b[1;33m\u001b[0m\u001b[1;33m\u001b[0m\u001b[0m\n",
      "\u001b[1;32mC:\\dev\\anaconda3\\envs\\py38\\lib\\site-packages\\pandas\\core\\series.py\u001b[0m in \u001b[0;36m_get_value\u001b[1;34m(self, label, takeable)\u001b[0m\n\u001b[0;32m    959\u001b[0m \u001b[1;33m\u001b[0m\u001b[0m\n\u001b[0;32m    960\u001b[0m         \u001b[1;31m# Similar to Index.get_value, but we do not fall back to positional\u001b[0m\u001b[1;33m\u001b[0m\u001b[1;33m\u001b[0m\u001b[1;33m\u001b[0m\u001b[0m\n\u001b[1;32m--> 961\u001b[1;33m         \u001b[0mloc\u001b[0m \u001b[1;33m=\u001b[0m \u001b[0mself\u001b[0m\u001b[1;33m.\u001b[0m\u001b[0mindex\u001b[0m\u001b[1;33m.\u001b[0m\u001b[0mget_loc\u001b[0m\u001b[1;33m(\u001b[0m\u001b[0mlabel\u001b[0m\u001b[1;33m)\u001b[0m\u001b[1;33m\u001b[0m\u001b[1;33m\u001b[0m\u001b[0m\n\u001b[0m\u001b[0;32m    962\u001b[0m         \u001b[1;32mreturn\u001b[0m \u001b[0mself\u001b[0m\u001b[1;33m.\u001b[0m\u001b[0mindex\u001b[0m\u001b[1;33m.\u001b[0m\u001b[0m_get_values_for_loc\u001b[0m\u001b[1;33m(\u001b[0m\u001b[0mself\u001b[0m\u001b[1;33m,\u001b[0m \u001b[0mloc\u001b[0m\u001b[1;33m,\u001b[0m \u001b[0mlabel\u001b[0m\u001b[1;33m)\u001b[0m\u001b[1;33m\u001b[0m\u001b[1;33m\u001b[0m\u001b[0m\n\u001b[0;32m    963\u001b[0m \u001b[1;33m\u001b[0m\u001b[0m\n",
      "\u001b[1;32mC:\\dev\\anaconda3\\envs\\py38\\lib\\site-packages\\pandas\\core\\indexes\\multi.py\u001b[0m in \u001b[0;36mget_loc\u001b[1;34m(self, key, method)\u001b[0m\n\u001b[0;32m   2874\u001b[0m \u001b[1;33m\u001b[0m\u001b[0m\n\u001b[0;32m   2875\u001b[0m         \u001b[1;32mif\u001b[0m \u001b[1;32mnot\u001b[0m \u001b[0misinstance\u001b[0m\u001b[1;33m(\u001b[0m\u001b[0mkey\u001b[0m\u001b[1;33m,\u001b[0m \u001b[0mtuple\u001b[0m\u001b[1;33m)\u001b[0m\u001b[1;33m:\u001b[0m\u001b[1;33m\u001b[0m\u001b[1;33m\u001b[0m\u001b[0m\n\u001b[1;32m-> 2876\u001b[1;33m             \u001b[0mloc\u001b[0m \u001b[1;33m=\u001b[0m \u001b[0mself\u001b[0m\u001b[1;33m.\u001b[0m\u001b[0m_get_level_indexer\u001b[0m\u001b[1;33m(\u001b[0m\u001b[0mkey\u001b[0m\u001b[1;33m,\u001b[0m \u001b[0mlevel\u001b[0m\u001b[1;33m=\u001b[0m\u001b[1;36m0\u001b[0m\u001b[1;33m)\u001b[0m\u001b[1;33m\u001b[0m\u001b[1;33m\u001b[0m\u001b[0m\n\u001b[0m\u001b[0;32m   2877\u001b[0m             \u001b[1;32mreturn\u001b[0m \u001b[0m_maybe_to_slice\u001b[0m\u001b[1;33m(\u001b[0m\u001b[0mloc\u001b[0m\u001b[1;33m)\u001b[0m\u001b[1;33m\u001b[0m\u001b[1;33m\u001b[0m\u001b[0m\n\u001b[0;32m   2878\u001b[0m \u001b[1;33m\u001b[0m\u001b[0m\n",
      "\u001b[1;32mC:\\dev\\anaconda3\\envs\\py38\\lib\\site-packages\\pandas\\core\\indexes\\multi.py\u001b[0m in \u001b[0;36m_get_level_indexer\u001b[1;34m(self, key, level, indexer)\u001b[0m\n\u001b[0;32m   3156\u001b[0m         \u001b[1;32melse\u001b[0m\u001b[1;33m:\u001b[0m\u001b[1;33m\u001b[0m\u001b[1;33m\u001b[0m\u001b[0m\n\u001b[0;32m   3157\u001b[0m \u001b[1;33m\u001b[0m\u001b[0m\n\u001b[1;32m-> 3158\u001b[1;33m             \u001b[0midx\u001b[0m \u001b[1;33m=\u001b[0m \u001b[0mself\u001b[0m\u001b[1;33m.\u001b[0m\u001b[0m_get_loc_single_level_index\u001b[0m\u001b[1;33m(\u001b[0m\u001b[0mlevel_index\u001b[0m\u001b[1;33m,\u001b[0m \u001b[0mkey\u001b[0m\u001b[1;33m)\u001b[0m\u001b[1;33m\u001b[0m\u001b[1;33m\u001b[0m\u001b[0m\n\u001b[0m\u001b[0;32m   3159\u001b[0m \u001b[1;33m\u001b[0m\u001b[0m\n\u001b[0;32m   3160\u001b[0m             \u001b[1;32mif\u001b[0m \u001b[0mlevel\u001b[0m \u001b[1;33m>\u001b[0m \u001b[1;36m0\u001b[0m \u001b[1;32mor\u001b[0m \u001b[0mself\u001b[0m\u001b[1;33m.\u001b[0m\u001b[0mlexsort_depth\u001b[0m \u001b[1;33m==\u001b[0m \u001b[1;36m0\u001b[0m\u001b[1;33m:\u001b[0m\u001b[1;33m\u001b[0m\u001b[1;33m\u001b[0m\u001b[0m\n",
      "\u001b[1;32mC:\\dev\\anaconda3\\envs\\py38\\lib\\site-packages\\pandas\\core\\indexes\\multi.py\u001b[0m in \u001b[0;36m_get_loc_single_level_index\u001b[1;34m(self, level_index, key)\u001b[0m\n\u001b[0;32m   2807\u001b[0m             \u001b[1;32mreturn\u001b[0m \u001b[1;33m-\u001b[0m\u001b[1;36m1\u001b[0m\u001b[1;33m\u001b[0m\u001b[1;33m\u001b[0m\u001b[0m\n\u001b[0;32m   2808\u001b[0m         \u001b[1;32melse\u001b[0m\u001b[1;33m:\u001b[0m\u001b[1;33m\u001b[0m\u001b[1;33m\u001b[0m\u001b[0m\n\u001b[1;32m-> 2809\u001b[1;33m             \u001b[1;32mreturn\u001b[0m \u001b[0mlevel_index\u001b[0m\u001b[1;33m.\u001b[0m\u001b[0mget_loc\u001b[0m\u001b[1;33m(\u001b[0m\u001b[0mkey\u001b[0m\u001b[1;33m)\u001b[0m\u001b[1;33m\u001b[0m\u001b[1;33m\u001b[0m\u001b[0m\n\u001b[0m\u001b[0;32m   2810\u001b[0m \u001b[1;33m\u001b[0m\u001b[0m\n\u001b[0;32m   2811\u001b[0m     \u001b[1;32mdef\u001b[0m \u001b[0mget_loc\u001b[0m\u001b[1;33m(\u001b[0m\u001b[0mself\u001b[0m\u001b[1;33m,\u001b[0m \u001b[0mkey\u001b[0m\u001b[1;33m,\u001b[0m \u001b[0mmethod\u001b[0m\u001b[1;33m=\u001b[0m\u001b[1;32mNone\u001b[0m\u001b[1;33m)\u001b[0m\u001b[1;33m:\u001b[0m\u001b[1;33m\u001b[0m\u001b[1;33m\u001b[0m\u001b[0m\n",
      "\u001b[1;32mC:\\dev\\anaconda3\\envs\\py38\\lib\\site-packages\\pandas\\core\\indexes\\base.py\u001b[0m in \u001b[0;36mget_loc\u001b[1;34m(self, key, method, tolerance)\u001b[0m\n\u001b[0;32m   3080\u001b[0m                 \u001b[1;32mreturn\u001b[0m \u001b[0mself\u001b[0m\u001b[1;33m.\u001b[0m\u001b[0m_engine\u001b[0m\u001b[1;33m.\u001b[0m\u001b[0mget_loc\u001b[0m\u001b[1;33m(\u001b[0m\u001b[0mcasted_key\u001b[0m\u001b[1;33m)\u001b[0m\u001b[1;33m\u001b[0m\u001b[1;33m\u001b[0m\u001b[0m\n\u001b[0;32m   3081\u001b[0m             \u001b[1;32mexcept\u001b[0m \u001b[0mKeyError\u001b[0m \u001b[1;32mas\u001b[0m \u001b[0merr\u001b[0m\u001b[1;33m:\u001b[0m\u001b[1;33m\u001b[0m\u001b[1;33m\u001b[0m\u001b[0m\n\u001b[1;32m-> 3082\u001b[1;33m                 \u001b[1;32mraise\u001b[0m \u001b[0mKeyError\u001b[0m\u001b[1;33m(\u001b[0m\u001b[0mkey\u001b[0m\u001b[1;33m)\u001b[0m \u001b[1;32mfrom\u001b[0m \u001b[0merr\u001b[0m\u001b[1;33m\u001b[0m\u001b[1;33m\u001b[0m\u001b[0m\n\u001b[0m\u001b[0;32m   3083\u001b[0m \u001b[1;33m\u001b[0m\u001b[0m\n\u001b[0;32m   3084\u001b[0m         \u001b[1;32mif\u001b[0m \u001b[0mtolerance\u001b[0m \u001b[1;32mis\u001b[0m \u001b[1;32mnot\u001b[0m \u001b[1;32mNone\u001b[0m\u001b[1;33m:\u001b[0m\u001b[1;33m\u001b[0m\u001b[1;33m\u001b[0m\u001b[0m\n",
      "\u001b[1;31mKeyError\u001b[0m: '期中'"
     ]
    }
   ],
   "source": [
    "from pandas import Series,DataFrame\n",
    "s1 = Series(np.random.randint(0,150,size=6),index=list('abcdef'))\n",
    "print(s1)\n",
    "s2 = Series(np.random.randint(0,150,size=6),\n",
    "           index=[['a','a','b','b','c','c'],['期中','期末','期中','期末','期中','期末']])\n",
    "print(s2)\n",
    "# print(s2['期中'])"
   ]
  },
  {
   "cell_type": "code",
   "execution_count": null,
   "metadata": {},
   "outputs": [],
   "source": []
  }
 ],
 "metadata": {
  "kernelspec": {
   "display_name": "py38",
   "language": "python",
   "name": "py38"
  },
  "language_info": {
   "codemirror_mode": {
    "name": "ipython",
    "version": 3
   },
   "file_extension": ".py",
   "mimetype": "text/x-python",
   "name": "python",
   "nbconvert_exporter": "python",
   "pygments_lexer": "ipython3",
   "version": "3.8.8"
  }
 },
 "nbformat": 4,
 "nbformat_minor": 4
}
