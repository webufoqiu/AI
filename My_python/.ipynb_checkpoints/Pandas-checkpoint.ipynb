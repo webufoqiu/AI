{
 "cells": [
  {
   "cell_type": "markdown",
   "metadata": {},
   "source": [
    "### 足球球员各项技能及其身价的csv表，包含了60多个字段 http://sofasofa.io/competition.php?id=7#c2"
   ]
  },
  {
   "cell_type": "code",
   "execution_count": 1,
   "metadata": {},
   "outputs": [
    {
     "name": "stdout",
     "output_type": "stream",
     "text": [
      "<class 'pandas.core.frame.DataFrame'>\n",
      "RangeIndex: 10441 entries, 0 to 10440\n",
      "Data columns (total 65 columns):\n",
      " #   Column                    Non-Null Count  Dtype  \n",
      "---  ------                    --------------  -----  \n",
      " 0   id                        10441 non-null  int64  \n",
      " 1   club                      10441 non-null  int64  \n",
      " 2   league                    10441 non-null  int64  \n",
      " 3   birth_date                10441 non-null  object \n",
      " 4   height_cm                 10441 non-null  int64  \n",
      " 5   weight_kg                 10441 non-null  int64  \n",
      " 6   nationality               10441 non-null  int64  \n",
      " 7   potential                 10441 non-null  int64  \n",
      " 8   pac                       10441 non-null  int64  \n",
      " 9   sho                       10441 non-null  int64  \n",
      " 10  pas                       10441 non-null  int64  \n",
      " 11  dri                       10441 non-null  int64  \n",
      " 12  def                       10441 non-null  int64  \n",
      " 13  phy                       10441 non-null  int64  \n",
      " 14  international_reputation  10441 non-null  int64  \n",
      " 15  skill_moves               10441 non-null  int64  \n",
      " 16  weak_foot                 10441 non-null  int64  \n",
      " 17  work_rate_att             10441 non-null  object \n",
      " 18  work_rate_def             10441 non-null  object \n",
      " 19  preferred_foot            10441 non-null  int64  \n",
      " 20  crossing                  10441 non-null  int64  \n",
      " 21  finishing                 10441 non-null  int64  \n",
      " 22  heading_accuracy          10441 non-null  int64  \n",
      " 23  short_passing             10441 non-null  int64  \n",
      " 24  volleys                   10441 non-null  int64  \n",
      " 25  dribbling                 10441 non-null  int64  \n",
      " 26  curve                     10441 non-null  int64  \n",
      " 27  free_kick_accuracy        10441 non-null  int64  \n",
      " 28  long_passing              10441 non-null  int64  \n",
      " 29  ball_control              10441 non-null  int64  \n",
      " 30  acceleration              10441 non-null  int64  \n",
      " 31  sprint_speed              10441 non-null  int64  \n",
      " 32  agility                   10441 non-null  int64  \n",
      " 33  reactions                 10441 non-null  int64  \n",
      " 34  balance                   10441 non-null  int64  \n",
      " 35  shot_power                10441 non-null  int64  \n",
      " 36  jumping                   10441 non-null  int64  \n",
      " 37  stamina                   10441 non-null  int64  \n",
      " 38  strength                  10441 non-null  int64  \n",
      " 39  long_shots                10441 non-null  int64  \n",
      " 40  aggression                10441 non-null  int64  \n",
      " 41  interceptions             10441 non-null  int64  \n",
      " 42  positioning               10441 non-null  int64  \n",
      " 43  vision                    10441 non-null  int64  \n",
      " 44  penalties                 10441 non-null  int64  \n",
      " 45  marking                   10441 non-null  int64  \n",
      " 46  standing_tackle           10441 non-null  int64  \n",
      " 47  sliding_tackle            10441 non-null  int64  \n",
      " 48  gk_diving                 10441 non-null  int64  \n",
      " 49  gk_handling               10441 non-null  int64  \n",
      " 50  gk_kicking                10441 non-null  int64  \n",
      " 51  gk_positioning            10441 non-null  int64  \n",
      " 52  gk_reflexes               10441 non-null  int64  \n",
      " 53  rw                        9315 non-null   float64\n",
      " 54  rb                        9315 non-null   float64\n",
      " 55  st                        9315 non-null   float64\n",
      " 56  lw                        9315 non-null   float64\n",
      " 57  cf                        9315 non-null   float64\n",
      " 58  cam                       9315 non-null   float64\n",
      " 59  cm                        9315 non-null   float64\n",
      " 60  cdm                       9315 non-null   float64\n",
      " 61  cb                        9315 non-null   float64\n",
      " 62  lb                        9315 non-null   float64\n",
      " 63  gk                        1126 non-null   float64\n",
      " 64  y                         10441 non-null  float64\n",
      "dtypes: float64(12), int64(50), object(3)\n",
      "memory usage: 5.2+ MB\n",
      "None\n"
     ]
    }
   ],
   "source": [
    "import pandas as pd\n",
    "import matplotlib.pyplot as plt\n",
    "\n",
    "data = pd.read_csv('data/train.csv')\n",
    "print(data.info())"
   ]
  },
  {
   "cell_type": "code",
   "execution_count": 3,
   "metadata": {},
   "outputs": [
    {
     "name": "stdout",
     "output_type": "stream",
     "text": [
      "          id  club  league birth_date  height_cm  weight_kg  nationality  \\\n",
      "1          1   258      24    9/21/84        178         70           51   \n",
      "4          4    80      37     8/4/80        179         75           96   \n",
      "5          5   213      35     8/2/81        172         67           43   \n",
      "13        13   593      11    7/11/98        184         75           29   \n",
      "14        14   359      26    2/29/92        183         71           64   \n",
      "...      ...   ...     ...        ...        ...        ...          ...   \n",
      "10432  10432   506      15    2/27/87        158         56          155   \n",
      "10433  10433   449       5    1/27/97        189         83          163   \n",
      "10436  10436   277       9    5/24/98        176         79            1   \n",
      "10437  10437   101       8    7/27/91        178         68          147   \n",
      "10440  10440   234      18    6/12/89        185         88           65   \n",
      "\n",
      "       potential  pac  sho  ...    st    lw    cf   cam    cm   cdm    cb  \\\n",
      "1             62   56   39  ...  52.0  60.0  57.0  59.0  61.0  64.0  61.0   \n",
      "4             72   40   62  ...  62.0  66.0  65.0  68.0  71.0  70.0  66.0   \n",
      "5             67   67   47  ...  54.0  59.0  57.0  60.0  63.0  65.0  64.0   \n",
      "13            68   65   44  ...  49.0  52.0  51.0  52.0  49.0  44.0  41.0   \n",
      "14            74   74   56  ...  67.0  70.0  69.0  70.0  73.0  73.0  71.0   \n",
      "...          ...  ...  ...  ...   ...   ...   ...   ...   ...   ...   ...   \n",
      "10432         72   78   68  ...  69.0  75.0  74.0  75.0  71.0  63.0  55.0   \n",
      "10433         81   66   35  ...  51.0  53.0  52.0  55.0  60.0  66.0  67.0   \n",
      "10436         75   74   43  ...  52.0  54.0  53.0  52.0  52.0  58.0  60.0   \n",
      "10437         62   66   38  ...  50.0  54.0  52.0  54.0  56.0  60.0  60.0   \n",
      "10440         71   63   37  ...  52.0  54.0  52.0  53.0  56.0  64.0  68.0   \n",
      "\n",
      "         lb  gk      y  \n",
      "1      64.0 NaN   24.0  \n",
      "4      64.0 NaN   97.5  \n",
      "5      66.0 NaN   16.0  \n",
      "13     45.0 NaN    6.0  \n",
      "14     73.0 NaN  500.0  \n",
      "...     ...  ..    ...  \n",
      "10432  63.0 NaN  290.0  \n",
      "10433  64.0 NaN  150.0  \n",
      "10436  62.0 NaN   55.0  \n",
      "10437  60.0 NaN   25.0  \n",
      "10440  63.0 NaN  100.0  \n",
      "\n",
      "[4486 rows x 65 columns]\n"
     ]
    }
   ],
   "source": [
    "print(data.query('lw>cf'))      # 这两个方法是等价的\n",
    "# print(data[data.lw > data.cf])  # 这两个方法是等价的\n",
    "#\n",
    "#lw\t球员在左边锋位置的能力值。数值变量。\n",
    "#cf\t球员在锋线位置的能力值。数值变量。"
   ]
  },
  {
   "cell_type": "code",
   "execution_count": 4,
   "metadata": {},
   "outputs": [
    {
     "name": "stdout",
     "output_type": "stream",
     "text": [
      "Medium    7155\n",
      "High      2762\n",
      "Low        524\n",
      "Name: work_rate_att, dtype: int64\n"
     ]
    }
   ],
   "source": [
    "print(data.work_rate_att.value_counts())\n",
    "#work_rate_att\t球员进攻的倾向。分类变量，Low, Medium, High。"
   ]
  },
  {
   "cell_type": "code",
   "execution_count": null,
   "metadata": {},
   "outputs": [],
   "source": []
  }
 ],
 "metadata": {
  "kernelspec": {
   "display_name": "py38",
   "language": "python",
   "name": "py38"
  },
  "language_info": {
   "codemirror_mode": {
    "name": "ipython",
    "version": 3
   },
   "file_extension": ".py",
   "mimetype": "text/x-python",
   "name": "python",
   "nbconvert_exporter": "python",
   "pygments_lexer": "ipython3",
   "version": "3.8.8"
  }
 },
 "nbformat": 4,
 "nbformat_minor": 4
}
