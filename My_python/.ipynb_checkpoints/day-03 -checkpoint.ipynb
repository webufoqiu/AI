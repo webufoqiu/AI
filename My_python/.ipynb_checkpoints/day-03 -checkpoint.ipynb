{
 "cells": [
  {
   "cell_type": "markdown",
   "metadata": {},
   "source": [
    "## day-03 "
   ]
  },
  {
   "cell_type": "markdown",
   "metadata": {},
   "source": [
    "### 实现拓扑排序"
   ]
  },
  {
   "cell_type": "code",
   "execution_count": 15,
   "metadata": {},
   "outputs": [
    {
     "data": {
      "text/plain": [
       "{1, 4}"
      ]
     },
     "execution_count": 15,
     "metadata": {},
     "output_type": "execute_result"
    }
   ],
   "source": [
    "import random\n",
    "list_a=[1,2,3,4]\n",
    "list_b=[2,3]\n",
    "\n",
    "#利用集合\n",
    "set(list_a)-set(list_b)   #只出现在a中，"
   ]
  },
  {
   "cell_type": "code",
   "execution_count": 2,
   "metadata": {},
   "outputs": [],
   "source": [
    "simple_graph={\n",
    "    'a': [1,2],\n",
    "    'b':[3,4]\n",
    "}"
   ]
  },
  {
   "cell_type": "code",
   "execution_count": 12,
   "metadata": {},
   "outputs": [
    {
     "data": {
      "text/plain": [
       "[[1, 2], [3, 4]]"
      ]
     },
     "execution_count": 12,
     "metadata": {},
     "output_type": "execute_result"
    }
   ],
   "source": [
    "simple_graph.keys()\n",
    "list(simple_graph.keys())\n",
    "list(simple_graph.values())\n",
    "from functools import reduce\n",
    "reduce(lambda a,b: a+b ,list(simple_graph.values()))  #列表合并\n"
   ]
  },
  {
   "cell_type": "code",
   "execution_count": 44,
   "metadata": {},
   "outputs": [],
   "source": [
    "\n",
    "def topologic(graph):\n",
    "    '''graph: dict\n",
    "    {\n",
    "        x:[linear],\n",
    "        b:[linear],\n",
    "        k:[linear],\n",
    "        linear: [sigmoid],\n",
    "        sigmoid: [loss],\n",
    "        y:[loss],\n",
    "    }\n",
    "    '''\n",
    "    sorted_node=[]\n",
    "    while graph:\n",
    "        \n",
    "        all_nodes_have_inputs=reduce(lambda a,b: a+b ,list(graph.values()))\n",
    "        print(all_nodes_have_inputs)\n",
    "        all_nodes_have_outputs=list(graph.keys())\n",
    "        print(all_nodes_have_outputs)\n",
    "        \n",
    "        all_nodes_only_have_output_no_input=set(all_nodes_have_outputs)-set(all_nodes_have_inputs)\n",
    "        print(all_nodes_only_have_output_no_input)\n",
    "        \n",
    "        if all_nodes_only_have_output_no_input:\n",
    "            \n",
    "            node=random.choice(list(all_nodes_only_have_output_no_input))\n",
    "            \n",
    "            graph.pop(node)\n",
    "            sorted_node.append(node)\n",
    "            \n",
    "            for _,links in graph.items():\n",
    "                if node in links: links.remove(node)\n",
    "        else:\n",
    "            raise TypeError('this graph has circle...')\n",
    "                    \n",
    "    return sorted_node"
   ]
  },
  {
   "cell_type": "code",
   "execution_count": 47,
   "metadata": {},
   "outputs": [
    {
     "name": "stdout",
     "output_type": "stream",
     "text": [
      "['linear', 'linear', 'linear', 'sigmoid', 'loss', 'loss']\n",
      "['x', 'k', 'b', 'linear', 'sigmoid', 'y']\n",
      "{'b', 'y', 'x', 'k'}\n",
      "['linear', 'linear', 'sigmoid', 'loss', 'loss']\n",
      "['x', 'b', 'linear', 'sigmoid', 'y']\n",
      "{'b', 'y', 'x'}\n",
      "['linear', 'sigmoid', 'loss', 'loss']\n",
      "['b', 'linear', 'sigmoid', 'y']\n",
      "{'b', 'y'}\n",
      "['sigmoid', 'loss', 'loss']\n",
      "['linear', 'sigmoid', 'y']\n",
      "{'y', 'linear'}\n",
      "['sigmoid', 'loss']\n",
      "['linear', 'sigmoid']\n",
      "{'linear'}\n",
      "['loss']\n",
      "['sigmoid']\n",
      "{'sigmoid'}\n"
     ]
    },
    {
     "data": {
      "text/plain": [
       "['k', 'x', 'b', 'y', 'linear', 'sigmoid']"
      ]
     },
     "execution_count": 47,
     "metadata": {},
     "output_type": "execute_result"
    }
   ],
   "source": [
    "import random\n",
    "x,k,b,linear,sigmoid,y,loss='x','k','b','linear','sigmoid','y','loss'\n",
    "test_graph={\n",
    "        'x':['linear'],\n",
    "        'k':['linear'],\n",
    "        'b':['linear'],       \n",
    "        'linear': ['sigmoid'],\n",
    "        'sigmoid': ['loss'],\n",
    "        'y':['loss'],\n",
    "    }\n",
    "\n",
    "topologic(test_graph)"
   ]
  },
  {
   "cell_type": "code",
   "execution_count": null,
   "metadata": {},
   "outputs": [],
   "source": []
  },
  {
   "cell_type": "code",
   "execution_count": null,
   "metadata": {},
   "outputs": [],
   "source": []
  }
 ],
 "metadata": {
  "kernelspec": {
   "display_name": "py38",
   "language": "python",
   "name": "py38"
  },
  "language_info": {
   "codemirror_mode": {
    "name": "ipython",
    "version": 3
   },
   "file_extension": ".py",
   "mimetype": "text/x-python",
   "name": "python",
   "nbconvert_exporter": "python",
   "pygments_lexer": "ipython3",
   "version": "3.8.8"
  }
 },
 "nbformat": 4,
 "nbformat_minor": 4
}
